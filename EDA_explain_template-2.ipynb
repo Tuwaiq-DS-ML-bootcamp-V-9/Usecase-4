{
  "cells": [
    {
      "cell_type": "code",
      "execution_count": 67,
      "id": "e69c4ba1-85f3-4a02-ae37-c64347a01803",
      "metadata": {
        "colab": {
          "base_uri": "https://localhost:8080/"
        },
        "id": "e69c4ba1-85f3-4a02-ae37-c64347a01803",
        "outputId": "285e8404-b1d5-4f0c-cb64-bfb4c5afa87f"
      },
      "outputs": [
        {
          "name": "stdout",
          "output_type": "stream",
          "text": [
            "Defaulting to user installation because normal site-packages is not writeable\n",
            "Requirement already satisfied: ydata_profiling in /Users/sara_almuwallad/Library/Python/3.9/lib/python/site-packages (4.12.2)\n",
            "Requirement already satisfied: scipy<1.16,>=1.4.1 in /Users/sara_almuwallad/Library/Python/3.9/lib/python/site-packages (from ydata_profiling) (1.13.1)\n",
            "Requirement already satisfied: pandas!=1.4.0,<3,>1.1 in /Users/sara_almuwallad/Library/Python/3.9/lib/python/site-packages (from ydata_profiling) (2.2.3)\n",
            "Requirement already satisfied: matplotlib>=3.5 in /Users/sara_almuwallad/Library/Python/3.9/lib/python/site-packages (from ydata_profiling) (3.9.4)\n",
            "Requirement already satisfied: pydantic>=2 in /Users/sara_almuwallad/Library/Python/3.9/lib/python/site-packages (from ydata_profiling) (2.10.6)\n",
            "Requirement already satisfied: PyYAML<6.1,>=5.0.0 in /Users/sara_almuwallad/Library/Python/3.9/lib/python/site-packages (from ydata_profiling) (6.0.2)\n",
            "Requirement already satisfied: jinja2<3.2,>=2.11.1 in /Users/sara_almuwallad/Library/Python/3.9/lib/python/site-packages (from ydata_profiling) (3.1.5)\n",
            "Requirement already satisfied: visions<0.8.0,>=0.7.5 in /Users/sara_almuwallad/Library/Python/3.9/lib/python/site-packages (from visions[type_image_path]<0.8.0,>=0.7.5->ydata_profiling) (0.7.6)\n",
            "Requirement already satisfied: numpy<2.2,>=1.16.0 in /Users/sara_almuwallad/Library/Python/3.9/lib/python/site-packages (from ydata_profiling) (2.0.2)\n",
            "Requirement already satisfied: htmlmin==0.1.12 in /Users/sara_almuwallad/Library/Python/3.9/lib/python/site-packages (from ydata_profiling) (0.1.12)\n",
            "Requirement already satisfied: phik<0.13,>=0.11.1 in /Users/sara_almuwallad/Library/Python/3.9/lib/python/site-packages (from ydata_profiling) (0.12.4)\n",
            "Requirement already satisfied: requests<3,>=2.24.0 in /Users/sara_almuwallad/Library/Python/3.9/lib/python/site-packages (from ydata_profiling) (2.32.3)\n",
            "Requirement already satisfied: tqdm<5,>=4.48.2 in /Users/sara_almuwallad/Library/Python/3.9/lib/python/site-packages (from ydata_profiling) (4.67.1)\n",
            "Requirement already satisfied: seaborn<0.14,>=0.10.1 in /Users/sara_almuwallad/Library/Python/3.9/lib/python/site-packages (from ydata_profiling) (0.13.2)\n",
            "Requirement already satisfied: multimethod<2,>=1.4 in /Users/sara_almuwallad/Library/Python/3.9/lib/python/site-packages (from ydata_profiling) (1.12)\n",
            "Requirement already satisfied: statsmodels<1,>=0.13.2 in /Users/sara_almuwallad/Library/Python/3.9/lib/python/site-packages (from ydata_profiling) (0.14.4)\n",
            "Requirement already satisfied: typeguard<5,>=3 in /Users/sara_almuwallad/Library/Python/3.9/lib/python/site-packages (from ydata_profiling) (4.4.2)\n",
            "Requirement already satisfied: imagehash==4.3.1 in /Users/sara_almuwallad/Library/Python/3.9/lib/python/site-packages (from ydata_profiling) (4.3.1)\n",
            "Requirement already satisfied: wordcloud>=1.9.3 in /Users/sara_almuwallad/Library/Python/3.9/lib/python/site-packages (from ydata_profiling) (1.9.4)\n",
            "Requirement already satisfied: dacite>=1.8 in /Users/sara_almuwallad/Library/Python/3.9/lib/python/site-packages (from ydata_profiling) (1.9.2)\n",
            "Requirement already satisfied: PyWavelets in /Users/sara_almuwallad/Library/Python/3.9/lib/python/site-packages (from imagehash==4.3.1->ydata_profiling) (1.6.0)\n",
            "Requirement already satisfied: pillow in /Users/sara_almuwallad/Library/Python/3.9/lib/python/site-packages (from imagehash==4.3.1->ydata_profiling) (11.1.0)\n",
            "Requirement already satisfied: MarkupSafe>=2.0 in /Users/sara_almuwallad/Library/Python/3.9/lib/python/site-packages (from jinja2<3.2,>=2.11.1->ydata_profiling) (3.0.2)\n",
            "Requirement already satisfied: contourpy>=1.0.1 in /Users/sara_almuwallad/Library/Python/3.9/lib/python/site-packages (from matplotlib>=3.5->ydata_profiling) (1.3.0)\n",
            "Requirement already satisfied: cycler>=0.10 in /Users/sara_almuwallad/Library/Python/3.9/lib/python/site-packages (from matplotlib>=3.5->ydata_profiling) (0.12.1)\n",
            "Requirement already satisfied: fonttools>=4.22.0 in /Users/sara_almuwallad/Library/Python/3.9/lib/python/site-packages (from matplotlib>=3.5->ydata_profiling) (4.56.0)\n",
            "Requirement already satisfied: kiwisolver>=1.3.1 in /Users/sara_almuwallad/Library/Python/3.9/lib/python/site-packages (from matplotlib>=3.5->ydata_profiling) (1.4.7)\n",
            "Requirement already satisfied: packaging>=20.0 in /Users/sara_almuwallad/Library/Python/3.9/lib/python/site-packages (from matplotlib>=3.5->ydata_profiling) (24.2)\n",
            "Requirement already satisfied: pyparsing>=2.3.1 in /Users/sara_almuwallad/Library/Python/3.9/lib/python/site-packages (from matplotlib>=3.5->ydata_profiling) (3.2.1)\n",
            "Requirement already satisfied: python-dateutil>=2.7 in /Users/sara_almuwallad/Library/Python/3.9/lib/python/site-packages (from matplotlib>=3.5->ydata_profiling) (2.9.0.post0)\n",
            "Requirement already satisfied: importlib-resources>=3.2.0 in /Users/sara_almuwallad/Library/Python/3.9/lib/python/site-packages (from matplotlib>=3.5->ydata_profiling) (6.5.2)\n",
            "Requirement already satisfied: pytz>=2020.1 in /Users/sara_almuwallad/Library/Python/3.9/lib/python/site-packages (from pandas!=1.4.0,<3,>1.1->ydata_profiling) (2025.1)\n",
            "Requirement already satisfied: tzdata>=2022.7 in /Users/sara_almuwallad/Library/Python/3.9/lib/python/site-packages (from pandas!=1.4.0,<3,>1.1->ydata_profiling) (2025.1)\n",
            "Requirement already satisfied: joblib>=0.14.1 in /Users/sara_almuwallad/Library/Python/3.9/lib/python/site-packages (from phik<0.13,>=0.11.1->ydata_profiling) (1.4.2)\n",
            "Requirement already satisfied: annotated-types>=0.6.0 in /Users/sara_almuwallad/Library/Python/3.9/lib/python/site-packages (from pydantic>=2->ydata_profiling) (0.7.0)\n",
            "Requirement already satisfied: pydantic-core==2.27.2 in /Users/sara_almuwallad/Library/Python/3.9/lib/python/site-packages (from pydantic>=2->ydata_profiling) (2.27.2)\n",
            "Requirement already satisfied: typing-extensions>=4.12.2 in /Users/sara_almuwallad/Library/Python/3.9/lib/python/site-packages (from pydantic>=2->ydata_profiling) (4.12.2)\n",
            "Requirement already satisfied: charset-normalizer<4,>=2 in /Users/sara_almuwallad/Library/Python/3.9/lib/python/site-packages (from requests<3,>=2.24.0->ydata_profiling) (3.4.1)\n",
            "Requirement already satisfied: idna<4,>=2.5 in /Users/sara_almuwallad/Library/Python/3.9/lib/python/site-packages (from requests<3,>=2.24.0->ydata_profiling) (3.10)\n",
            "Requirement already satisfied: urllib3<3,>=1.21.1 in /Users/sara_almuwallad/Library/Python/3.9/lib/python/site-packages (from requests<3,>=2.24.0->ydata_profiling) (2.3.0)\n",
            "Requirement already satisfied: certifi>=2017.4.17 in /Users/sara_almuwallad/Library/Python/3.9/lib/python/site-packages (from requests<3,>=2.24.0->ydata_profiling) (2025.1.31)\n",
            "Requirement already satisfied: patsy>=0.5.6 in /Users/sara_almuwallad/Library/Python/3.9/lib/python/site-packages (from statsmodels<1,>=0.13.2->ydata_profiling) (1.0.1)\n",
            "Requirement already satisfied: importlib_metadata>=3.6 in /Users/sara_almuwallad/Library/Python/3.9/lib/python/site-packages (from typeguard<5,>=3->ydata_profiling) (8.6.1)\n",
            "Requirement already satisfied: attrs>=19.3.0 in /Users/sara_almuwallad/Library/Python/3.9/lib/python/site-packages (from visions<0.8.0,>=0.7.5->visions[type_image_path]<0.8.0,>=0.7.5->ydata_profiling) (25.1.0)\n",
            "Requirement already satisfied: networkx>=2.4 in /Users/sara_almuwallad/Library/Python/3.9/lib/python/site-packages (from visions<0.8.0,>=0.7.5->visions[type_image_path]<0.8.0,>=0.7.5->ydata_profiling) (3.2.1)\n",
            "Requirement already satisfied: zipp>=3.20 in /Users/sara_almuwallad/Library/Python/3.9/lib/python/site-packages (from importlib_metadata>=3.6->typeguard<5,>=3->ydata_profiling) (3.21.0)\n",
            "Requirement already satisfied: six>=1.5 in /Library/Developer/CommandLineTools/Library/Frameworks/Python3.framework/Versions/3.9/lib/python3.9/site-packages (from python-dateutil>=2.7->matplotlib>=3.5->ydata_profiling) (1.15.0)\n",
            "\n",
            "\u001b[1m[\u001b[0m\u001b[34;49mnotice\u001b[0m\u001b[1;39;49m]\u001b[0m\u001b[39;49m A new release of pip is available: \u001b[0m\u001b[31;49m25.0\u001b[0m\u001b[39;49m -> \u001b[0m\u001b[32;49m25.0.1\u001b[0m\n",
            "\u001b[1m[\u001b[0m\u001b[34;49mnotice\u001b[0m\u001b[1;39;49m]\u001b[0m\u001b[39;49m To update, run: \u001b[0m\u001b[32;49m/Library/Developer/CommandLineTools/usr/bin/python3 -m pip install --upgrade pip\u001b[0m\n"
          ]
        }
      ],
      "source": [
        "#Import all relevant libraries\n",
        "import numpy as np\n",
        "import pandas as pd\n",
        "import matplotlib.pyplot as plt\n",
        "import seaborn as sns\n",
        "from scipy.stats import zscore\n",
        "! pip install ydata_profiling\n",
        "from ydata_profiling import ProfileReport\n",
        "\n",
        "\n",
        "## This statement allows the visuals to render within your Jupyter Notebook.\n",
        "%matplotlib inline"
      ]
    },
    {
      "cell_type": "markdown",
      "id": "e395e8bf-b530-4720-8d0f-26811e927d6e",
      "metadata": {
        "id": "e395e8bf-b530-4720-8d0f-26811e927d6e"
      },
      "source": [
        "## Loading the data\n",
        "We can now load the dataset into pandas using the read_csv() function. This converts the CSV file into a Pandas dataframe."
      ]
    },
    {
      "cell_type": "code",
      "execution_count": 68,
      "id": "cf4030b0-aa7f-4bd7-8e9c-c1b7f4d202d0",
      "metadata": {
        "colab": {
          "base_uri": "https://localhost:8080/",
          "height": 350
        },
        "id": "cf4030b0-aa7f-4bd7-8e9c-c1b7f4d202d0",
        "outputId": "6590ea9c-8ff7-4fae-fbe3-d2be0fd6d007"
      },
      "outputs": [],
      "source": [
        "#Read in the csv file and convert to a Pandas dataframe\n",
        "sa_cars = pd.read_csv('data_saudi_used_cars.csv')\n",
        "# profile = ProfileReport(sa_cars, explorative=True)  # Create profile report\n",
        "# profile.to_file(\"report.html\")  # Save as an interactive HTML file"
      ]
    },
    {
      "cell_type": "markdown",
      "id": "ca5ed983-0f72-43eb-8168-6fafd48c562e",
      "metadata": {
        "id": "ca5ed983-0f72-43eb-8168-6fafd48c562e"
      },
      "source": [
        "### Viewing the dataframe\n",
        "We can get a quick sense of the size of our dataset by using the shape method. This returns a tuple with the number of rows and columns in the dataset."
      ]
    },
    {
      "cell_type": "code",
      "execution_count": 69,
      "id": "bfde0b69-613c-4dd1-8ebf-e4d2e570e653",
      "metadata": {
        "id": "bfde0b69-613c-4dd1-8ebf-e4d2e570e653"
      },
      "outputs": [
        {
          "data": {
            "text/html": [
              "<div>\n",
              "<style scoped>\n",
              "    .dataframe tbody tr th:only-of-type {\n",
              "        vertical-align: middle;\n",
              "    }\n",
              "\n",
              "    .dataframe tbody tr th {\n",
              "        vertical-align: top;\n",
              "    }\n",
              "\n",
              "    .dataframe thead th {\n",
              "        text-align: right;\n",
              "    }\n",
              "</style>\n",
              "<table border=\"1\" class=\"dataframe\">\n",
              "  <thead>\n",
              "    <tr style=\"text-align: right;\">\n",
              "      <th></th>\n",
              "      <th>Type</th>\n",
              "      <th>Region</th>\n",
              "      <th>Make</th>\n",
              "      <th>Gear_Type</th>\n",
              "      <th>Origin</th>\n",
              "      <th>Options</th>\n",
              "      <th>Year</th>\n",
              "      <th>Engine_Size</th>\n",
              "      <th>Mileage</th>\n",
              "      <th>Negotiable</th>\n",
              "      <th>Price</th>\n",
              "    </tr>\n",
              "  </thead>\n",
              "  <tbody>\n",
              "    <tr>\n",
              "      <th>0</th>\n",
              "      <td>Corolla</td>\n",
              "      <td>Abha</td>\n",
              "      <td>Toyota</td>\n",
              "      <td>Manual</td>\n",
              "      <td>Saudi</td>\n",
              "      <td>Standard</td>\n",
              "      <td>2013</td>\n",
              "      <td>1.4</td>\n",
              "      <td>421000</td>\n",
              "      <td>True</td>\n",
              "      <td>0</td>\n",
              "    </tr>\n",
              "    <tr>\n",
              "      <th>1</th>\n",
              "      <td>Yukon</td>\n",
              "      <td>Riyadh</td>\n",
              "      <td>GMC</td>\n",
              "      <td>Automatic</td>\n",
              "      <td>Saudi</td>\n",
              "      <td>Full</td>\n",
              "      <td>2014</td>\n",
              "      <td>8.0</td>\n",
              "      <td>80000</td>\n",
              "      <td>False</td>\n",
              "      <td>120000</td>\n",
              "    </tr>\n",
              "    <tr>\n",
              "      <th>2</th>\n",
              "      <td>Range Rover</td>\n",
              "      <td>Riyadh</td>\n",
              "      <td>Land Rover</td>\n",
              "      <td>Automatic</td>\n",
              "      <td>Gulf Arabic</td>\n",
              "      <td>Full</td>\n",
              "      <td>2015</td>\n",
              "      <td>5.0</td>\n",
              "      <td>140000</td>\n",
              "      <td>False</td>\n",
              "      <td>260000</td>\n",
              "    </tr>\n",
              "    <tr>\n",
              "      <th>3</th>\n",
              "      <td>Optima</td>\n",
              "      <td>Hafar Al-Batin</td>\n",
              "      <td>Kia</td>\n",
              "      <td>Automatic</td>\n",
              "      <td>Saudi</td>\n",
              "      <td>Semi Full</td>\n",
              "      <td>2015</td>\n",
              "      <td>2.4</td>\n",
              "      <td>220000</td>\n",
              "      <td>False</td>\n",
              "      <td>42000</td>\n",
              "    </tr>\n",
              "    <tr>\n",
              "      <th>4</th>\n",
              "      <td>FJ</td>\n",
              "      <td>Riyadh</td>\n",
              "      <td>Toyota</td>\n",
              "      <td>Automatic</td>\n",
              "      <td>Saudi</td>\n",
              "      <td>Full</td>\n",
              "      <td>2020</td>\n",
              "      <td>4.0</td>\n",
              "      <td>49000</td>\n",
              "      <td>True</td>\n",
              "      <td>0</td>\n",
              "    </tr>\n",
              "    <tr>\n",
              "      <th>...</th>\n",
              "      <td>...</td>\n",
              "      <td>...</td>\n",
              "      <td>...</td>\n",
              "      <td>...</td>\n",
              "      <td>...</td>\n",
              "      <td>...</td>\n",
              "      <td>...</td>\n",
              "      <td>...</td>\n",
              "      <td>...</td>\n",
              "      <td>...</td>\n",
              "      <td>...</td>\n",
              "    </tr>\n",
              "    <tr>\n",
              "      <th>5619</th>\n",
              "      <td>X-Trail</td>\n",
              "      <td>Jeddah</td>\n",
              "      <td>Nissan</td>\n",
              "      <td>Automatic</td>\n",
              "      <td>Saudi</td>\n",
              "      <td>Standard</td>\n",
              "      <td>2018</td>\n",
              "      <td>2.5</td>\n",
              "      <td>78794</td>\n",
              "      <td>False</td>\n",
              "      <td>68000</td>\n",
              "    </tr>\n",
              "    <tr>\n",
              "      <th>5620</th>\n",
              "      <td>Altima</td>\n",
              "      <td>Jeddah</td>\n",
              "      <td>Nissan</td>\n",
              "      <td>Automatic</td>\n",
              "      <td>Saudi</td>\n",
              "      <td>Semi Full</td>\n",
              "      <td>2020</td>\n",
              "      <td>2.5</td>\n",
              "      <td>58000</td>\n",
              "      <td>True</td>\n",
              "      <td>0</td>\n",
              "    </tr>\n",
              "    <tr>\n",
              "      <th>5621</th>\n",
              "      <td>Yukon</td>\n",
              "      <td>Dammam</td>\n",
              "      <td>GMC</td>\n",
              "      <td>Automatic</td>\n",
              "      <td>Saudi</td>\n",
              "      <td>Full</td>\n",
              "      <td>2016</td>\n",
              "      <td>5.3</td>\n",
              "      <td>48000</td>\n",
              "      <td>False</td>\n",
              "      <td>145000</td>\n",
              "    </tr>\n",
              "    <tr>\n",
              "      <th>5622</th>\n",
              "      <td>RX</td>\n",
              "      <td>Dammam</td>\n",
              "      <td>Lexus</td>\n",
              "      <td>Automatic</td>\n",
              "      <td>Gulf Arabic</td>\n",
              "      <td>Full</td>\n",
              "      <td>2016</td>\n",
              "      <td>2.5</td>\n",
              "      <td>81000</td>\n",
              "      <td>False</td>\n",
              "      <td>154000</td>\n",
              "    </tr>\n",
              "    <tr>\n",
              "      <th>5623</th>\n",
              "      <td>ES</td>\n",
              "      <td>Jeddah</td>\n",
              "      <td>Lexus</td>\n",
              "      <td>Automatic</td>\n",
              "      <td>Other</td>\n",
              "      <td>Full</td>\n",
              "      <td>2017</td>\n",
              "      <td>3.5</td>\n",
              "      <td>115000</td>\n",
              "      <td>True</td>\n",
              "      <td>0</td>\n",
              "    </tr>\n",
              "  </tbody>\n",
              "</table>\n",
              "<p>5624 rows × 11 columns</p>\n",
              "</div>"
            ],
            "text/plain": [
              "             Type          Region        Make  Gear_Type       Origin  \\\n",
              "0         Corolla            Abha      Toyota     Manual        Saudi   \n",
              "1           Yukon          Riyadh         GMC  Automatic        Saudi   \n",
              "2     Range Rover          Riyadh  Land Rover  Automatic  Gulf Arabic   \n",
              "3          Optima  Hafar Al-Batin         Kia  Automatic        Saudi   \n",
              "4              FJ          Riyadh      Toyota  Automatic        Saudi   \n",
              "...           ...             ...         ...        ...          ...   \n",
              "5619      X-Trail          Jeddah      Nissan  Automatic        Saudi   \n",
              "5620       Altima          Jeddah      Nissan  Automatic        Saudi   \n",
              "5621        Yukon          Dammam         GMC  Automatic        Saudi   \n",
              "5622           RX          Dammam       Lexus  Automatic  Gulf Arabic   \n",
              "5623           ES          Jeddah       Lexus  Automatic        Other   \n",
              "\n",
              "        Options  Year  Engine_Size  Mileage  Negotiable   Price  \n",
              "0      Standard  2013          1.4   421000        True       0  \n",
              "1          Full  2014          8.0    80000       False  120000  \n",
              "2          Full  2015          5.0   140000       False  260000  \n",
              "3     Semi Full  2015          2.4   220000       False   42000  \n",
              "4          Full  2020          4.0    49000        True       0  \n",
              "...         ...   ...          ...      ...         ...     ...  \n",
              "5619   Standard  2018          2.5    78794       False   68000  \n",
              "5620  Semi Full  2020          2.5    58000        True       0  \n",
              "5621       Full  2016          5.3    48000       False  145000  \n",
              "5622       Full  2016          2.5    81000       False  154000  \n",
              "5623       Full  2017          3.5   115000        True       0  \n",
              "\n",
              "[5624 rows x 11 columns]"
            ]
          },
          "execution_count": 69,
          "metadata": {},
          "output_type": "execute_result"
        }
      ],
      "source": [
        "sa_cars"
      ]
    },
    {
      "cell_type": "code",
      "execution_count": 70,
      "id": "Y1teKb8Mqvaa",
      "metadata": {
        "id": "Y1teKb8Mqvaa"
      },
      "outputs": [
        {
          "data": {
            "text/plain": [
              "np.float64(9.0)"
            ]
          },
          "execution_count": 70,
          "metadata": {},
          "output_type": "execute_result"
        }
      ],
      "source": [
        "sa_cars['Engine_Size'].max()"
      ]
    },
    {
      "cell_type": "code",
      "execution_count": 71,
      "id": "HhxzDcTqw1zc",
      "metadata": {
        "id": "HhxzDcTqw1zc"
      },
      "outputs": [
        {
          "data": {
            "text/html": [
              "<div>\n",
              "<style scoped>\n",
              "    .dataframe tbody tr th:only-of-type {\n",
              "        vertical-align: middle;\n",
              "    }\n",
              "\n",
              "    .dataframe tbody tr th {\n",
              "        vertical-align: top;\n",
              "    }\n",
              "\n",
              "    .dataframe thead th {\n",
              "        text-align: right;\n",
              "    }\n",
              "</style>\n",
              "<table border=\"1\" class=\"dataframe\">\n",
              "  <thead>\n",
              "    <tr style=\"text-align: right;\">\n",
              "      <th></th>\n",
              "      <th>Type</th>\n",
              "      <th>Region</th>\n",
              "      <th>Make</th>\n",
              "      <th>Gear_Type</th>\n",
              "      <th>Origin</th>\n",
              "      <th>Options</th>\n",
              "      <th>Year</th>\n",
              "      <th>Engine_Size</th>\n",
              "      <th>Mileage</th>\n",
              "      <th>Negotiable</th>\n",
              "      <th>Price</th>\n",
              "    </tr>\n",
              "  </thead>\n",
              "  <tbody>\n",
              "    <tr>\n",
              "      <th>0</th>\n",
              "      <td>Corolla</td>\n",
              "      <td>Abha</td>\n",
              "      <td>Toyota</td>\n",
              "      <td>Manual</td>\n",
              "      <td>Saudi</td>\n",
              "      <td>Standard</td>\n",
              "      <td>2013</td>\n",
              "      <td>1.4</td>\n",
              "      <td>421000</td>\n",
              "      <td>True</td>\n",
              "      <td>0</td>\n",
              "    </tr>\n",
              "    <tr>\n",
              "      <th>4</th>\n",
              "      <td>FJ</td>\n",
              "      <td>Riyadh</td>\n",
              "      <td>Toyota</td>\n",
              "      <td>Automatic</td>\n",
              "      <td>Saudi</td>\n",
              "      <td>Full</td>\n",
              "      <td>2020</td>\n",
              "      <td>4.0</td>\n",
              "      <td>49000</td>\n",
              "      <td>True</td>\n",
              "      <td>0</td>\n",
              "    </tr>\n",
              "    <tr>\n",
              "      <th>9</th>\n",
              "      <td>LS</td>\n",
              "      <td>Aseer</td>\n",
              "      <td>Lexus</td>\n",
              "      <td>Automatic</td>\n",
              "      <td>Saudi</td>\n",
              "      <td>Full</td>\n",
              "      <td>1998</td>\n",
              "      <td>4.6</td>\n",
              "      <td>300</td>\n",
              "      <td>True</td>\n",
              "      <td>0</td>\n",
              "    </tr>\n",
              "    <tr>\n",
              "      <th>14</th>\n",
              "      <td>Hilux</td>\n",
              "      <td>Yanbu</td>\n",
              "      <td>Toyota</td>\n",
              "      <td>Automatic</td>\n",
              "      <td>Saudi</td>\n",
              "      <td>Full</td>\n",
              "      <td>2014</td>\n",
              "      <td>2.7</td>\n",
              "      <td>209</td>\n",
              "      <td>True</td>\n",
              "      <td>0</td>\n",
              "    </tr>\n",
              "    <tr>\n",
              "      <th>15</th>\n",
              "      <td>Land Cruiser</td>\n",
              "      <td>Aseer</td>\n",
              "      <td>Toyota</td>\n",
              "      <td>Manual</td>\n",
              "      <td>Gulf Arabic</td>\n",
              "      <td>Semi Full</td>\n",
              "      <td>1982</td>\n",
              "      <td>4.6</td>\n",
              "      <td>340000</td>\n",
              "      <td>True</td>\n",
              "      <td>0</td>\n",
              "    </tr>\n",
              "    <tr>\n",
              "      <th>...</th>\n",
              "      <td>...</td>\n",
              "      <td>...</td>\n",
              "      <td>...</td>\n",
              "      <td>...</td>\n",
              "      <td>...</td>\n",
              "      <td>...</td>\n",
              "      <td>...</td>\n",
              "      <td>...</td>\n",
              "      <td>...</td>\n",
              "      <td>...</td>\n",
              "      <td>...</td>\n",
              "    </tr>\n",
              "    <tr>\n",
              "      <th>5610</th>\n",
              "      <td>Town Car</td>\n",
              "      <td>Jeddah</td>\n",
              "      <td>Lincoln</td>\n",
              "      <td>Automatic</td>\n",
              "      <td>Other</td>\n",
              "      <td>Full</td>\n",
              "      <td>1999</td>\n",
              "      <td>5.0</td>\n",
              "      <td>343</td>\n",
              "      <td>True</td>\n",
              "      <td>0</td>\n",
              "    </tr>\n",
              "    <tr>\n",
              "      <th>5614</th>\n",
              "      <td>Victoria</td>\n",
              "      <td>Makkah</td>\n",
              "      <td>Ford</td>\n",
              "      <td>Automatic</td>\n",
              "      <td>Saudi</td>\n",
              "      <td>Standard</td>\n",
              "      <td>2010</td>\n",
              "      <td>4.6</td>\n",
              "      <td>345000</td>\n",
              "      <td>True</td>\n",
              "      <td>0</td>\n",
              "    </tr>\n",
              "    <tr>\n",
              "      <th>5617</th>\n",
              "      <td>Yukon</td>\n",
              "      <td>Jubail</td>\n",
              "      <td>GMC</td>\n",
              "      <td>Automatic</td>\n",
              "      <td>Saudi</td>\n",
              "      <td>Semi Full</td>\n",
              "      <td>2006</td>\n",
              "      <td>5.3</td>\n",
              "      <td>300</td>\n",
              "      <td>True</td>\n",
              "      <td>0</td>\n",
              "    </tr>\n",
              "    <tr>\n",
              "      <th>5620</th>\n",
              "      <td>Altima</td>\n",
              "      <td>Jeddah</td>\n",
              "      <td>Nissan</td>\n",
              "      <td>Automatic</td>\n",
              "      <td>Saudi</td>\n",
              "      <td>Semi Full</td>\n",
              "      <td>2020</td>\n",
              "      <td>2.5</td>\n",
              "      <td>58000</td>\n",
              "      <td>True</td>\n",
              "      <td>0</td>\n",
              "    </tr>\n",
              "    <tr>\n",
              "      <th>5623</th>\n",
              "      <td>ES</td>\n",
              "      <td>Jeddah</td>\n",
              "      <td>Lexus</td>\n",
              "      <td>Automatic</td>\n",
              "      <td>Other</td>\n",
              "      <td>Full</td>\n",
              "      <td>2017</td>\n",
              "      <td>3.5</td>\n",
              "      <td>115000</td>\n",
              "      <td>True</td>\n",
              "      <td>0</td>\n",
              "    </tr>\n",
              "  </tbody>\n",
              "</table>\n",
              "<p>1796 rows × 11 columns</p>\n",
              "</div>"
            ],
            "text/plain": [
              "              Type  Region     Make  Gear_Type       Origin    Options  Year  \\\n",
              "0          Corolla    Abha   Toyota     Manual        Saudi   Standard  2013   \n",
              "4               FJ  Riyadh   Toyota  Automatic        Saudi       Full  2020   \n",
              "9               LS   Aseer    Lexus  Automatic        Saudi       Full  1998   \n",
              "14           Hilux   Yanbu   Toyota  Automatic        Saudi       Full  2014   \n",
              "15    Land Cruiser   Aseer   Toyota     Manual  Gulf Arabic  Semi Full  1982   \n",
              "...            ...     ...      ...        ...          ...        ...   ...   \n",
              "5610      Town Car  Jeddah  Lincoln  Automatic        Other       Full  1999   \n",
              "5614      Victoria  Makkah     Ford  Automatic        Saudi   Standard  2010   \n",
              "5617         Yukon  Jubail      GMC  Automatic        Saudi  Semi Full  2006   \n",
              "5620        Altima  Jeddah   Nissan  Automatic        Saudi  Semi Full  2020   \n",
              "5623            ES  Jeddah    Lexus  Automatic        Other       Full  2017   \n",
              "\n",
              "      Engine_Size  Mileage  Negotiable  Price  \n",
              "0             1.4   421000        True      0  \n",
              "4             4.0    49000        True      0  \n",
              "9             4.6      300        True      0  \n",
              "14            2.7      209        True      0  \n",
              "15            4.6   340000        True      0  \n",
              "...           ...      ...         ...    ...  \n",
              "5610          5.0      343        True      0  \n",
              "5614          4.6   345000        True      0  \n",
              "5617          5.3      300        True      0  \n",
              "5620          2.5    58000        True      0  \n",
              "5623          3.5   115000        True      0  \n",
              "\n",
              "[1796 rows x 11 columns]"
            ]
          },
          "execution_count": 71,
          "metadata": {},
          "output_type": "execute_result"
        }
      ],
      "source": [
        "sa_cars[sa_cars['Negotiable'] == True]"
      ]
    },
    {
      "cell_type": "code",
      "execution_count": null,
      "id": "U4whZm7vxT4W",
      "metadata": {
        "id": "U4whZm7vxT4W"
      },
      "outputs": [],
      "source": []
    },
    {
      "cell_type": "markdown",
      "id": "bd2b5bc4-db37-4432-b666-0714afd0c4ca",
      "metadata": {
        "id": "bd2b5bc4-db37-4432-b666-0714afd0c4ca"
      },
      "source": [
        "## 1. Data Profiling:\n",
        "Data profiling is a comprehensive process of examining the data available in an existing dataset and collecting statistics and information about that data."
      ]
    },
    {
      "cell_type": "code",
      "execution_count": 72,
      "id": "672f2081-5a2c-4908-8cbd-29519fb3cac5",
      "metadata": {
        "id": "672f2081-5a2c-4908-8cbd-29519fb3cac5"
      },
      "outputs": [
        {
          "data": {
            "text/plain": [
              "(5624, 11)"
            ]
          },
          "execution_count": 72,
          "metadata": {},
          "output_type": "execute_result"
        }
      ],
      "source": [
        "sa_cars.shape"
      ]
    },
    {
      "cell_type": "code",
      "execution_count": 73,
      "id": "4gEA1J_wq_Lo",
      "metadata": {
        "id": "4gEA1J_wq_Lo"
      },
      "outputs": [
        {
          "data": {
            "text/plain": [
              "Index(['Type', 'Region', 'Make', 'Gear_Type', 'Origin', 'Options', 'Year',\n",
              "       'Engine_Size', 'Mileage', 'Negotiable', 'Price'],\n",
              "      dtype='object')"
            ]
          },
          "execution_count": 73,
          "metadata": {},
          "output_type": "execute_result"
        }
      ],
      "source": [
        "sa_cars.columns"
      ]
    },
    {
      "cell_type": "code",
      "execution_count": 74,
      "id": "3LTTBglTrBDN",
      "metadata": {
        "id": "3LTTBglTrBDN"
      },
      "outputs": [
        {
          "name": "stdout",
          "output_type": "stream",
          "text": [
            "<class 'pandas.core.frame.DataFrame'>\n",
            "RangeIndex: 5624 entries, 0 to 5623\n",
            "Data columns (total 11 columns):\n",
            " #   Column       Non-Null Count  Dtype  \n",
            "---  ------       --------------  -----  \n",
            " 0   Type         5624 non-null   object \n",
            " 1   Region       5624 non-null   object \n",
            " 2   Make         5624 non-null   object \n",
            " 3   Gear_Type    5624 non-null   object \n",
            " 4   Origin       5624 non-null   object \n",
            " 5   Options      5624 non-null   object \n",
            " 6   Year         5624 non-null   int64  \n",
            " 7   Engine_Size  5624 non-null   float64\n",
            " 8   Mileage      5624 non-null   int64  \n",
            " 9   Negotiable   5624 non-null   bool   \n",
            " 10  Price        5624 non-null   int64  \n",
            "dtypes: bool(1), float64(1), int64(3), object(6)\n",
            "memory usage: 445.0+ KB\n"
          ]
        }
      ],
      "source": [
        "sa_cars.info()"
      ]
    },
    {
      "cell_type": "markdown",
      "id": "00LImHIvr-sE",
      "metadata": {
        "id": "00LImHIvr-sE"
      },
      "source": [
        "There are no missing values and all data types are correct except `Price` should be float."
      ]
    },
    {
      "cell_type": "code",
      "execution_count": 75,
      "id": "vc_00JS2rPZ_",
      "metadata": {
        "id": "vc_00JS2rPZ_"
      },
      "outputs": [
        {
          "data": {
            "text/html": [
              "<div>\n",
              "<style scoped>\n",
              "    .dataframe tbody tr th:only-of-type {\n",
              "        vertical-align: middle;\n",
              "    }\n",
              "\n",
              "    .dataframe tbody tr th {\n",
              "        vertical-align: top;\n",
              "    }\n",
              "\n",
              "    .dataframe thead th {\n",
              "        text-align: right;\n",
              "    }\n",
              "</style>\n",
              "<table border=\"1\" class=\"dataframe\">\n",
              "  <thead>\n",
              "    <tr style=\"text-align: right;\">\n",
              "      <th></th>\n",
              "      <th>Type</th>\n",
              "      <th>Region</th>\n",
              "      <th>Make</th>\n",
              "      <th>Gear_Type</th>\n",
              "      <th>Origin</th>\n",
              "      <th>Options</th>\n",
              "    </tr>\n",
              "  </thead>\n",
              "  <tbody>\n",
              "    <tr>\n",
              "      <th>count</th>\n",
              "      <td>5624</td>\n",
              "      <td>5624</td>\n",
              "      <td>5624</td>\n",
              "      <td>5624</td>\n",
              "      <td>5624</td>\n",
              "      <td>5624</td>\n",
              "    </tr>\n",
              "    <tr>\n",
              "      <th>unique</th>\n",
              "      <td>347</td>\n",
              "      <td>27</td>\n",
              "      <td>58</td>\n",
              "      <td>2</td>\n",
              "      <td>4</td>\n",
              "      <td>3</td>\n",
              "    </tr>\n",
              "    <tr>\n",
              "      <th>top</th>\n",
              "      <td>Land Cruiser</td>\n",
              "      <td>Riyadh</td>\n",
              "      <td>Toyota</td>\n",
              "      <td>Automatic</td>\n",
              "      <td>Saudi</td>\n",
              "      <td>Full</td>\n",
              "    </tr>\n",
              "    <tr>\n",
              "      <th>freq</th>\n",
              "      <td>269</td>\n",
              "      <td>2272</td>\n",
              "      <td>1431</td>\n",
              "      <td>4875</td>\n",
              "      <td>4188</td>\n",
              "      <td>2233</td>\n",
              "    </tr>\n",
              "  </tbody>\n",
              "</table>\n",
              "</div>"
            ],
            "text/plain": [
              "                Type  Region    Make  Gear_Type Origin Options\n",
              "count           5624    5624    5624       5624   5624    5624\n",
              "unique           347      27      58          2      4       3\n",
              "top     Land Cruiser  Riyadh  Toyota  Automatic  Saudi    Full\n",
              "freq             269    2272    1431       4875   4188    2233"
            ]
          },
          "execution_count": 75,
          "metadata": {},
          "output_type": "execute_result"
        }
      ],
      "source": [
        "sa_cars.describe(include = 'object')"
      ]
    },
    {
      "cell_type": "code",
      "execution_count": 76,
      "id": "Xq03ciGHrW2E",
      "metadata": {
        "id": "Xq03ciGHrW2E"
      },
      "outputs": [
        {
          "data": {
            "text/html": [
              "<div>\n",
              "<style scoped>\n",
              "    .dataframe tbody tr th:only-of-type {\n",
              "        vertical-align: middle;\n",
              "    }\n",
              "\n",
              "    .dataframe tbody tr th {\n",
              "        vertical-align: top;\n",
              "    }\n",
              "\n",
              "    .dataframe thead th {\n",
              "        text-align: right;\n",
              "    }\n",
              "</style>\n",
              "<table border=\"1\" class=\"dataframe\">\n",
              "  <thead>\n",
              "    <tr style=\"text-align: right;\">\n",
              "      <th></th>\n",
              "      <th>Year</th>\n",
              "      <th>Engine_Size</th>\n",
              "      <th>Mileage</th>\n",
              "      <th>Price</th>\n",
              "    </tr>\n",
              "  </thead>\n",
              "  <tbody>\n",
              "    <tr>\n",
              "      <th>count</th>\n",
              "      <td>5624.000000</td>\n",
              "      <td>5624.000000</td>\n",
              "      <td>5.624000e+03</td>\n",
              "      <td>5624.000000</td>\n",
              "    </tr>\n",
              "    <tr>\n",
              "      <th>mean</th>\n",
              "      <td>2014.101885</td>\n",
              "      <td>3.295430</td>\n",
              "      <td>1.509234e+05</td>\n",
              "      <td>53074.058144</td>\n",
              "    </tr>\n",
              "    <tr>\n",
              "      <th>std</th>\n",
              "      <td>5.791606</td>\n",
              "      <td>1.515108</td>\n",
              "      <td>3.828360e+05</td>\n",
              "      <td>70155.340614</td>\n",
              "    </tr>\n",
              "    <tr>\n",
              "      <th>min</th>\n",
              "      <td>1963.000000</td>\n",
              "      <td>1.000000</td>\n",
              "      <td>1.000000e+02</td>\n",
              "      <td>0.000000</td>\n",
              "    </tr>\n",
              "    <tr>\n",
              "      <th>25%</th>\n",
              "      <td>2012.000000</td>\n",
              "      <td>2.000000</td>\n",
              "      <td>3.800000e+04</td>\n",
              "      <td>0.000000</td>\n",
              "    </tr>\n",
              "    <tr>\n",
              "      <th>50%</th>\n",
              "      <td>2016.000000</td>\n",
              "      <td>3.000000</td>\n",
              "      <td>1.030000e+05</td>\n",
              "      <td>36500.000000</td>\n",
              "    </tr>\n",
              "    <tr>\n",
              "      <th>75%</th>\n",
              "      <td>2018.000000</td>\n",
              "      <td>4.500000</td>\n",
              "      <td>1.960000e+05</td>\n",
              "      <td>72932.500000</td>\n",
              "    </tr>\n",
              "    <tr>\n",
              "      <th>max</th>\n",
              "      <td>2022.000000</td>\n",
              "      <td>9.000000</td>\n",
              "      <td>2.000000e+07</td>\n",
              "      <td>850000.000000</td>\n",
              "    </tr>\n",
              "  </tbody>\n",
              "</table>\n",
              "</div>"
            ],
            "text/plain": [
              "              Year  Engine_Size       Mileage          Price\n",
              "count  5624.000000  5624.000000  5.624000e+03    5624.000000\n",
              "mean   2014.101885     3.295430  1.509234e+05   53074.058144\n",
              "std       5.791606     1.515108  3.828360e+05   70155.340614\n",
              "min    1963.000000     1.000000  1.000000e+02       0.000000\n",
              "25%    2012.000000     2.000000  3.800000e+04       0.000000\n",
              "50%    2016.000000     3.000000  1.030000e+05   36500.000000\n",
              "75%    2018.000000     4.500000  1.960000e+05   72932.500000\n",
              "max    2022.000000     9.000000  2.000000e+07  850000.000000"
            ]
          },
          "execution_count": 76,
          "metadata": {},
          "output_type": "execute_result"
        }
      ],
      "source": [
        "sa_cars.describe()"
      ]
    },
    {
      "cell_type": "markdown",
      "id": "8N_i-ic0sy_1",
      "metadata": {
        "id": "8N_i-ic0sy_1"
      },
      "source": [
        "The `Price` 25% of data is zero and it does make sense."
      ]
    },
    {
      "cell_type": "markdown",
      "id": "834929aa-fd6a-4ec5-84d4-77c4b3c1a506",
      "metadata": {
        "id": "834929aa-fd6a-4ec5-84d4-77c4b3c1a506"
      },
      "source": [
        "The process of profiling differs slightly for categorical and numerical variables due to their inherent differences.\n",
        "\n",
        "**The two main types of data are:**\n",
        "- Quantitative (numerical) data\n",
        "- Qualitative (categorical) data"
      ]
    },
    {
      "cell_type": "markdown",
      "id": "3a9954f5-6fbc-45b4-ad86-3e21b6e0ca2d",
      "metadata": {
        "id": "3a9954f5-6fbc-45b4-ad86-3e21b6e0ca2d"
      },
      "source": [
        "### Data Quality Checks\n",
        "Data quality checks involve the process of ensuring that the data is accurate, complete, consistent, relevant, and reliable.\n",
        "\n",
        "\n",
        "**Here are typical steps involved in checking data quality:**"
      ]
    },
    {
      "cell_type": "markdown",
      "id": "4818c876-173d-4e56-9e7d-b4334d2def25",
      "metadata": {
        "id": "4818c876-173d-4e56-9e7d-b4334d2def25"
      },
      "source": [
        "#### 1. Reliability:\n",
        "Evaluate the data's source and collection process to determine its trustworthiness."
      ]
    },
    {
      "cell_type": "markdown",
      "id": "ocEmYBUytVip",
      "metadata": {
        "id": "ocEmYBUytVip"
      },
      "source": [
        "The data source is reliable abd collected form syarah.com website."
      ]
    },
    {
      "cell_type": "markdown",
      "id": "2ce0cc59-8c92-4acc-8d07-c40764e1a86b",
      "metadata": {
        "id": "2ce0cc59-8c92-4acc-8d07-c40764e1a86b"
      },
      "source": [
        "#### 2. Timeliness:\n",
        "Ensure the data is up-to-date and reflective of the current situation or the period of interest for the analysis."
      ]
    },
    {
      "cell_type": "markdown",
      "id": "tzyNZDyVt57D",
      "metadata": {
        "id": "tzyNZDyVt57D"
      },
      "source": [
        "The data reflect the period of interest for the analysis"
      ]
    },
    {
      "cell_type": "markdown",
      "id": "7fab0fe2-6624-4615-b9d8-3c3669056bf8",
      "metadata": {
        "id": "7fab0fe2-6624-4615-b9d8-3c3669056bf8"
      },
      "source": [
        "#### 3. Consistency:\n",
        "\n",
        "Confirm that the data is consistent within the dataset and across multiple data sources. For example, the same data point should not have different values in different places.\n"
      ]
    },
    {
      "cell_type": "markdown",
      "id": "W87T73ShuEpA",
      "metadata": {
        "id": "W87T73ShuEpA"
      },
      "source": [
        "We have only one dataset so is consistencey."
      ]
    },
    {
      "cell_type": "markdown",
      "id": "bec3d183-bba0-4b12-b963-487daab1e876",
      "metadata": {
        "id": "bec3d183-bba0-4b12-b963-487daab1e876"
      },
      "source": [
        "#### 4. Relevance:\n",
        "Assess whether the data is appropriate and applicable for the intended analysis. Data that is not relevant can skew results and lead to incorrect conclusions.\n",
        "\n",
        "**Key considerations for relevance include:**\n",
        "\n",
        "> 1. Sample Appropriateness: Confirm that your data sample aligns with your analysis objectives. For instance, utilizing data from the Northern region will not yield accurate insights for the Western region of the Kingdom.\n",
        ">\n",
        "> 2. Variable Selection: Any column will not be relevant for our analysis, we can get rid of these using the drop() method. We will set the “axis” argument to 1 since we’re dealing with columns, and set the “inplace” argument to True to make the change permanent.\n"
      ]
    },
    {
      "cell_type": "markdown",
      "id": "rzxwfZpPx3_W",
      "metadata": {
        "id": "rzxwfZpPx3_W"
      },
      "source": [
        "**1- Sample relevence:**\n",
        "\n",
        "The sample is relevance to problem statment questions.\n",
        "\n",
        "**2- Variable Relevance:**\n",
        "\n",
        "All the columns are improtant and relevent to the problem satatment questions."
      ]
    },
    {
      "cell_type": "markdown",
      "id": "0f5e3a2a-bbb7-4d06-8220-c93277b70146",
      "metadata": {
        "id": "0f5e3a2a-bbb7-4d06-8220-c93277b70146"
      },
      "source": [
        "#### 5. Uniqueness:\n",
        "Check for and remove duplicate records to prevent skewed analysis results.\n"
      ]
    },
    {
      "cell_type": "code",
      "execution_count": 77,
      "id": "a509a7aa-58f4-4d39-8eb8-e8298a21f2a7",
      "metadata": {
        "id": "a509a7aa-58f4-4d39-8eb8-e8298a21f2a7"
      },
      "outputs": [
        {
          "data": {
            "text/html": [
              "<div>\n",
              "<style scoped>\n",
              "    .dataframe tbody tr th:only-of-type {\n",
              "        vertical-align: middle;\n",
              "    }\n",
              "\n",
              "    .dataframe tbody tr th {\n",
              "        vertical-align: top;\n",
              "    }\n",
              "\n",
              "    .dataframe thead th {\n",
              "        text-align: right;\n",
              "    }\n",
              "</style>\n",
              "<table border=\"1\" class=\"dataframe\">\n",
              "  <thead>\n",
              "    <tr style=\"text-align: right;\">\n",
              "      <th></th>\n",
              "      <th>Type</th>\n",
              "      <th>Region</th>\n",
              "      <th>Make</th>\n",
              "      <th>Gear_Type</th>\n",
              "      <th>Origin</th>\n",
              "      <th>Options</th>\n",
              "      <th>Year</th>\n",
              "      <th>Engine_Size</th>\n",
              "      <th>Mileage</th>\n",
              "      <th>Negotiable</th>\n",
              "      <th>Price</th>\n",
              "    </tr>\n",
              "  </thead>\n",
              "  <tbody>\n",
              "    <tr>\n",
              "      <th>236</th>\n",
              "      <td>Sonata</td>\n",
              "      <td>Jeddah</td>\n",
              "      <td>Hyundai</td>\n",
              "      <td>Automatic</td>\n",
              "      <td>Saudi</td>\n",
              "      <td>Standard</td>\n",
              "      <td>2020</td>\n",
              "      <td>2.4</td>\n",
              "      <td>100</td>\n",
              "      <td>False</td>\n",
              "      <td>72910</td>\n",
              "    </tr>\n",
              "    <tr>\n",
              "      <th>540</th>\n",
              "      <td>Rio</td>\n",
              "      <td>Riyadh</td>\n",
              "      <td>Kia</td>\n",
              "      <td>Automatic</td>\n",
              "      <td>Saudi</td>\n",
              "      <td>Standard</td>\n",
              "      <td>2016</td>\n",
              "      <td>1.4</td>\n",
              "      <td>270000</td>\n",
              "      <td>False</td>\n",
              "      <td>25000</td>\n",
              "    </tr>\n",
              "    <tr>\n",
              "      <th>953</th>\n",
              "      <td>Rio</td>\n",
              "      <td>Riyadh</td>\n",
              "      <td>Kia</td>\n",
              "      <td>Automatic</td>\n",
              "      <td>Saudi</td>\n",
              "      <td>Standard</td>\n",
              "      <td>2016</td>\n",
              "      <td>1.4</td>\n",
              "      <td>270000</td>\n",
              "      <td>False</td>\n",
              "      <td>25000</td>\n",
              "    </tr>\n",
              "    <tr>\n",
              "      <th>2012</th>\n",
              "      <td>Tucson</td>\n",
              "      <td>Dammam</td>\n",
              "      <td>Hyundai</td>\n",
              "      <td>Automatic</td>\n",
              "      <td>Saudi</td>\n",
              "      <td>Standard</td>\n",
              "      <td>2016</td>\n",
              "      <td>2.0</td>\n",
              "      <td>155000</td>\n",
              "      <td>False</td>\n",
              "      <td>45000</td>\n",
              "    </tr>\n",
              "    <tr>\n",
              "      <th>3631</th>\n",
              "      <td>Camry</td>\n",
              "      <td>Riyadh</td>\n",
              "      <td>Toyota</td>\n",
              "      <td>Automatic</td>\n",
              "      <td>Saudi</td>\n",
              "      <td>Full</td>\n",
              "      <td>2013</td>\n",
              "      <td>2.5</td>\n",
              "      <td>185000</td>\n",
              "      <td>True</td>\n",
              "      <td>0</td>\n",
              "    </tr>\n",
              "    <tr>\n",
              "      <th>4646</th>\n",
              "      <td>Sonata</td>\n",
              "      <td>Jeddah</td>\n",
              "      <td>Hyundai</td>\n",
              "      <td>Automatic</td>\n",
              "      <td>Saudi</td>\n",
              "      <td>Standard</td>\n",
              "      <td>2020</td>\n",
              "      <td>2.4</td>\n",
              "      <td>100</td>\n",
              "      <td>False</td>\n",
              "      <td>72910</td>\n",
              "    </tr>\n",
              "    <tr>\n",
              "      <th>4933</th>\n",
              "      <td>Tucson</td>\n",
              "      <td>Dammam</td>\n",
              "      <td>Hyundai</td>\n",
              "      <td>Automatic</td>\n",
              "      <td>Saudi</td>\n",
              "      <td>Standard</td>\n",
              "      <td>2016</td>\n",
              "      <td>2.0</td>\n",
              "      <td>155000</td>\n",
              "      <td>False</td>\n",
              "      <td>45000</td>\n",
              "    </tr>\n",
              "    <tr>\n",
              "      <th>5267</th>\n",
              "      <td>Camry</td>\n",
              "      <td>Riyadh</td>\n",
              "      <td>Toyota</td>\n",
              "      <td>Automatic</td>\n",
              "      <td>Saudi</td>\n",
              "      <td>Full</td>\n",
              "      <td>2013</td>\n",
              "      <td>2.5</td>\n",
              "      <td>185000</td>\n",
              "      <td>True</td>\n",
              "      <td>0</td>\n",
              "    </tr>\n",
              "  </tbody>\n",
              "</table>\n",
              "</div>"
            ],
            "text/plain": [
              "        Type  Region     Make  Gear_Type Origin   Options  Year  Engine_Size  \\\n",
              "236   Sonata  Jeddah  Hyundai  Automatic  Saudi  Standard  2020          2.4   \n",
              "540      Rio  Riyadh      Kia  Automatic  Saudi  Standard  2016          1.4   \n",
              "953      Rio  Riyadh      Kia  Automatic  Saudi  Standard  2016          1.4   \n",
              "2012  Tucson  Dammam  Hyundai  Automatic  Saudi  Standard  2016          2.0   \n",
              "3631   Camry  Riyadh   Toyota  Automatic  Saudi      Full  2013          2.5   \n",
              "4646  Sonata  Jeddah  Hyundai  Automatic  Saudi  Standard  2020          2.4   \n",
              "4933  Tucson  Dammam  Hyundai  Automatic  Saudi  Standard  2016          2.0   \n",
              "5267   Camry  Riyadh   Toyota  Automatic  Saudi      Full  2013          2.5   \n",
              "\n",
              "      Mileage  Negotiable  Price  \n",
              "236       100       False  72910  \n",
              "540    270000       False  25000  \n",
              "953    270000       False  25000  \n",
              "2012   155000       False  45000  \n",
              "3631   185000        True      0  \n",
              "4646      100       False  72910  \n",
              "4933   155000       False  45000  \n",
              "5267   185000        True      0  "
            ]
          },
          "execution_count": 77,
          "metadata": {},
          "output_type": "execute_result"
        }
      ],
      "source": [
        "sa_cars[sa_cars.duplicated(keep =False)]"
      ]
    },
    {
      "cell_type": "markdown",
      "id": "kdWnLkd23Wiy",
      "metadata": {
        "id": "kdWnLkd23Wiy"
      },
      "source": [
        "There are 4 duplicated vales."
      ]
    },
    {
      "cell_type": "code",
      "execution_count": 78,
      "id": "04c62559-3b48-48cf-a4e9-857e2e0ff416",
      "metadata": {
        "id": "04c62559-3b48-48cf-a4e9-857e2e0ff416"
      },
      "outputs": [],
      "source": [
        "# go to delete duplicates vales"
      ]
    },
    {
      "cell_type": "markdown",
      "id": "c7724ac2-4ea2-4cf4-a9e0-e64368f87b92",
      "metadata": {
        "id": "c7724ac2-4ea2-4cf4-a9e0-e64368f87b92"
      },
      "source": [
        "#### 6. Completeness:\n",
        "Ensure that no critical data is missing. This might mean checking for null values or required fields that are empty.\n",
        "\n",
        "We will start by checking the dataset for missing or null values. For this, we can use the isna() method which returns a dataframe of boolean values indicating if a field is null or not. To group all missing values by column, we can include the sum() method."
      ]
    },
    {
      "cell_type": "markdown",
      "id": "vDU023DW3cvp",
      "metadata": {
        "id": "vDU023DW3cvp"
      },
      "source": [
        "There is no missing values."
      ]
    },
    {
      "cell_type": "code",
      "execution_count": 79,
      "id": "48a4de54-a344-4b94-9908-9528c15c13f7",
      "metadata": {
        "id": "48a4de54-a344-4b94-9908-9528c15c13f7"
      },
      "outputs": [],
      "source": [
        "#Display number missing values per column"
      ]
    },
    {
      "cell_type": "code",
      "execution_count": 80,
      "id": "abec31c4-0904-4b73-8cee-b7bc14ab1e67",
      "metadata": {
        "id": "abec31c4-0904-4b73-8cee-b7bc14ab1e67"
      },
      "outputs": [],
      "source": [
        "# go to clean them"
      ]
    },
    {
      "cell_type": "markdown",
      "id": "b40de63c-5a1d-49ed-a87e-c5229ee08bbe",
      "metadata": {
        "id": "b40de63c-5a1d-49ed-a87e-c5229ee08bbe"
      },
      "source": [
        "#### 7. Check Accuracy:\n",
        "\n",
        "Verify that the data is correct and precise. This could involve comparing data samples with known sources or using validation rules.\n",
        "\n",
        "**The process includes:**\n",
        "1. Validating the appropriateness of data types for the dataset.\n",
        "2. Identifying outliers  using established validation  rule"
      ]
    },
    {
      "cell_type": "code",
      "execution_count": 81,
      "id": "68be5334-ae10-4abd-8097-3259fe5e72c8",
      "metadata": {
        "id": "68be5334-ae10-4abd-8097-3259fe5e72c8"
      },
      "outputs": [],
      "source": [
        "# check columns types"
      ]
    },
    {
      "cell_type": "code",
      "execution_count": 82,
      "id": "tD7r0O4G3se1",
      "metadata": {
        "id": "tD7r0O4G3se1"
      },
      "outputs": [
        {
          "data": {
            "image/png": "[encoded data removed]",
            "text/plain": [
              "<Figure size 640x480 with 1 Axes>"
            ]
          },
          "metadata": {},
          "output_type": "display_data"
        }
      ],
      "source": [
        "plt.hist(sa_cars['Mileage'], bins = 300);"
      ]
    },
    {
      "cell_type": "code",
      "execution_count": 83,
      "id": "Ex_AmS1k4DfR",
      "metadata": {
        "id": "Ex_AmS1k4DfR"
      },
      "outputs": [
        {
          "data": {
            "text/html": [
              "<div>\n",
              "<style scoped>\n",
              "    .dataframe tbody tr th:only-of-type {\n",
              "        vertical-align: middle;\n",
              "    }\n",
              "\n",
              "    .dataframe tbody tr th {\n",
              "        vertical-align: top;\n",
              "    }\n",
              "\n",
              "    .dataframe thead th {\n",
              "        text-align: right;\n",
              "    }\n",
              "</style>\n",
              "<table border=\"1\" class=\"dataframe\">\n",
              "  <thead>\n",
              "    <tr style=\"text-align: right;\">\n",
              "      <th></th>\n",
              "      <th>Type</th>\n",
              "      <th>Region</th>\n",
              "      <th>Make</th>\n",
              "      <th>Gear_Type</th>\n",
              "      <th>Origin</th>\n",
              "      <th>Options</th>\n",
              "      <th>Year</th>\n",
              "      <th>Engine_Size</th>\n",
              "      <th>Mileage</th>\n",
              "      <th>Negotiable</th>\n",
              "      <th>Price</th>\n",
              "    </tr>\n",
              "  </thead>\n",
              "  <tbody>\n",
              "    <tr>\n",
              "      <th>3403</th>\n",
              "      <td>Optra</td>\n",
              "      <td>Riyadh</td>\n",
              "      <td>Chevrolet</td>\n",
              "      <td>Manual</td>\n",
              "      <td>Other</td>\n",
              "      <td>Semi Full</td>\n",
              "      <td>2009</td>\n",
              "      <td>1.6</td>\n",
              "      <td>20000000</td>\n",
              "      <td>False</td>\n",
              "      <td>9000</td>\n",
              "    </tr>\n",
              "  </tbody>\n",
              "</table>\n",
              "</div>"
            ],
            "text/plain": [
              "       Type  Region       Make Gear_Type Origin    Options  Year  Engine_Size  \\\n",
              "3403  Optra  Riyadh  Chevrolet    Manual  Other  Semi Full  2009          1.6   \n",
              "\n",
              "       Mileage  Negotiable  Price  \n",
              "3403  20000000       False   9000  "
            ]
          },
          "execution_count": 83,
          "metadata": {},
          "output_type": "execute_result"
        }
      ],
      "source": [
        "sa_cars[sa_cars['Mileage'] == \t20000000]"
      ]
    },
    {
      "cell_type": "code",
      "execution_count": 84,
      "id": "2ee790ba-dcc0-45f1-b6f8-0133e913e149",
      "metadata": {
        "id": "2ee790ba-dcc0-45f1-b6f8-0133e913e149"
      },
      "outputs": [],
      "source": [
        "# go to clean them"
      ]
    },
    {
      "cell_type": "code",
      "execution_count": 85,
      "id": "c69b303a-5459-45f9-a28e-fcee45c21c05",
      "metadata": {
        "id": "c69b303a-5459-45f9-a28e-fcee45c21c05"
      },
      "outputs": [],
      "source": [
        "# check outliers"
      ]
    },
    {
      "cell_type": "markdown",
      "id": "4aca9d42-add6-45db-92cf-1f6dae5f277b",
      "metadata": {
        "id": "4aca9d42-add6-45db-92cf-1f6dae5f277b"
      },
      "source": [
        "**What is an Outlier?**\n",
        "Outlier is an row/observation that appears far away and diverges from an overall pattern in a sample.\n",
        "\n",
        "**What are the types of Outliers?**\n",
        "1. Univariate: These outliers can be found when we look at distribution of a single variable\n",
        "2. Multivariate: are outliers in an n-dimensional space. In order to find them, you have to look at distributions in multi-dimensions. example (hight=100, weight=100) for a person\n",
        "\n",
        "**What causes Outliers?**\n",
        "Whenever we come across outliers, the ideal way to tackle them is to find out the reason of having these outliers. The method to deal with them would then depend on the reason of their occurrence.\n",
        "\n",
        "Let’s understand various types of outliers:\n",
        "\n",
        "1. Data Entry Errors:- Human errors such as errors caused during data collection, recording, or entry can cause outliers in data.\n",
        "2. Measurement Error: It is the most common source of outliers. This is caused when the measurement instrument used turns out to be faulty.\n",
        "3. Data Processing Error: Whenever we perform data mining, we extract data from multiple sources. It is possible that some manipulation or extraction errors may lead to outliers in the dataset.\n",
        "4. Sampling error: For instance, we have to measure the height of athletes. By mistake, we include a few basketball players in the sample. This inclusion is likely to cause outliers in the dataset.\n",
        "5. Natural Outlier: When an outlier is not artificial (due to error), it is a natural outlier. For instance: In my last assignment with one of the renowned insurance company, I noticed that the performance of top 50 financial advisors was far higher than rest of the population. Surprisingly, it was not due to any error. Hence, whenever we perform any data mining activity with advisors, we used to treat this segment separately.\n",
        "\n",
        "\n",
        "**What is the impact of Outliers on a dataset?**\n",
        "\n",
        "\n",
        "![image.png](https://www.analyticsvidhya.com/wp-content/uploads/2015/02/Outlier_31.png)\n",
        "\n",
        "\n",
        "\n",
        "**How to detect Outliers?**\n",
        "\n",
        "1. Most commonly used method to detect outliers is visualization (Univariate Graphical Analysis).\n",
        "\n",
        "We use 3 common visualization methods:\n",
        ">- Box-plot: A box plot is a method for graphically depicting groups of numerical data through their quartiles. The box extends from the Q1 to Q3 quartile values of the data, with a line at the median (Q2). The whiskers extend from the edges of the box to show the range of the data. Outlier points are those past the end of the whiskers. Box plots show robust measures of location and spread as well as providing information about symmetry and outliers.\n",
        ">\n",
        ">  \n",
        ">![image.png](https://miro.medium.com/v2/resize:fit:698/format:webp/1*VK5iHA2AB28HSZwWwUbNYg.png)\n",
        ">\n",
        ">\n",
        ">- Histogram\n",
        ">- Scatter Plot: A scatter plot is a mathematical diagram using Cartesian coordinates to display values for two variables for a set of data. The data are displayed as a collection of points, each having the value of one variable determining the position on the horizontal axis and the value of the other variable determining the position on the vertical axis. The points that are far from the population can be termed as an outlier.\n",
        ">\n",
        ">  \n",
        ">![image.png](https://miro.medium.com/v2/resize:fit:4800/format:webp/1*Ov6aH-8yIwNoUxtMFwgx4g.png)\n",
        ">\n",
        ">\n",
        "\n",
        "2. Using statistical method (Univariate Non-Graphical analysis):\n",
        ">- Any value, which is beyond the range of -1.5 x IQR to 1.5 x IQR\n",
        "\n",
        "![image.png](https://www.whatissixsigma.net/wp-content/uploads/2015/07/Box-Plot-Diagram-to-identify-Outliers-figure-1.png)\n",
        "\n",
        ">- Use capping methods. Any value which out of range of 5th and 95th percentile can be considered as outlier\n",
        ">- Data points, three or more standard deviation away from mean are considered outlier: The Z-score is the signed number of standard deviations by which the value of an observation or data point is above the mean value of what is being observed or measured. While calculating the Z-score we re-scale and center the data and look for data points that are too far from zero. These data points which are way too far from zero will be treated as the outliers. In most of the cases, a threshold of 3 or -3 is used i.e if the Z-score value is greater than or less than 3 or -3 respectively, that data point will be identified as outliers.\n",
        "> - Outlier detection is merely a special case of the examination of data for influential data points and it also depends on the business understanding\n"
      ]
    },
    {
      "cell_type": "code",
      "execution_count": 86,
      "id": "74ea6194-cc01-45d8-be38-c4543eb1714e",
      "metadata": {
        "id": "74ea6194-cc01-45d8-be38-c4543eb1714e"
      },
      "outputs": [],
      "source": [
        "# go to univariate graphical analysis\n",
        "# go to lesson : data visualisation 1 - chart type section\n",
        "# then go to univariate graphical analysis\n",
        "# detect outliers using graphs varbaly"
      ]
    },
    {
      "cell_type": "code",
      "execution_count": 87,
      "id": "48ecf77b-480c-4f64-9485-95be805bc357",
      "metadata": {
        "id": "48ecf77b-480c-4f64-9485-95be805bc357"
      },
      "outputs": [],
      "source": [
        "# go to lesson: statistics 1 then statistics 3\n",
        "# then go to univariate Non graphical analysis\n",
        "# detect outliers using numerical statistics"
      ]
    },
    {
      "cell_type": "code",
      "execution_count": 88,
      "id": "ee200da8-62b0-492d-b118-f4d665a1fb16",
      "metadata": {
        "id": "ee200da8-62b0-492d-b118-f4d665a1fb16"
      },
      "outputs": [
        {
          "data": {
            "text/plain": [
              "np.float64(158000.0)"
            ]
          },
          "execution_count": 88,
          "metadata": {},
          "output_type": "execute_result"
        }
      ],
      "source": [
        "Q1 = sa_cars['Mileage'].quantile(0.25)\n",
        "Q3 = sa_cars['Mileage'].quantile(0.75)\n",
        "IQR = Q3 - Q1\n",
        "IQR"
      ]
    },
    {
      "cell_type": "code",
      "execution_count": null,
      "id": "AESbTSuW7jkr",
      "metadata": {
        "id": "AESbTSuW7jkr"
      },
      "outputs": [],
      "source": []
    },
    {
      "cell_type": "code",
      "execution_count": 89,
      "id": "4e66d611-6958-4860-8522-9ada7fce40b0",
      "metadata": {
        "id": "4e66d611-6958-4860-8522-9ada7fce40b0"
      },
      "outputs": [],
      "source": [
        "# go to delete ouliers"
      ]
    },
    {
      "cell_type": "markdown",
      "id": "4e886ec7-388c-414b-ada7-803c2fb1f2cb",
      "metadata": {
        "id": "4e886ec7-388c-414b-ada7-803c2fb1f2cb"
      },
      "source": [
        "## 2. Data Cleaning:\n",
        "\n",
        "Preliminary findings from data profiling can lead to cleaning the data by:\n",
        "- Handling missing values\n",
        "- Correcting errors.\n",
        "- Dealing with outliers.\n",
        "\n",
        "-------------------\n",
        "\n"
      ]
    },
    {
      "cell_type": "markdown",
      "id": "21876b48-f5ec-4970-85a9-0520d45d8841",
      "metadata": {
        "id": "21876b48-f5ec-4970-85a9-0520d45d8841"
      },
      "source": [
        "### Handling missing values:"
      ]
    },
    {
      "cell_type": "markdown",
      "id": "c890d5a2-2a65-4090-9427-f89c0f011d3f",
      "metadata": {
        "id": "c890d5a2-2a65-4090-9427-f89c0f011d3f"
      },
      "source": [
        "**Why my data has missing values?**\n",
        "They may occur at two stages:\n",
        "1. Data Extraction: It is possible that there are problems with extraction process. Errors at data extraction stage are typically easy to find and can be corrected easily as well.\n",
        "2. Data collection: These errors occur at time of data collection and are harder to correct.\n",
        "\n",
        "**Why do we need to handle the missing data?**\n",
        "To avoid:\n",
        "- Bias the conclusions.\n",
        "- Leading the business to make wrong decisions.\n",
        "\n",
        "**Which are the methods to treat missing values ?**\n",
        "1. Deletion: we delete rows where any of the variable is missing. Simplicity is one of the major advantage of this method, but this method reduces the power of model because it reduces the sample size.\n",
        "\n",
        "2. Imputation: is a method to fill in the missing values with estimated ones. This imputation is one of the most frequently used methods.\n",
        "\n",
        "    2.1. Mean/ Mode/ Median Imputation: It consists of replacing the missing data for a given attribute by the mean or median (quantitative attribute) or mode (qualitative attribute) of all known values of that variable.\n",
        "    > It can be of two types:\n",
        "    > - Generalized Imputation: In this case, we calculate the mean or median for all non missing values of that variable then replace missing value with mean or median.\n",
        "    > - Similar case Imputation: In this case, we calculate average for each group individually of non missing values then replace the missing value based on the group.\n",
        "\n",
        "    2.2. Constant Value\n",
        "   \n",
        "    2.3. Forward Filling\n",
        "   \n",
        "    2.4. Backward Filling\n",
        "\n",
        "6. Prediction Model:  Prediction model is one of the sophisticated method for handling missing data. Here, we create a predictive model to estimate values that will substitute the missing data.  In this case, we divide our data set into two sets: One set with no missing values for the variable and another one with missing values. First data set become training data set of the model while second data set with missing values is test data set and variable with missing values is treated as target variable. Next, we create a model to predict target variable based on other attributes of the training data set and populate missing values of test data set.\n",
        "\n",
        "> There are 2 drawbacks for this approach:\n",
        "> - The model estimated values are usually more well-behaved than the true values\n",
        "> - If there are no relationships with attributes in the data set and the attribute with missing values, then the model will not be precise for estimating missing values.\n",
        "\n",
        "9. KNN Imputation: In this method of imputation, the missing values of an attribute are imputed using the given number of attributes that are most similar to the attribute whose values are missing. The similarity of two attributes is determined using a distance function. It is also known to have certain advantage & disadvantages.\n",
        "\n",
        "   > **Advantages:**\n",
        "   > - k-nearest neighbour can predict both qualitative & quantitative attributes\n",
        "   > - Creation of predictive model for each attribute with missing data is not required\n",
        "   > - Attributes with multiple missing values can be easily treated\n",
        "   > - Correlation structure of the data is taken into consideration\n",
        "\n",
        "   > **Disadvantage:**\n",
        "   > - KNN algorithm is very time-consuming in analyzing large database. It searches through all the dataset looking for the most similar instances.\n",
        "   > - Choice of k-value is very critical. Higher value of k would include attributes which are significantly different from what we need whereas lower value of k implies missing out of significant attributes.\n",
        "\n",
        "--------------------\n"
      ]
    },
    {
      "cell_type": "code",
      "execution_count": null,
      "id": "57e741fb-71c1-46ad-a526-d8f0b1564dc3",
      "metadata": {
        "id": "57e741fb-71c1-46ad-a526-d8f0b1564dc3"
      },
      "outputs": [],
      "source": []
    },
    {
      "cell_type": "code",
      "execution_count": 90,
      "id": "01287962-8077-4c01-8d1d-5f8aed6cb37a",
      "metadata": {
        "id": "01287962-8077-4c01-8d1d-5f8aed6cb37a"
      },
      "outputs": [],
      "source": [
        "# go back to 6th dimention --> Completeness"
      ]
    },
    {
      "cell_type": "markdown",
      "id": "f7cee10f-0af8-44e5-b595-8e965294daad",
      "metadata": {
        "id": "f7cee10f-0af8-44e5-b595-8e965294daad"
      },
      "source": [
        "### Correcting errors\n",
        "\n",
        "-------------------"
      ]
    },
    {
      "cell_type": "code",
      "execution_count": 91,
      "id": "06273b88-a169-42e8-81f5-5d71cb3f9c21",
      "metadata": {
        "id": "06273b88-a169-42e8-81f5-5d71cb3f9c21"
      },
      "outputs": [],
      "source": [
        "sa_cars.drop_duplicates(inplace = True)"
      ]
    },
    {
      "cell_type": "code",
      "execution_count": 92,
      "id": "g-agehu53PVu",
      "metadata": {
        "id": "g-agehu53PVu"
      },
      "outputs": [
        {
          "data": {
            "text/html": [
              "<div>\n",
              "<style scoped>\n",
              "    .dataframe tbody tr th:only-of-type {\n",
              "        vertical-align: middle;\n",
              "    }\n",
              "\n",
              "    .dataframe tbody tr th {\n",
              "        vertical-align: top;\n",
              "    }\n",
              "\n",
              "    .dataframe thead th {\n",
              "        text-align: right;\n",
              "    }\n",
              "</style>\n",
              "<table border=\"1\" class=\"dataframe\">\n",
              "  <thead>\n",
              "    <tr style=\"text-align: right;\">\n",
              "      <th></th>\n",
              "      <th>Type</th>\n",
              "      <th>Region</th>\n",
              "      <th>Make</th>\n",
              "      <th>Gear_Type</th>\n",
              "      <th>Origin</th>\n",
              "      <th>Options</th>\n",
              "      <th>Year</th>\n",
              "      <th>Engine_Size</th>\n",
              "      <th>Mileage</th>\n",
              "      <th>Negotiable</th>\n",
              "      <th>Price</th>\n",
              "    </tr>\n",
              "  </thead>\n",
              "  <tbody>\n",
              "  </tbody>\n",
              "</table>\n",
              "</div>"
            ],
            "text/plain": [
              "Empty DataFrame\n",
              "Columns: [Type, Region, Make, Gear_Type, Origin, Options, Year, Engine_Size, Mileage, Negotiable, Price]\n",
              "Index: []"
            ]
          },
          "execution_count": 92,
          "metadata": {},
          "output_type": "execute_result"
        }
      ],
      "source": [
        "sa_cars[sa_cars.duplicated(keep =False)]"
      ]
    },
    {
      "cell_type": "code",
      "execution_count": 93,
      "id": "84dd5IJg8D7-",
      "metadata": {
        "id": "84dd5IJg8D7-"
      },
      "outputs": [
        {
          "data": {
            "text/html": [
              "<div>\n",
              "<style scoped>\n",
              "    .dataframe tbody tr th:only-of-type {\n",
              "        vertical-align: middle;\n",
              "    }\n",
              "\n",
              "    .dataframe tbody tr th {\n",
              "        vertical-align: top;\n",
              "    }\n",
              "\n",
              "    .dataframe thead th {\n",
              "        text-align: right;\n",
              "    }\n",
              "</style>\n",
              "<table border=\"1\" class=\"dataframe\">\n",
              "  <thead>\n",
              "    <tr style=\"text-align: right;\">\n",
              "      <th></th>\n",
              "      <th>Type</th>\n",
              "      <th>Region</th>\n",
              "      <th>Make</th>\n",
              "      <th>Gear_Type</th>\n",
              "      <th>Origin</th>\n",
              "      <th>Options</th>\n",
              "      <th>Year</th>\n",
              "      <th>Engine_Size</th>\n",
              "      <th>Mileage</th>\n",
              "      <th>Negotiable</th>\n",
              "      <th>Price</th>\n",
              "    </tr>\n",
              "  </thead>\n",
              "  <tbody>\n",
              "    <tr>\n",
              "      <th>3168</th>\n",
              "      <td>Furniture</td>\n",
              "      <td>Riyadh</td>\n",
              "      <td>Toyota</td>\n",
              "      <td>Automatic</td>\n",
              "      <td>Other</td>\n",
              "      <td>Semi Full</td>\n",
              "      <td>2012</td>\n",
              "      <td>2.7</td>\n",
              "      <td>225000</td>\n",
              "      <td>False</td>\n",
              "      <td>0</td>\n",
              "    </tr>\n",
              "  </tbody>\n",
              "</table>\n",
              "</div>"
            ],
            "text/plain": [
              "           Type  Region    Make  Gear_Type Origin    Options  Year  \\\n",
              "3168  Furniture  Riyadh  Toyota  Automatic  Other  Semi Full  2012   \n",
              "\n",
              "      Engine_Size  Mileage  Negotiable  Price  \n",
              "3168          2.7   225000       False      0  "
            ]
          },
          "execution_count": 93,
          "metadata": {},
          "output_type": "execute_result"
        }
      ],
      "source": [
        "sa_cars[(sa_cars['Negotiable'] == False) & (sa_cars['Price'] == 0)]"
      ]
    },
    {
      "cell_type": "code",
      "execution_count": 94,
      "id": "egCGQ6h88cWH",
      "metadata": {
        "id": "egCGQ6h88cWH"
      },
      "outputs": [],
      "source": [
        "sa_cars.drop(sa_cars[(sa_cars['Negotiable'] == False) & (sa_cars['Price'] == 0)].index, inplace=True)"
      ]
    },
    {
      "cell_type": "code",
      "execution_count": 95,
      "id": "XxwIc4B08mn6",
      "metadata": {
        "id": "XxwIc4B08mn6"
      },
      "outputs": [
        {
          "data": {
            "text/html": [
              "<div>\n",
              "<style scoped>\n",
              "    .dataframe tbody tr th:only-of-type {\n",
              "        vertical-align: middle;\n",
              "    }\n",
              "\n",
              "    .dataframe tbody tr th {\n",
              "        vertical-align: top;\n",
              "    }\n",
              "\n",
              "    .dataframe thead th {\n",
              "        text-align: right;\n",
              "    }\n",
              "</style>\n",
              "<table border=\"1\" class=\"dataframe\">\n",
              "  <thead>\n",
              "    <tr style=\"text-align: right;\">\n",
              "      <th></th>\n",
              "      <th>Type</th>\n",
              "      <th>Region</th>\n",
              "      <th>Make</th>\n",
              "      <th>Gear_Type</th>\n",
              "      <th>Origin</th>\n",
              "      <th>Options</th>\n",
              "      <th>Year</th>\n",
              "      <th>Engine_Size</th>\n",
              "      <th>Mileage</th>\n",
              "      <th>Negotiable</th>\n",
              "      <th>Price</th>\n",
              "    </tr>\n",
              "  </thead>\n",
              "  <tbody>\n",
              "  </tbody>\n",
              "</table>\n",
              "</div>"
            ],
            "text/plain": [
              "Empty DataFrame\n",
              "Columns: [Type, Region, Make, Gear_Type, Origin, Options, Year, Engine_Size, Mileage, Negotiable, Price]\n",
              "Index: []"
            ]
          },
          "execution_count": 95,
          "metadata": {},
          "output_type": "execute_result"
        }
      ],
      "source": [
        "sa_cars[(sa_cars['Negotiable'] == False) & (sa_cars['Price'] == 0)]"
      ]
    },
    {
      "cell_type": "code",
      "execution_count": 96,
      "id": "f1d95da5-a3ba-473a-8243-aa177cadae20",
      "metadata": {
        "id": "f1d95da5-a3ba-473a-8243-aa177cadae20"
      },
      "outputs": [],
      "source": [
        "# go back to 7th dimension Accuracy"
      ]
    },
    {
      "cell_type": "markdown",
      "id": "5ecc7dbb-6867-44cf-8f99-1b969a80be40",
      "metadata": {
        "id": "5ecc7dbb-6867-44cf-8f99-1b969a80be40"
      },
      "source": [
        "### Dealing with outliers:"
      ]
    },
    {
      "cell_type": "markdown",
      "id": "88347887-4bdf-48af-9486-cb8fe80c97af",
      "metadata": {
        "id": "88347887-4bdf-48af-9486-cb8fe80c97af"
      },
      "source": [
        "**How to remove Outliers?**\n",
        "Most of the ways to deal with outliers are similar to the methods of missing values like deleting rows, transforming them, binning them, treat them as a separate group, imputing values and other statistical methods. Here, we will discuss the common techniques used to deal with outliers:\n",
        "\n",
        "1. Deleting rows: We delete outlier values if it is due to data entry error, data processing error or outlier rows are very small in numbers. We can also use trimming at both ends to remove outliers.\n",
        "\n",
        "2. Imputing: Like imputation of missing values, we can also impute outliers. We can use mean, median, mode imputation methods. Before imputing values, we should analyse if it is natural outlier or artificial. If it is artificial, we can go with imputing values. We can also use statistical model to predict values of outlier rows and after that we can impute it with predicted values.\n",
        "\n",
        "3. Treat separately: If there are significant number of outliers, we should treat them separately in the statistical model. One of the approach is to treat both groups as two different groups and build individual model for both groups and then combine the output.\n"
      ]
    },
    {
      "cell_type": "code",
      "execution_count": 97,
      "id": "25a585f0-2b9c-42fa-bf21-cacc6aa3be3f",
      "metadata": {
        "id": "25a585f0-2b9c-42fa-bf21-cacc6aa3be3f"
      },
      "outputs": [
        {
          "data": {
            "text/plain": [
              "3815    2149656\n",
              "3797    2500000\n",
              "1334    2800000\n",
              "4761    3000000\n",
              "3387    3000000\n",
              "4875    3150000\n",
              "915     3180003\n",
              "307     3187031\n",
              "4462    3275230\n",
              "4548    3300000\n",
              "1412    3500000\n",
              "4193    3640000\n",
              "1627    3700562\n",
              "5041    4000000\n",
              "4766    4010000\n",
              "104     4358765\n",
              "572     4500000\n",
              "1285    4691232\n",
              "5514    4900000\n",
              "1224    9999999\n",
              "Name: Mileage, dtype: int64"
            ]
          },
          "execution_count": 97,
          "metadata": {},
          "output_type": "execute_result"
        }
      ],
      "source": [
        "sa_cars = sa_cars.drop(sa_cars[sa_cars['Mileage'] == 20000000].index)\n",
        "sa_cars['Mileage'].sort_values().tail(20)"
      ]
    },
    {
      "cell_type": "code",
      "execution_count": 98,
      "id": "K6swdS0R7oiU",
      "metadata": {
        "id": "K6swdS0R7oiU"
      },
      "outputs": [
        {
          "data": {
            "text/plain": [
              "0.250      38000.00\n",
              "0.500     103000.00\n",
              "0.750     195914.25\n",
              "0.999    4003830.00\n",
              "Name: Mileage, dtype: float64"
            ]
          },
          "execution_count": 98,
          "metadata": {},
          "output_type": "execute_result"
        }
      ],
      "source": [
        "sa_cars['Mileage'].quantile([0.25, 0.50, 0.75, 0.999])"
      ]
    },
    {
      "cell_type": "code",
      "execution_count": 99,
      "id": "y6y2IDP3-gsa",
      "metadata": {
        "id": "y6y2IDP3-gsa"
      },
      "outputs": [],
      "source": [
        "sa_cars = sa_cars.drop(sa_cars[sa_cars['Mileage'] > 5000000].index)"
      ]
    },
    {
      "cell_type": "code",
      "execution_count": 100,
      "id": "fsKkS15h_Bw1",
      "metadata": {
        "id": "fsKkS15h_Bw1"
      },
      "outputs": [
        {
          "data": {
            "image/png": "[encoded data removed]",
            "text/plain": [
              "<Figure size 640x480 with 1 Axes>"
            ]
          },
          "metadata": {},
          "output_type": "display_data"
        }
      ],
      "source": [
        "plt.hist(sa_cars['Mileage'], bins = 300);"
      ]
    },
    {
      "cell_type": "markdown",
      "id": "98548b66-e309-4eb8-a5dc-65fe0abbf1e8",
      "metadata": {
        "id": "98548b66-e309-4eb8-a5dc-65fe0abbf1e8"
      },
      "source": [
        "## 3. Univariate Analysis:\n",
        "\n",
        "This involves examining single variables to understand their characteristics (distribution, central tendency, dispersion, and shape).\n",
        "\n",
        "We calculate **numerical values** about the data that tells us about the distribution of the data. We also **draw graphs** showing visually how the data is distributed. **To answer the following questions about Features/characteristics of Data:**\n",
        "- Where is the center of the data? (location)\n",
        "- How much does the data vary? (scale)\n",
        "- What is the shape of the data? (shape)\n",
        "\n",
        "**The benefits of this analysis:**\n",
        "Statistics summary gives a high-level idea to identify whether the data has any outliers, data entry error, distribution of data such as the data is normally distributed or left/right skewed\n",
        "\n",
        "**In this step, we will explore variables one by one using following approaches:**"
      ]
    },
    {
      "cell_type": "markdown",
      "id": "d6718111-7ac2-4fff-9851-654655b62e0b",
      "metadata": {
        "id": "d6718111-7ac2-4fff-9851-654655b62e0b"
      },
      "source": [
        "### 1. Univariate Graphical Analysis:\n",
        "Method to perform uni-variate analysis will depend on whether the variable type is categorical or numerical."
      ]
    },
    {
      "cell_type": "markdown",
      "id": "0d57c4b9-9bb3-494d-85dd-b8d39afda139",
      "metadata": {
        "id": "0d57c4b9-9bb3-494d-85dd-b8d39afda139"
      },
      "source": [
        "#### I. Categorical Variables:\n",
        "\n",
        "we’ll use frequency table to understand distribution of each category\n",
        "- Bar Chart (Ordinal) - Orderd\n",
        "- Pie Chart (Nominal) - non Orderd"
      ]
    },
    {
      "cell_type": "code",
      "execution_count": 101,
      "id": "72ece4b7-5508-403a-8fb0-f519fc74272a",
      "metadata": {
        "id": "72ece4b7-5508-403a-8fb0-f519fc74272a"
      },
      "outputs": [
        {
          "data": {
            "image/png": "[encoded data removed]",
            "text/plain": [
              "<Figure size 800x800 with 1 Axes>"
            ]
          },
          "metadata": {},
          "output_type": "display_data"
        }
      ],
      "source": [
        "import matplotlib.pyplot as plt\n",
        "\n",
        "options_counts = sa_cars['Options'].value_counts()\n",
        "\n",
        "plt.figure(figsize=(8, 8))\n",
        "plt.pie(options_counts, labels=options_counts.index, autopct='%1.1f%%', colors=['royalblue', 'lightblue', 'skyblue', 'steelblue'])\n",
        "\n",
        "plt.title(\"Distribution of Car Options\", fontsize=14)\n",
        "\n",
        "plt.show()\n"
      ]
    },
    {
      "cell_type": "code",
      "execution_count": 102,
      "id": "PrDjHM6eTSXq",
      "metadata": {
        "id": "PrDjHM6eTSXq"
      },
      "outputs": [
        {
          "data": {
            "image/png": "[encoded data removed]",
            "text/plain": [
              "<Figure size 800x800 with 1 Axes>"
            ]
          },
          "metadata": {},
          "output_type": "display_data"
        }
      ],
      "source": [
        "\n",
        "gear_type_counts = sa_cars['Gear_Type'].value_counts()\n",
        "\n",
        "plt.figure(figsize=(8, 8))\n",
        "plt.pie(gear_type_counts, labels=gear_type_counts.index, autopct='%1.1f%%', colors=['royalblue', 'lightblue', 'skyblue', 'steelblue'])\n",
        "\n",
        "plt.title(\"Distribution of Gear Types\", fontsize=14)\n",
        "\n",
        "plt.show()\n"
      ]
    },
    {
      "cell_type": "code",
      "execution_count": 103,
      "id": "gChmUyiNG6s0",
      "metadata": {
        "id": "gChmUyiNG6s0"
      },
      "outputs": [
        {
          "data": {
            "text/plain": [
              "Gear_Type\n",
              "Automatic    4870\n",
              "Manual        747\n",
              "Name: count, dtype: int64"
            ]
          },
          "execution_count": 103,
          "metadata": {},
          "output_type": "execute_result"
        }
      ],
      "source": [
        "sa_cars['Gear_Type'].value_counts()"
      ]
    },
    {
      "cell_type": "markdown",
      "id": "d2641f0d-80f2-493b-99b7-15476379a1e2",
      "metadata": {
        "id": "d2641f0d-80f2-493b-99b7-15476379a1e2"
      },
      "source": [
        "#### II. Numerical Variables:\n",
        "\n",
        "we need to understand the central tendency and spread of the variable (Descriptive Analysis) using:\n",
        "   - Box plot\n",
        "   - Histogram"
      ]
    },
    {
      "cell_type": "code",
      "execution_count": null,
      "id": "5be16f08-a072-4a02-a3ee-6f9d57786fb4",
      "metadata": {
        "id": "5be16f08-a072-4a02-a3ee-6f9d57786fb4"
      },
      "outputs": [],
      "source": []
    },
    {
      "cell_type": "markdown",
      "id": "d66677d3-44ad-414f-9b39-f9c1995ad043",
      "metadata": {
        "id": "d66677d3-44ad-414f-9b39-f9c1995ad043"
      },
      "source": [
        "### 2. Univariate Non-Graphical analysis:\n",
        "\n",
        "- Where is the center of the data? (location) --> **Measures of central tendency**\n",
        "- How much does the data vary? (scale) --> **Measure of variability**\n",
        "- What is the shape of the data? (shape) --> **Measures of variation combined with an average (measure of center) gives a good picture of the distribution of the data.**"
      ]
    },
    {
      "cell_type": "code",
      "execution_count": null,
      "id": "f1058d84-e61e-4f5b-b66a-29931e77821b",
      "metadata": {
        "id": "f1058d84-e61e-4f5b-b66a-29931e77821b"
      },
      "outputs": [],
      "source": []
    },
    {
      "cell_type": "markdown",
      "id": "f09bb809-0edd-432b-bf23-abd0840b3e16",
      "metadata": {
        "id": "f09bb809-0edd-432b-bf23-abd0840b3e16"
      },
      "source": [
        "## 4. Bivariate/Multivariate Analysis:\n",
        "\n",
        "Here, you look at the relationships between two or more variables. This can involve looking for correlations, patterns, and trends that suggest a relationship or an association.\n",
        "\n",
        "We can perform bi-variate analysis for any combination of categorical and numerical variables. The combination can be:\n",
        "| bi-variate variables   | Plot type |\n",
        "| ------------- | ------------- |\n",
        "| Categorical & Categorical| Stacked Bar Chart |\n",
        "| Categorical & numerical  | scatter plot, histogram, box plot|\n",
        "| numerical  & numerical  | Scatter plot, line chart|\n",
        "\n",
        "\n",
        "Multivariate Analysis:\n",
        "- Heat map\n",
        "- Bar Chart\n",
        "- Scatter Chart\n",
        "- Line Chart"
      ]
    },
    {
      "cell_type": "markdown",
      "id": "838f2864-ce9e-4f15-99c8-052d053154a7",
      "metadata": {
        "id": "838f2864-ce9e-4f15-99c8-052d053154a7"
      },
      "source": [
        "**Categorical & Categorical --> (Stacked Column Chart)**"
      ]
    },
    {
      "cell_type": "code",
      "execution_count": null,
      "id": "73f9f2ac-8477-49ea-9c68-4fe44d4395b6",
      "metadata": {
        "id": "73f9f2ac-8477-49ea-9c68-4fe44d4395b6"
      },
      "outputs": [],
      "source": []
    },
    {
      "cell_type": "markdown",
      "id": "730e088f-fe13-40da-8fbb-686f5135fa4d",
      "metadata": {
        "id": "730e088f-fe13-40da-8fbb-686f5135fa4d"
      },
      "source": [
        "**Categorical & numerical --> (scatter plot, histogram, box plot)**"
      ]
    },
    {
      "cell_type": "code",
      "execution_count": null,
      "id": "3590e345-2051-4215-91ac-07d196b510ef",
      "metadata": {
        "id": "3590e345-2051-4215-91ac-07d196b510ef"
      },
      "outputs": [],
      "source": []
    },
    {
      "cell_type": "markdown",
      "id": "20aed48d-b78e-46da-963f-e7f15e2f4dc7",
      "metadata": {
        "id": "20aed48d-b78e-46da-963f-e7f15e2f4dc7"
      },
      "source": [
        "**numerical & numerical --> (Scatter plot, line chart)**"
      ]
    },
    {
      "cell_type": "code",
      "execution_count": null,
      "id": "41023177-01cb-4f39-a750-12be71b13bda",
      "metadata": {
        "id": "41023177-01cb-4f39-a750-12be71b13bda"
      },
      "outputs": [],
      "source": []
    },
    {
      "cell_type": "markdown",
      "id": "efb43b30-b1f0-48a4-a19c-195810cc8a0f",
      "metadata": {
        "id": "efb43b30-b1f0-48a4-a19c-195810cc8a0f"
      },
      "source": [
        "We could also use a correlation matrix to get more specific information about the relationship between these two variables."
      ]
    },
    {
      "cell_type": "code",
      "execution_count": null,
      "id": "8406f58f-b825-4a15-8f6e-c68ca66bd483",
      "metadata": {
        "id": "8406f58f-b825-4a15-8f6e-c68ca66bd483"
      },
      "outputs": [],
      "source": []
    },
    {
      "cell_type": "markdown",
      "id": "WckT7BSi_4rA",
      "metadata": {
        "id": "WckT7BSi_4rA"
      },
      "source": [
        "# Q1:"
      ]
    },
    {
      "cell_type": "markdown",
      "id": "hoe5h4Tl_6WP",
      "metadata": {
        "id": "hoe5h4Tl_6WP"
      },
      "source": []
    },
    {
      "cell_type": "code",
      "execution_count": 104,
      "id": "oOlpYlsFAwsB",
      "metadata": {
        "id": "oOlpYlsFAwsB"
      },
      "outputs": [
        {
          "data": {
            "text/plain": [
              "Region\n",
              "Riyadh            206\n",
              "Dammam            132\n",
              "Jeddah             76\n",
              "Al-Ahsa            39\n",
              "Qassim             32\n",
              "Al-Medina          28\n",
              "Aseer              22\n",
              "Makkah             22\n",
              "Taef               21\n",
              "Tabouk             13\n",
              "Abha               13\n",
              "Khobar             11\n",
              "Hail                9\n",
              "Jazan               8\n",
              "Najran              8\n",
              "Yanbu               7\n",
              "Al-Baha             7\n",
              "Hafar Al-Batin      6\n",
              "Al-Jouf             3\n",
              "Qurayyat            3\n",
              "Besha               3\n",
              "Wadi Dawasir        2\n",
              "Arar                1\n",
              "Jubail              1\n",
              "Al-Namas            1\n",
              "Sabya               1\n",
              "Name: count, dtype: int64"
            ]
          },
          "execution_count": 104,
          "metadata": {},
          "output_type": "execute_result"
        }
      ],
      "source": [
        "other = sa_cars[sa_cars['Origin'] == 'Other']\n",
        "other['Region'].value_counts()"
      ]
    },
    {
      "cell_type": "code",
      "execution_count": 105,
      "id": "FcI3UnjsCS8V",
      "metadata": {
        "id": "FcI3UnjsCS8V"
      },
      "outputs": [
        {
          "data": {
            "text/plain": [
              "Region\n",
              "Riyadh            310\n",
              "Dammam            127\n",
              "Qassim             57\n",
              "Jeddah             52\n",
              "Al-Ahsa            23\n",
              "Tabouk             21\n",
              "Al-Medina          14\n",
              "Aseer              13\n",
              "Makkah             13\n",
              "Khobar             10\n",
              "Taef                9\n",
              "Hail                8\n",
              "Jubail              7\n",
              "Al-Jouf             6\n",
              "Najran              5\n",
              "Jazan               5\n",
              "Al-Baha             4\n",
              "Arar                3\n",
              "Qurayyat            2\n",
              "Hafar Al-Batin      2\n",
              "Al-Namas            1\n",
              "Abha                1\n",
              "Sakaka              1\n",
              "Wadi Dawasir        1\n",
              "Yanbu               1\n",
              "Besha               1\n",
              "Name: count, dtype: int64"
            ]
          },
          "execution_count": 105,
          "metadata": {},
          "output_type": "execute_result"
        }
      ],
      "source": [
        "other = sa_cars[sa_cars['Origin'] == 'Gulf Arabic']\n",
        "other['Region'].value_counts()"
      ]
    },
    {
      "cell_type": "code",
      "execution_count": 106,
      "id": "sd9zlAnpCidG",
      "metadata": {
        "id": "sd9zlAnpCidG"
      },
      "outputs": [
        {
          "name": "stderr",
          "output_type": "stream",
          "text": [
            "/var/folders/0p/gw35_vxx0vg7lky7mxpy0crh0000gn/T/ipykernel_5708/2870460014.py:1: SettingWithCopyWarning: \n",
            "A value is trying to be set on a copy of a slice from a DataFrame\n",
            "\n",
            "See the caveats in the documentation: https://pandas.pydata.org/pandas-docs/stable/user_guide/indexing.html#returning-a-view-versus-a-copy\n",
            "  sa_cars[sa_cars['Origin'] == 'Other'].replace('Other', 'Saudi', inplace=True)\n"
          ]
        }
      ],
      "source": [
        "sa_cars[sa_cars['Origin'] == 'Other'].replace('Other', 'Saudi', inplace=True)\n",
        "\n",
        "sa_cars['Origin'] = sa_cars['Origin'].replace('Other', 'Saudi')"
      ]
    },
    {
      "cell_type": "code",
      "execution_count": 107,
      "id": "iWB7zbu-BF87",
      "metadata": {
        "id": "iWB7zbu-BF87"
      },
      "outputs": [],
      "source": [
        "sa_cars['Origin'] = sa_cars['Origin'].replace('Gulf Arabic', 'Saudi')"
      ]
    },
    {
      "cell_type": "code",
      "execution_count": 108,
      "id": "N0VxTPXtBefd",
      "metadata": {
        "id": "N0VxTPXtBefd"
      },
      "outputs": [
        {
          "data": {
            "text/html": [
              "<div>\n",
              "<style scoped>\n",
              "    .dataframe tbody tr th:only-of-type {\n",
              "        vertical-align: middle;\n",
              "    }\n",
              "\n",
              "    .dataframe tbody tr th {\n",
              "        vertical-align: top;\n",
              "    }\n",
              "\n",
              "    .dataframe thead th {\n",
              "        text-align: right;\n",
              "    }\n",
              "</style>\n",
              "<table border=\"1\" class=\"dataframe\">\n",
              "  <thead>\n",
              "    <tr style=\"text-align: right;\">\n",
              "      <th></th>\n",
              "      <th>Type</th>\n",
              "      <th>Region</th>\n",
              "      <th>Make</th>\n",
              "      <th>Gear_Type</th>\n",
              "      <th>Origin</th>\n",
              "      <th>Options</th>\n",
              "      <th>Year</th>\n",
              "      <th>Engine_Size</th>\n",
              "      <th>Mileage</th>\n",
              "      <th>Negotiable</th>\n",
              "      <th>Price</th>\n",
              "    </tr>\n",
              "  </thead>\n",
              "  <tbody>\n",
              "  </tbody>\n",
              "</table>\n",
              "</div>"
            ],
            "text/plain": [
              "Empty DataFrame\n",
              "Columns: [Type, Region, Make, Gear_Type, Origin, Options, Year, Engine_Size, Mileage, Negotiable, Price]\n",
              "Index: []"
            ]
          },
          "execution_count": 108,
          "metadata": {},
          "output_type": "execute_result"
        }
      ],
      "source": [
        "sa_cars[sa_cars['Origin'] == 'Other']"
      ]
    },
    {
      "cell_type": "code",
      "execution_count": 109,
      "id": "vWv4LJcCCyJI",
      "metadata": {
        "id": "vWv4LJcCCyJI"
      },
      "outputs": [
        {
          "data": {
            "text/html": [
              "<div>\n",
              "<style scoped>\n",
              "    .dataframe tbody tr th:only-of-type {\n",
              "        vertical-align: middle;\n",
              "    }\n",
              "\n",
              "    .dataframe tbody tr th {\n",
              "        vertical-align: top;\n",
              "    }\n",
              "\n",
              "    .dataframe thead th {\n",
              "        text-align: right;\n",
              "    }\n",
              "</style>\n",
              "<table border=\"1\" class=\"dataframe\">\n",
              "  <thead>\n",
              "    <tr style=\"text-align: right;\">\n",
              "      <th></th>\n",
              "      <th>Type</th>\n",
              "      <th>Region</th>\n",
              "      <th>Make</th>\n",
              "      <th>Gear_Type</th>\n",
              "      <th>Origin</th>\n",
              "      <th>Options</th>\n",
              "      <th>Year</th>\n",
              "      <th>Engine_Size</th>\n",
              "      <th>Mileage</th>\n",
              "      <th>Negotiable</th>\n",
              "      <th>Price</th>\n",
              "    </tr>\n",
              "  </thead>\n",
              "  <tbody>\n",
              "  </tbody>\n",
              "</table>\n",
              "</div>"
            ],
            "text/plain": [
              "Empty DataFrame\n",
              "Columns: [Type, Region, Make, Gear_Type, Origin, Options, Year, Engine_Size, Mileage, Negotiable, Price]\n",
              "Index: []"
            ]
          },
          "execution_count": 109,
          "metadata": {},
          "output_type": "execute_result"
        }
      ],
      "source": [
        "sa_cars[sa_cars['Origin'] == 'Gulf Arabic']"
      ]
    },
    {
      "cell_type": "code",
      "execution_count": 110,
      "id": "VrUN2VcI_62O",
      "metadata": {
        "id": "VrUN2VcI_62O"
      },
      "outputs": [
        {
          "data": {
            "text/plain": [
              "Region\n",
              "Riyadh       2242\n",
              "Dammam        921\n",
              "Jeddah        728\n",
              "Qassim        216\n",
              "Al-Medina     210\n",
              "Al-Ahsa       163\n",
              "Aseer         161\n",
              "Makkah        153\n",
              "Taef          102\n",
              "Tabouk         95\n",
              "Name: count, dtype: int64"
            ]
          },
          "execution_count": 110,
          "metadata": {},
          "output_type": "execute_result"
        }
      ],
      "source": [
        "saudi = sa_cars[sa_cars['Origin'] == 'Saudi']\n",
        "regions = saudi['Region'].value_counts().head(10)\n",
        "regions"
      ]
    },
    {
      "cell_type": "code",
      "execution_count": 111,
      "id": "CZOF6Bd-DOlu",
      "metadata": {
        "id": "CZOF6Bd-DOlu"
      },
      "outputs": [
        {
          "data": {
            "image/png": "[encoded data removed]",
            "text/plain": [
              "<Figure size 640x480 with 1 Axes>"
            ]
          },
          "metadata": {},
          "output_type": "display_data"
        }
      ],
      "source": [
        "# Q1: Which region in Saudi Arabia has the largest market for used cars?\n",
        "plt.bar(regions.index,\n",
        "        regions.values);\n",
        "plt.ylabel(\"Frequency\")\n",
        "plt.xlabel(\"Region\")\n",
        "plt.title(\"Top 10 Saudi Regions has the largest market for used cars\")\n",
        "plt.grid()\n",
        "plt.xticks(rotation=45)\n",
        "plt.show();"
      ]
    },
    {
      "cell_type": "code",
      "execution_count": 112,
      "id": "cQjnyZ0lGnD-",
      "metadata": {
        "id": "cQjnyZ0lGnD-"
      },
      "outputs": [
        {
          "data": {
            "text/html": [
              "<div>\n",
              "<style scoped>\n",
              "    .dataframe tbody tr th:only-of-type {\n",
              "        vertical-align: middle;\n",
              "    }\n",
              "\n",
              "    .dataframe tbody tr th {\n",
              "        vertical-align: top;\n",
              "    }\n",
              "\n",
              "    .dataframe thead th {\n",
              "        text-align: right;\n",
              "    }\n",
              "</style>\n",
              "<table border=\"1\" class=\"dataframe\">\n",
              "  <thead>\n",
              "    <tr style=\"text-align: right;\">\n",
              "      <th></th>\n",
              "      <th>Type</th>\n",
              "      <th>Region</th>\n",
              "      <th>Make</th>\n",
              "      <th>Gear_Type</th>\n",
              "      <th>Origin</th>\n",
              "      <th>Options</th>\n",
              "      <th>Year</th>\n",
              "      <th>Engine_Size</th>\n",
              "      <th>Mileage</th>\n",
              "      <th>Negotiable</th>\n",
              "      <th>Price</th>\n",
              "    </tr>\n",
              "  </thead>\n",
              "  <tbody>\n",
              "    <tr>\n",
              "      <th>1</th>\n",
              "      <td>Yukon</td>\n",
              "      <td>Riyadh</td>\n",
              "      <td>GMC</td>\n",
              "      <td>Automatic</td>\n",
              "      <td>Saudi</td>\n",
              "      <td>Full</td>\n",
              "      <td>2014</td>\n",
              "      <td>8.0</td>\n",
              "      <td>80000</td>\n",
              "      <td>False</td>\n",
              "      <td>120000</td>\n",
              "    </tr>\n",
              "    <tr>\n",
              "      <th>2</th>\n",
              "      <td>Range Rover</td>\n",
              "      <td>Riyadh</td>\n",
              "      <td>Land Rover</td>\n",
              "      <td>Automatic</td>\n",
              "      <td>Saudi</td>\n",
              "      <td>Full</td>\n",
              "      <td>2015</td>\n",
              "      <td>5.0</td>\n",
              "      <td>140000</td>\n",
              "      <td>False</td>\n",
              "      <td>260000</td>\n",
              "    </tr>\n",
              "    <tr>\n",
              "      <th>4</th>\n",
              "      <td>FJ</td>\n",
              "      <td>Riyadh</td>\n",
              "      <td>Toyota</td>\n",
              "      <td>Automatic</td>\n",
              "      <td>Saudi</td>\n",
              "      <td>Full</td>\n",
              "      <td>2020</td>\n",
              "      <td>4.0</td>\n",
              "      <td>49000</td>\n",
              "      <td>True</td>\n",
              "      <td>0</td>\n",
              "    </tr>\n",
              "    <tr>\n",
              "      <th>6</th>\n",
              "      <td>Cayenne S</td>\n",
              "      <td>Riyadh</td>\n",
              "      <td>Porsche</td>\n",
              "      <td>Automatic</td>\n",
              "      <td>Saudi</td>\n",
              "      <td>Full</td>\n",
              "      <td>2012</td>\n",
              "      <td>4.8</td>\n",
              "      <td>189000</td>\n",
              "      <td>False</td>\n",
              "      <td>85000</td>\n",
              "    </tr>\n",
              "    <tr>\n",
              "      <th>7</th>\n",
              "      <td>Sonata</td>\n",
              "      <td>Riyadh</td>\n",
              "      <td>Hyundai</td>\n",
              "      <td>Automatic</td>\n",
              "      <td>Saudi</td>\n",
              "      <td>Full</td>\n",
              "      <td>2016</td>\n",
              "      <td>2.4</td>\n",
              "      <td>155</td>\n",
              "      <td>False</td>\n",
              "      <td>48000</td>\n",
              "    </tr>\n",
              "    <tr>\n",
              "      <th>...</th>\n",
              "      <td>...</td>\n",
              "      <td>...</td>\n",
              "      <td>...</td>\n",
              "      <td>...</td>\n",
              "      <td>...</td>\n",
              "      <td>...</td>\n",
              "      <td>...</td>\n",
              "      <td>...</td>\n",
              "      <td>...</td>\n",
              "      <td>...</td>\n",
              "      <td>...</td>\n",
              "    </tr>\n",
              "    <tr>\n",
              "      <th>5597</th>\n",
              "      <td>Maxima</td>\n",
              "      <td>Riyadh</td>\n",
              "      <td>Nissan</td>\n",
              "      <td>Automatic</td>\n",
              "      <td>Saudi</td>\n",
              "      <td>Semi Full</td>\n",
              "      <td>2016</td>\n",
              "      <td>3.5</td>\n",
              "      <td>100943</td>\n",
              "      <td>False</td>\n",
              "      <td>63500</td>\n",
              "    </tr>\n",
              "    <tr>\n",
              "      <th>5602</th>\n",
              "      <td>Sierra</td>\n",
              "      <td>Riyadh</td>\n",
              "      <td>GMC</td>\n",
              "      <td>Automatic</td>\n",
              "      <td>Saudi</td>\n",
              "      <td>Standard</td>\n",
              "      <td>2013</td>\n",
              "      <td>5.3</td>\n",
              "      <td>137000</td>\n",
              "      <td>True</td>\n",
              "      <td>0</td>\n",
              "    </tr>\n",
              "    <tr>\n",
              "      <th>5607</th>\n",
              "      <td>C300</td>\n",
              "      <td>Riyadh</td>\n",
              "      <td>Chrysler</td>\n",
              "      <td>Automatic</td>\n",
              "      <td>Saudi</td>\n",
              "      <td>Full</td>\n",
              "      <td>2013</td>\n",
              "      <td>5.7</td>\n",
              "      <td>210</td>\n",
              "      <td>False</td>\n",
              "      <td>48000</td>\n",
              "    </tr>\n",
              "    <tr>\n",
              "      <th>5612</th>\n",
              "      <td>Azera</td>\n",
              "      <td>Riyadh</td>\n",
              "      <td>Hyundai</td>\n",
              "      <td>Automatic</td>\n",
              "      <td>Saudi</td>\n",
              "      <td>Semi Full</td>\n",
              "      <td>2011</td>\n",
              "      <td>3.5</td>\n",
              "      <td>447</td>\n",
              "      <td>False</td>\n",
              "      <td>21000</td>\n",
              "    </tr>\n",
              "    <tr>\n",
              "      <th>5618</th>\n",
              "      <td>Suburban</td>\n",
              "      <td>Riyadh</td>\n",
              "      <td>GMC</td>\n",
              "      <td>Automatic</td>\n",
              "      <td>Saudi</td>\n",
              "      <td>Full</td>\n",
              "      <td>2006</td>\n",
              "      <td>5.3</td>\n",
              "      <td>86000</td>\n",
              "      <td>False</td>\n",
              "      <td>50000</td>\n",
              "    </tr>\n",
              "  </tbody>\n",
              "</table>\n",
              "<p>2036 rows × 11 columns</p>\n",
              "</div>"
            ],
            "text/plain": [
              "             Type  Region        Make  Gear_Type Origin    Options  Year  \\\n",
              "1           Yukon  Riyadh         GMC  Automatic  Saudi       Full  2014   \n",
              "2     Range Rover  Riyadh  Land Rover  Automatic  Saudi       Full  2015   \n",
              "4              FJ  Riyadh      Toyota  Automatic  Saudi       Full  2020   \n",
              "6       Cayenne S  Riyadh     Porsche  Automatic  Saudi       Full  2012   \n",
              "7          Sonata  Riyadh     Hyundai  Automatic  Saudi       Full  2016   \n",
              "...           ...     ...         ...        ...    ...        ...   ...   \n",
              "5597       Maxima  Riyadh      Nissan  Automatic  Saudi  Semi Full  2016   \n",
              "5602       Sierra  Riyadh         GMC  Automatic  Saudi   Standard  2013   \n",
              "5607         C300  Riyadh    Chrysler  Automatic  Saudi       Full  2013   \n",
              "5612        Azera  Riyadh     Hyundai  Automatic  Saudi  Semi Full  2011   \n",
              "5618     Suburban  Riyadh         GMC  Automatic  Saudi       Full  2006   \n",
              "\n",
              "      Engine_Size  Mileage  Negotiable   Price  \n",
              "1             8.0    80000       False  120000  \n",
              "2             5.0   140000       False  260000  \n",
              "4             4.0    49000        True       0  \n",
              "6             4.8   189000       False   85000  \n",
              "7             2.4      155       False   48000  \n",
              "...           ...      ...         ...     ...  \n",
              "5597          3.5   100943       False   63500  \n",
              "5602          5.3   137000        True       0  \n",
              "5607          5.7      210       False   48000  \n",
              "5612          3.5      447       False   21000  \n",
              "5618          5.3    86000       False   50000  \n",
              "\n",
              "[2036 rows x 11 columns]"
            ]
          },
          "execution_count": 112,
          "metadata": {},
          "output_type": "execute_result"
        }
      ],
      "source": [
        "auto_car_riyadh = sa_cars[(sa_cars['Region'] == 'Riyadh') & (sa_cars['Gear_Type'] == 'Automatic')]\n",
        "auto_car_riyadh"
      ]
    },
    {
      "cell_type": "code",
      "execution_count": 113,
      "id": "R1ofegc7HJlY",
      "metadata": {
        "id": "R1ofegc7HJlY"
      },
      "outputs": [
        {
          "data": {
            "text/plain": [
              "Type\n",
              "Land Cruiser    87\n",
              "Sonata          83\n",
              "Accent          80\n",
              "Camry           72\n",
              "Yukon           71\n",
              "                ..\n",
              "Suvana           1\n",
              "Capture          1\n",
              "EC8              1\n",
              "Cadillac         1\n",
              "The M            1\n",
              "Name: count, Length: 224, dtype: int64"
            ]
          },
          "execution_count": 113,
          "metadata": {},
          "output_type": "execute_result"
        }
      ],
      "source": [
        "auto_car_riyadh['Type'].value_counts()"
      ]
    },
    {
      "cell_type": "code",
      "execution_count": 115,
      "id": "bXP-yaEVa0d0",
      "metadata": {
        "id": "bXP-yaEVa0d0"
      },
      "outputs": [
        {
          "name": "stdout",
          "output_type": "stream",
          "text": [
            "Defaulting to user installation because normal site-packages is not writeable\n",
            "Requirement already satisfied: arabic-reshaper in /Users/sara_almuwallad/Library/Python/3.9/lib/python/site-packages (3.0.0)\n",
            "Requirement already satisfied: python-bidi in /Users/sara_almuwallad/Library/Python/3.9/lib/python/site-packages (0.6.3)\n",
            "\n",
            "\u001b[1m[\u001b[0m\u001b[34;49mnotice\u001b[0m\u001b[1;39;49m]\u001b[0m\u001b[39;49m A new release of pip is available: \u001b[0m\u001b[31;49m25.0\u001b[0m\u001b[39;49m -> \u001b[0m\u001b[32;49m25.0.1\u001b[0m\n",
            "\u001b[1m[\u001b[0m\u001b[34;49mnotice\u001b[0m\u001b[1;39;49m]\u001b[0m\u001b[39;49m To update, run: \u001b[0m\u001b[32;49m/Library/Developer/CommandLineTools/usr/bin/python3 -m pip install --upgrade pip\u001b[0m\n"
          ]
        }
      ],
      "source": [
        "! pip install arabic-reshaper python-bidi\n"
      ]
    },
    {
      "cell_type": "code",
      "execution_count": 117,
      "id": "jlc8PmYjQadc",
      "metadata": {
        "id": "jlc8PmYjQadc"
      },
      "outputs": [
        {
          "data": {
            "text/plain": [
              "Type\n",
              "Sonata           48\n",
              "Camry            36\n",
              "Expedition       29\n",
              "Taurus           28\n",
              "Elantra          24\n",
              "                 ..\n",
              "X                 1\n",
              "Touareg           1\n",
              "RX                1\n",
              "Cherokee          1\n",
              "Prestige Plus     1\n",
              "Name: count, Length: 123, dtype: int64"
            ]
          },
          "execution_count": 117,
          "metadata": {},
          "output_type": "execute_result"
        }
      ],
      "source": [
        "#filter_on_ritadh_by_the_gear_type+ price\n",
        "price_type = auto_car_riyadh[(auto_car_riyadh['Price'] >= 45000) & (auto_car_riyadh['Price'] <= 90000)]\n",
        "price_by_type = price_type['Type'].value_counts()\n",
        "price_by_type\n",
        "\n"
      ]
    },
    {
      "cell_type": "code",
      "execution_count": 120,
      "id": "pBrpbLcJRibQ",
      "metadata": {
        "id": "pBrpbLcJRibQ"
      },
      "outputs": [
        {
          "data": {
            "text/html": [
              "<div>\n",
              "<style scoped>\n",
              "    .dataframe tbody tr th:only-of-type {\n",
              "        vertical-align: middle;\n",
              "    }\n",
              "\n",
              "    .dataframe tbody tr th {\n",
              "        vertical-align: top;\n",
              "    }\n",
              "\n",
              "    .dataframe thead th {\n",
              "        text-align: right;\n",
              "    }\n",
              "</style>\n",
              "<table border=\"1\" class=\"dataframe\">\n",
              "  <thead>\n",
              "    <tr style=\"text-align: right;\">\n",
              "      <th></th>\n",
              "      <th>Type</th>\n",
              "      <th>Region</th>\n",
              "      <th>Make</th>\n",
              "      <th>Gear_Type</th>\n",
              "      <th>Origin</th>\n",
              "      <th>Options</th>\n",
              "      <th>Year</th>\n",
              "      <th>Engine_Size</th>\n",
              "      <th>Mileage</th>\n",
              "      <th>Negotiable</th>\n",
              "      <th>Price</th>\n",
              "    </tr>\n",
              "  </thead>\n",
              "  <tbody>\n",
              "    <tr>\n",
              "      <th>4694</th>\n",
              "      <td>500</td>\n",
              "      <td>Riyadh</td>\n",
              "      <td>Fiat</td>\n",
              "      <td>Automatic</td>\n",
              "      <td>Saudi</td>\n",
              "      <td>Full</td>\n",
              "      <td>2020</td>\n",
              "      <td>1.4</td>\n",
              "      <td>11500</td>\n",
              "      <td>False</td>\n",
              "      <td>85000</td>\n",
              "    </tr>\n",
              "    <tr>\n",
              "      <th>4809</th>\n",
              "      <td>500</td>\n",
              "      <td>Riyadh</td>\n",
              "      <td>Fiat</td>\n",
              "      <td>Automatic</td>\n",
              "      <td>Saudi</td>\n",
              "      <td>Full</td>\n",
              "      <td>2016</td>\n",
              "      <td>1.5</td>\n",
              "      <td>155000</td>\n",
              "      <td>False</td>\n",
              "      <td>45000</td>\n",
              "    </tr>\n",
              "  </tbody>\n",
              "</table>\n",
              "</div>"
            ],
            "text/plain": [
              "     Type  Region  Make  Gear_Type Origin Options  Year  Engine_Size  Mileage  \\\n",
              "4694  500  Riyadh  Fiat  Automatic  Saudi    Full  2020          1.4    11500   \n",
              "4809  500  Riyadh  Fiat  Automatic  Saudi    Full  2016          1.5   155000   \n",
              "\n",
              "      Negotiable  Price  \n",
              "4694       False  85000  \n",
              "4809       False  45000  "
            ]
          },
          "execution_count": 120,
          "metadata": {},
          "output_type": "execute_result"
        }
      ],
      "source": [
        "full_cars =price_type[price_type['Options']=='Full']\n",
        "full_cars[full_cars['Type']== '500']"
      ]
    },
    {
      "cell_type": "code",
      "execution_count": 121,
      "id": "adzGihK-Qagb",
      "metadata": {
        "id": "adzGihK-Qagb"
      },
      "outputs": [
        {
          "data": {
            "text/plain": [
              "Type\n",
              "Camry     15\n",
              "Pajero    10\n",
              "Sonata     7\n",
              "Taurus     7\n",
              "Yukon      6\n",
              "          ..\n",
              "X          1\n",
              "Flex       1\n",
              "ES         1\n",
              "RX         1\n",
              "3008       1\n",
              "Name: count, Length: 83, dtype: int64"
            ]
          },
          "execution_count": 121,
          "metadata": {},
          "output_type": "execute_result"
        }
      ],
      "source": [
        "\n",
        "# # #filter_on_ritadh_by_the_gear_type+ price+ Full option\n",
        "\n",
        "full_cars_count =full_cars['Type'].value_counts()\n",
        "full_cars_count"
      ]
    },
    {
      "cell_type": "code",
      "execution_count": 124,
      "id": "ARN7-bYkVUM7",
      "metadata": {
        "id": "ARN7-bYkVUM7"
      },
      "outputs": [],
      "source": [
        "#full_cars_year['Type']\n",
        "full_cars =price_type[price_type['Options']=='Full']\n",
        "full_cars_year =full_cars[ full_cars['Year']>= 2020]\n",
        "full_cars_year_count= full_cars_year['Type'].value_counts()\n",
        "#full_cars_year_count\n"
      ]
    },
    {
      "cell_type": "code",
      "execution_count": 150,
      "id": "dde0b864",
      "metadata": {},
      "outputs": [
        {
          "data": {
            "text/plain": [
              "Make\n",
              "Toyota       1429\n",
              "Hyundai       668\n",
              "Ford          530\n",
              "Chevrolet     457\n",
              "Nissan        387\n",
              "GMC           282\n",
              "Kia           250\n",
              "Mercedes      225\n",
              "Lexus         222\n",
              "Mazda         129\n",
              "Name: count, dtype: int64"
            ]
          },
          "execution_count": 150,
          "metadata": {},
          "output_type": "execute_result"
        }
      ],
      "source": [
        "brand = sa_cars['Make'].value_counts().head(10)\n",
        "brand"
      ]
    },
    {
      "cell_type": "code",
      "execution_count": 151,
      "id": "jBCcE40dFJ7h",
      "metadata": {
        "id": "jBCcE40dFJ7h"
      },
      "outputs": [
        {
          "data": {
            "image/png": "[encoded data removed]",
            "text/plain": [
              "<Figure size 640x480 with 1 Axes>"
            ]
          },
          "metadata": {},
          "output_type": "display_data"
        }
      ],
      "source": [
        "# Q2: During the speciﬁed period, which car brand was the most listed for sale?\n",
        "\n",
        "plt.bar(brand.index,\n",
        "        brand.values,\n",
        "        color=['green', 'blue', 'red', 'lavender']\n",
        "       );\n",
        "plt.ylabel(\"Frequency\")\n",
        "plt.xlabel(\"Region\")\n",
        "plt.title(\"Top 10 car brand was the most listed for sale\")\n",
        "plt.grid()\n",
        "plt.xticks(rotation=45)\n",
        "plt.show();"
      ]
    },
    {
      "cell_type": "code",
      "execution_count": null,
      "id": "G2l0Du8ZVRwh",
      "metadata": {
        "id": "G2l0Du8ZVRwh"
      },
      "outputs": [],
      "source": []
    },
    {
      "cell_type": "code",
      "execution_count": 147,
      "id": "WB0WR2kLECeg",
      "metadata": {
        "id": "WB0WR2kLECeg"
      },
      "outputs": [
        {
          "name": "stdout",
          "output_type": "stream",
          "text": [
            "Price          1.000000\n",
            "Year           0.293637\n",
            "Engine_Size    0.152287\n",
            "Mileage       -0.135375\n",
            "Name: Price, dtype: float64\n"
          ]
        },
        {
          "data": {
            "image/png": "[encoded data removed]",
            "text/plain": [
              "<Figure size 1000x600 with 2 Axes>"
            ]
          },
          "metadata": {},
          "output_type": "display_data"
        }
      ],
      "source": [
        "# Q3:  Which features most signiﬁcantly inﬂuence the price of a used car?\n",
        "\n",
        "# Selecting numerical features\n",
        "numeric_cols = sa_cars.select_dtypes(include=['number'])\n",
        "\n",
        "# Compute correlation with Price\n",
        "price_corr = numeric_cols.corr()['Price'].sort_values(ascending=False)\n",
        "\n",
        "# Display the correlation values\n",
        "print(price_corr)\n",
        "\n",
        "# Plot heatmap for correlation\n",
        "plt.figure(figsize=(10, 6))\n",
        "sns.heatmap(numeric_cols.corr(), annot=True, cmap=\"coolwarm\", linewidths=0.5)\n",
        "\n",
        "# Add title\n",
        "plt.title(\"Heatmap: Feature Correlation with Car Price\")\n",
        "\n",
        "# Show the heatmap\n",
        "plt.show();\n"
      ]
    },
    {
      "cell_type": "markdown",
      "id": "ltwUv9nvE8zC",
      "metadata": {
        "id": "ltwUv9nvE8zC"
      },
      "source": [
        "ُThe most feature that signiﬁcantly inﬂuence the price of a used car is the `Year`.\n"
      ]
    },
    {
      "cell_type": "code",
      "execution_count": 146,
      "id": "BCbzC8VdN-Ub",
      "metadata": {
        "id": "BCbzC8VdN-Ub"
      },
      "outputs": [
        {
          "name": "stdout",
          "output_type": "stream",
          "text": [
            "The price range are from: 0 To: 850000\n"
          ]
        }
      ],
      "source": [
        "#Q4:What is the price range for used cars that are approximately four years old?\n",
        "\n",
        "sa_cars['Year'].value_counts()\n",
        "star_year=2019\n",
        "end_yesr=2022\n",
        "period_year=sa_cars[(sa_cars['Year'] >= star_year ) & (sa_cars['Year'] <= end_yesr)]\n",
        "\n",
        "price_range_min= period_year['Price'].min()\n",
        "price_range_max= period_year['Price'].max()\n",
        "print(\"The price range are from:\", price_range_min, \"To:\",  price_range_max)\n"
      ]
    },
    {
      "cell_type": "code",
      "execution_count": 143,
      "id": "AKueu8yaONVY",
      "metadata": {
        "id": "AKueu8yaONVY"
      },
      "outputs": [
        {
          "name": "stdout",
          "output_type": "stream",
          "text": [
            "Defaulting to user installation because normal site-packages is not writeable\n",
            "Collecting ipyvizzu\n",
            "  Downloading ipyvizzu-0.17.0-py3-none-any.whl.metadata (8.1 kB)\n",
            "Requirement already satisfied: IPython in /Users/sara_almuwallad/Library/Python/3.9/lib/python/site-packages (from ipyvizzu) (8.18.1)\n",
            "Requirement already satisfied: jsonschema in /Users/sara_almuwallad/Library/Python/3.9/lib/python/site-packages (from ipyvizzu) (4.23.0)\n",
            "Requirement already satisfied: decorator in /Users/sara_almuwallad/Library/Python/3.9/lib/python/site-packages (from IPython->ipyvizzu) (5.1.1)\n",
            "Requirement already satisfied: jedi>=0.16 in /Users/sara_almuwallad/Library/Python/3.9/lib/python/site-packages (from IPython->ipyvizzu) (0.19.2)\n",
            "Requirement already satisfied: matplotlib-inline in /Users/sara_almuwallad/Library/Python/3.9/lib/python/site-packages (from IPython->ipyvizzu) (0.1.7)\n",
            "Requirement already satisfied: prompt-toolkit<3.1.0,>=3.0.41 in /Users/sara_almuwallad/Library/Python/3.9/lib/python/site-packages (from IPython->ipyvizzu) (3.0.50)\n",
            "Requirement already satisfied: pygments>=2.4.0 in /Users/sara_almuwallad/Library/Python/3.9/lib/python/site-packages (from IPython->ipyvizzu) (2.19.1)\n",
            "Requirement already satisfied: stack-data in /Users/sara_almuwallad/Library/Python/3.9/lib/python/site-packages (from IPython->ipyvizzu) (0.6.3)\n",
            "Requirement already satisfied: traitlets>=5 in /Users/sara_almuwallad/Library/Python/3.9/lib/python/site-packages (from IPython->ipyvizzu) (5.14.3)\n",
            "Requirement already satisfied: typing-extensions in /Users/sara_almuwallad/Library/Python/3.9/lib/python/site-packages (from IPython->ipyvizzu) (4.12.2)\n",
            "Requirement already satisfied: exceptiongroup in /Users/sara_almuwallad/Library/Python/3.9/lib/python/site-packages (from IPython->ipyvizzu) (1.2.2)\n",
            "Requirement already satisfied: pexpect>4.3 in /Users/sara_almuwallad/Library/Python/3.9/lib/python/site-packages (from IPython->ipyvizzu) (4.9.0)\n",
            "Requirement already satisfied: attrs>=22.2.0 in /Users/sara_almuwallad/Library/Python/3.9/lib/python/site-packages (from jsonschema->ipyvizzu) (25.1.0)\n",
            "Requirement already satisfied: jsonschema-specifications>=2023.03.6 in /Users/sara_almuwallad/Library/Python/3.9/lib/python/site-packages (from jsonschema->ipyvizzu) (2024.10.1)\n",
            "Requirement already satisfied: referencing>=0.28.4 in /Users/sara_almuwallad/Library/Python/3.9/lib/python/site-packages (from jsonschema->ipyvizzu) (0.36.2)\n",
            "Requirement already satisfied: rpds-py>=0.7.1 in /Users/sara_almuwallad/Library/Python/3.9/lib/python/site-packages (from jsonschema->ipyvizzu) (0.22.3)\n",
            "Requirement already satisfied: parso<0.9.0,>=0.8.4 in /Users/sara_almuwallad/Library/Python/3.9/lib/python/site-packages (from jedi>=0.16->IPython->ipyvizzu) (0.8.4)\n",
            "Requirement already satisfied: ptyprocess>=0.5 in /Users/sara_almuwallad/Library/Python/3.9/lib/python/site-packages (from pexpect>4.3->IPython->ipyvizzu) (0.7.0)\n",
            "Requirement already satisfied: wcwidth in /Users/sara_almuwallad/Library/Python/3.9/lib/python/site-packages (from prompt-toolkit<3.1.0,>=3.0.41->IPython->ipyvizzu) (0.2.13)\n",
            "Requirement already satisfied: executing>=1.2.0 in /Users/sara_almuwallad/Library/Python/3.9/lib/python/site-packages (from stack-data->IPython->ipyvizzu) (2.2.0)\n",
            "Requirement already satisfied: asttokens>=2.1.0 in /Users/sara_almuwallad/Library/Python/3.9/lib/python/site-packages (from stack-data->IPython->ipyvizzu) (3.0.0)\n",
            "Requirement already satisfied: pure-eval in /Users/sara_almuwallad/Library/Python/3.9/lib/python/site-packages (from stack-data->IPython->ipyvizzu) (0.2.3)\n",
            "Downloading ipyvizzu-0.17.0-py3-none-any.whl (40 kB)\n",
            "Installing collected packages: ipyvizzu\n",
            "Successfully installed ipyvizzu-0.17.0\n",
            "\n",
            "\u001b[1m[\u001b[0m\u001b[34;49mnotice\u001b[0m\u001b[1;39;49m]\u001b[0m\u001b[39;49m A new release of pip is available: \u001b[0m\u001b[31;49m25.0\u001b[0m\u001b[39;49m -> \u001b[0m\u001b[32;49m25.0.1\u001b[0m\n",
            "\u001b[1m[\u001b[0m\u001b[34;49mnotice\u001b[0m\u001b[1;39;49m]\u001b[0m\u001b[39;49m To update, run: \u001b[0m\u001b[32;49m/Library/Developer/CommandLineTools/usr/bin/python3 -m pip install --upgrade pip\u001b[0m\n"
          ]
        }
      ],
      "source": [
        "! pip install ipyvizzu\n"
      ]
    },
    {
      "cell_type": "code",
      "execution_count": 144,
      "id": "x6CjBLXmOeBI",
      "metadata": {
        "id": "x6CjBLXmOeBI"
      },
      "outputs": [],
      "source": [
        "import ipyvizzu"
      ]
    },
    {
      "cell_type": "code",
      "execution_count": 149,
      "id": "ZjgnSIwkOe8A",
      "metadata": {
        "id": "ZjgnSIwkOe8A"
      },
      "outputs": [],
      "source": [
        "import pandas as pd\n",
        "import ipyvizzu\n",
        "\n",
        "# Define the year range for cars that are around 4 years old\n",
        "star_year = 2018\n",
        "end_year = 2022\n",
        "\n",
        "# Filter dataset within the specified year range\n",
        "period_year = sa_cars[(sa_cars['Year'] >= star_year) & (sa_cars['Year'] <= end_year)]\n",
        "\n",
        "# Convert data to a structured format for ipyvizzu\n",
        "df_viz = pd.DataFrame({'Category': ['Price'] * len(period_year), 'Value': period_year['Price'].values})\n",
        "\n",
        "# Initialize ipyvizzu chart with manual display mode\n",
        "chart = ipyvizzu.Chart(display=\"manual\")\n",
        "\n",
        "# Load structured data into ipyvizzu\n",
        "chart.animate(ipyvizzu.Data(records=df_viz.to_dict(orient=\"records\")))\n",
        "\n",
        "# Configure chart settings for price distribution visualization\n",
        "chart.animate(ipyvizzu.Config({\"x\": \"Value\", \"y\": \"count()\", \"title\": \"Distribution of Used Car Prices (4 Years Old)\"}))\n",
        "\n",
        "# Display the chart\n",
        "#chart.show()\n"
      ]
    },
    {
      "cell_type": "code",
      "execution_count": null,
      "id": "65S8jswad-Ke",
      "metadata": {
        "id": "65S8jswad-Ke"
      },
      "outputs": [],
      "source": []
    },
    {
      "cell_type": "code",
      "execution_count": 141,
      "id": "AApKv316j72x",
      "metadata": {
        "id": "AApKv316j72x"
      },
      "outputs": [
        {
          "data": {
            "image/png": "[encoded data removed]",
            "text/plain": [
              "<Figure size 1000x600 with 1 Axes>"
            ]
          },
          "metadata": {},
          "output_type": "display_data"
        }
      ],
      "source": [
        "import matplotlib.pyplot as plt\n",
        "import arabic_reshaper\n",
        "from bidi.algorithm import get_display\n",
        "\n",
        "# إعادة تشكيل النصوص العربية لعرضها بشكل صحيح\n",
        "title_ar = get_display(arabic_reshaper.reshape(\"أفضل 10 مناطق سعودية في سوق السيارات المستعملة\"))\n",
        "xlabel_ar = get_display(arabic_reshaper.reshape(\"المنطقة\"))\n",
        "ylabel_ar = get_display(arabic_reshaper.reshape(\"العدد المعروض للبيع\"))\n",
        "\n",
        "# تحديد الألوان، حيث يكون عمود الرياض باللون الأحمر\n",
        "colors = ['red' if region == 'Riyadh' else 'royalblue' for region in regions.index]\n",
        "\n",
        "# رسم المخطط الشريطي\n",
        "plt.figure(figsize=(10, 6))\n",
        "plt.bar(regions.index, regions.values, color=colors, edgecolor='black')\n",
        "\n",
        "# إضافة العناوين والتسميات بعد معالجتها\n",
        "plt.title(title_ar, fontsize=14)\n",
        "plt.xlabel(xlabel_ar, fontsize=12)\n",
        "plt.ylabel(ylabel_ar, fontsize=12)\n",
        "plt.grid()\n",
        "plt.xticks(rotation=45)  # تدوير أسماء المناطق لتحسين القراءة\n",
        "\n",
        "# عرض المخطط\n",
        "plt.show()\n",
        "\n"
      ]
    },
    {
      "cell_type": "code",
      "execution_count": null,
      "id": "o_udC-jxdORZ",
      "metadata": {
        "id": "o_udC-jxdORZ"
      },
      "outputs": [],
      "source": [
        "auto_car_riyadh = sa_cars[(sa_cars['Region'] == 'Riyadh') & (sa_cars['Gear_Type'] == 'Automatic')]\n",
        "auto_car_riyadh"
      ]
    },
    {
      "cell_type": "code",
      "execution_count": null,
      "id": "YUz3bj-sdORa",
      "metadata": {
        "id": "YUz3bj-sdORa"
      },
      "outputs": [],
      "source": [
        "auto_car_riyadh['Type'].value_counts()"
      ]
    },
    {
      "cell_type": "code",
      "execution_count": 138,
      "id": "vyL3MJJzdORa",
      "metadata": {
        "id": "vyL3MJJzdORa"
      },
      "outputs": [
        {
          "name": "stdout",
          "output_type": "stream",
          "text": [
            "Defaulting to user installation because normal site-packages is not writeable\n",
            "Requirement already satisfied: arabic-reshaper in /Users/sara_almuwallad/Library/Python/3.9/lib/python/site-packages (3.0.0)\n",
            "Requirement already satisfied: python-bidi in /Users/sara_almuwallad/Library/Python/3.9/lib/python/site-packages (0.6.3)\n",
            "\n",
            "\u001b[1m[\u001b[0m\u001b[34;49mnotice\u001b[0m\u001b[1;39;49m]\u001b[0m\u001b[39;49m A new release of pip is available: \u001b[0m\u001b[31;49m25.0\u001b[0m\u001b[39;49m -> \u001b[0m\u001b[32;49m25.0.1\u001b[0m\n",
            "\u001b[1m[\u001b[0m\u001b[34;49mnotice\u001b[0m\u001b[1;39;49m]\u001b[0m\u001b[39;49m To update, run: \u001b[0m\u001b[32;49m/Library/Developer/CommandLineTools/usr/bin/python3 -m pip install --upgrade pip\u001b[0m\n"
          ]
        }
      ],
      "source": [
        "! pip install arabic-reshaper python-bidi\n"
      ]
    },
    {
      "cell_type": "code",
      "execution_count": 140,
      "id": "MQDS2ES2dORb",
      "metadata": {
        "id": "MQDS2ES2dORb"
      },
      "outputs": [
        {
          "data": {
            "image/png": "[encoded data removed]",
            "text/plain": [
              "<Figure size 1000x600 with 1 Axes>"
            ]
          },
          "metadata": {},
          "output_type": "display_data"
        }
      ],
      "source": [
        "import matplotlib.pyplot as plt\n",
        "import arabic_reshaper\n",
        "from bidi.algorithm import get_display\n",
        "\n",
        "\n",
        "title_ar = get_display(arabic_reshaper.reshape(\"عدد السيارات الأوتوماتيك في الرياض\"))\n",
        "xlabel_ar = get_display(arabic_reshaper.reshape(\"نوع السيارة\"))\n",
        "ylabel_ar = get_display(arabic_reshaper.reshape(\"العدد المعروض للبيع\"))\n",
        "\n",
        "\n",
        "type_counts = auto_car_riyadh['Type'].value_counts().head(10)\n",
        "\n",
        "\n",
        "plt.figure(figsize=(10, 6))\n",
        "type_counts.plot(kind='bar', color='royalblue', edgecolor='black')\n",
        "\n",
        "\n",
        "plt.title(title_ar, fontsize=14)\n",
        "plt.xlabel(xlabel_ar, fontsize=12)\n",
        "plt.ylabel(ylabel_ar, fontsize=12)\n",
        "plt.xticks(rotation=90)  \n",
        "\n",
        "\n",
        "plt.show()\n"
      ]
    },
    {
      "cell_type": "code",
      "execution_count": 137,
      "id": "JuZaLtYvdORb",
      "metadata": {
        "id": "JuZaLtYvdORb"
      },
      "outputs": [
        {
          "data": {
            "text/plain": [
              "Type\n",
              "Sonata           48\n",
              "Camry            36\n",
              "Expedition       29\n",
              "Taurus           28\n",
              "Elantra          24\n",
              "                 ..\n",
              "X                 1\n",
              "Touareg           1\n",
              "RX                1\n",
              "Cherokee          1\n",
              "Prestige Plus     1\n",
              "Name: count, Length: 123, dtype: int64"
            ]
          },
          "execution_count": 137,
          "metadata": {},
          "output_type": "execute_result"
        }
      ],
      "source": [
        "#filter_on_ritadh_by_the_gear_type+ price\n",
        "price_type = auto_car_riyadh[(auto_car_riyadh['Price'] >= 45000) & (auto_car_riyadh['Price'] <= 90000)]\n",
        "price_by_type = price_type['Type'].value_counts()\n",
        "price_by_type\n",
        "\n"
      ]
    },
    {
      "cell_type": "code",
      "execution_count": null,
      "id": "5bpUkM7xdORb",
      "metadata": {
        "id": "5bpUkM7xdORb"
      },
      "outputs": [
        {
          "data": {
            "image/png": "[encoded data removed]",
            "text/plain": [
              "<Figure size 1000x600 with 1 Axes>"
            ]
          },
          "metadata": {},
          "output_type": "display_data"
        }
      ],
      "source": [
        "\n",
        "\n",
        "title_ar = get_display(arabic_reshaper.reshape(\"السيارات الأكثر عرضًا للبيع حسب الميزانية المحددة\"))\n",
        "xlabel_ar = get_display(arabic_reshaper.reshape(\"نوع السيارة\"))\n",
        "ylabel_ar = get_display(arabic_reshaper.reshape(\"العدد المعروض للبيع\"))\n",
        "\n",
        "\n",
        "price_by_type = price_type['Type'].value_counts().head(10)\n",
        "\n",
        "\n",
        "plt.figure(figsize=(10, 6))\n",
        "price_by_type.plot(kind='bar', color='royalblue', edgecolor='black')\n",
        "\n",
        "\n",
        "plt.title(title_ar, fontsize=14)\n",
        "plt.xlabel(xlabel_ar, fontsize=12)\n",
        "plt.ylabel(ylabel_ar, fontsize=12)\n",
        "plt.xticks(rotation=90)  \n",
        "\n",
        "\n",
        "plt.show()\n"
      ]
    },
    {
      "cell_type": "code",
      "execution_count": 134,
      "id": "lakKI9dsdORc",
      "metadata": {
        "id": "lakKI9dsdORc"
      },
      "outputs": [
        {
          "data": {
            "text/html": [
              "<div>\n",
              "<style scoped>\n",
              "    .dataframe tbody tr th:only-of-type {\n",
              "        vertical-align: middle;\n",
              "    }\n",
              "\n",
              "    .dataframe tbody tr th {\n",
              "        vertical-align: top;\n",
              "    }\n",
              "\n",
              "    .dataframe thead th {\n",
              "        text-align: right;\n",
              "    }\n",
              "</style>\n",
              "<table border=\"1\" class=\"dataframe\">\n",
              "  <thead>\n",
              "    <tr style=\"text-align: right;\">\n",
              "      <th></th>\n",
              "      <th>Type</th>\n",
              "      <th>Region</th>\n",
              "      <th>Make</th>\n",
              "      <th>Gear_Type</th>\n",
              "      <th>Origin</th>\n",
              "      <th>Options</th>\n",
              "      <th>Year</th>\n",
              "      <th>Engine_Size</th>\n",
              "      <th>Mileage</th>\n",
              "      <th>Negotiable</th>\n",
              "      <th>Price</th>\n",
              "    </tr>\n",
              "  </thead>\n",
              "  <tbody>\n",
              "    <tr>\n",
              "      <th>4694</th>\n",
              "      <td>500</td>\n",
              "      <td>Riyadh</td>\n",
              "      <td>Fiat</td>\n",
              "      <td>Automatic</td>\n",
              "      <td>Saudi</td>\n",
              "      <td>Full</td>\n",
              "      <td>2020</td>\n",
              "      <td>1.4</td>\n",
              "      <td>11500</td>\n",
              "      <td>False</td>\n",
              "      <td>85000</td>\n",
              "    </tr>\n",
              "    <tr>\n",
              "      <th>4809</th>\n",
              "      <td>500</td>\n",
              "      <td>Riyadh</td>\n",
              "      <td>Fiat</td>\n",
              "      <td>Automatic</td>\n",
              "      <td>Saudi</td>\n",
              "      <td>Full</td>\n",
              "      <td>2016</td>\n",
              "      <td>1.5</td>\n",
              "      <td>155000</td>\n",
              "      <td>False</td>\n",
              "      <td>45000</td>\n",
              "    </tr>\n",
              "  </tbody>\n",
              "</table>\n",
              "</div>"
            ],
            "text/plain": [
              "     Type  Region  Make  Gear_Type Origin Options  Year  Engine_Size  Mileage  \\\n",
              "4694  500  Riyadh  Fiat  Automatic  Saudi    Full  2020          1.4    11500   \n",
              "4809  500  Riyadh  Fiat  Automatic  Saudi    Full  2016          1.5   155000   \n",
              "\n",
              "      Negotiable  Price  \n",
              "4694       False  85000  \n",
              "4809       False  45000  "
            ]
          },
          "execution_count": 134,
          "metadata": {},
          "output_type": "execute_result"
        }
      ],
      "source": [
        "full_cars =price_type[price_type['Options']=='Full']\n",
        "full_cars[full_cars['Type']== '500']"
      ]
    },
    {
      "cell_type": "code",
      "execution_count": 135,
      "id": "gpn0nTUndORc",
      "metadata": {
        "id": "gpn0nTUndORc"
      },
      "outputs": [
        {
          "data": {
            "text/plain": [
              "Type\n",
              "Camry     15\n",
              "Pajero    10\n",
              "Sonata     7\n",
              "Taurus     7\n",
              "Yukon      6\n",
              "          ..\n",
              "X          1\n",
              "Flex       1\n",
              "ES         1\n",
              "RX         1\n",
              "3008       1\n",
              "Name: count, Length: 83, dtype: int64"
            ]
          },
          "execution_count": 135,
          "metadata": {},
          "output_type": "execute_result"
        }
      ],
      "source": [
        "\n",
        "# # #filter_on_ritadh_by_the_gear_type+ price+ Full option\n",
        "\n",
        "full_cars_count =full_cars['Type'].value_counts()\n",
        "full_cars_count"
      ]
    },
    {
      "cell_type": "code",
      "execution_count": 136,
      "id": "YywDnTyzdORc",
      "metadata": {
        "id": "YywDnTyzdORc"
      },
      "outputs": [
        {
          "data": {
            "image/png": "[encoded data removed]",
            "text/plain": [
              "<Figure size 1000x600 with 1 Axes>"
            ]
          },
          "metadata": {},
          "output_type": "display_data"
        }
      ],
      "source": [
        "\n",
        "\n",
        "\n",
        "title_ar = get_display(arabic_reshaper.reshape(\"أكثر السيارات من نوع فُل كامل المتوفرة للبيع\"))\n",
        "xlabel_ar = get_display(arabic_reshaper.reshape(\"نوع السيارة\"))\n",
        "ylabel_ar = get_display(arabic_reshaper.reshape(\"العدد المعروض للبيع\"))\n",
        "\n",
        "\n",
        "full_cars_count = full_cars['Type'].value_counts().head(10)\n",
        "\n",
        "\n",
        "plt.figure(figsize=(10, 6))\n",
        "full_cars_count.plot(kind='bar', color='royalblue', edgecolor='black')\n",
        "\n",
        "\n",
        "plt.title(title_ar, fontsize=14)\n",
        "plt.xlabel(xlabel_ar, fontsize=12)\n",
        "plt.ylabel(ylabel_ar, fontsize=12)\n",
        "plt.xticks(rotation=90)  \n",
        "\n",
        "\n",
        "plt.show()\n"
      ]
    },
    {
      "cell_type": "code",
      "execution_count": 130,
      "id": "6o0PixL1dORd",
      "metadata": {
        "id": "6o0PixL1dORd"
      },
      "outputs": [],
      "source": [
        "#full_cars_year['Type']\n",
        "full_cars =price_type[price_type['Options']=='Full']\n",
        "full_cars_year =full_cars[ full_cars['Year']>= 2020]\n",
        "full_cars_year_count= full_cars_year['Type'].value_counts()\n",
        "#full_cars_year_count\n"
      ]
    },
    {
      "cell_type": "code",
      "execution_count": 129,
      "id": "XdcClTHwdORd",
      "metadata": {
        "id": "XdcClTHwdORd"
      },
      "outputs": [
        {
          "data": {
            "image/png": "[encoded data removed]",
            "text/plain": [
              "<Figure size 1000x600 with 1 Axes>"
            ]
          },
          "metadata": {},
          "output_type": "display_data"
        }
      ],
      "source": [
        "\n",
        "\n",
        "\n",
        "title_ar = get_display(arabic_reshaper.reshape(\"عدد السيارات من نوع فُل كامل حسب سنة الصنع\"))\n",
        "xlabel_ar = get_display(arabic_reshaper.reshape(\"نوع السيارة\"))\n",
        "ylabel_ar = get_display(arabic_reshaper.reshape(\"العدد المعروض للبيع\"))\n",
        "\n",
        "\n",
        "plt.figure(figsize=(10, 6))\n",
        "full_cars_year_count.plot(kind='bar', color='royalblue', edgecolor='black')\n",
        "\n",
        "plt.title(title_ar, fontsize=14)\n",
        "plt.xlabel(xlabel_ar, fontsize=12)\n",
        "plt.ylabel(ylabel_ar, fontsize=12)\n",
        "plt.xticks(rotation=90)  \n",
        "\n",
        "\n",
        "plt.show()\n",
        "\n"
      ]
    },
    {
      "cell_type": "code",
      "execution_count": null,
      "id": "O7Wtv-r_g6Yw",
      "metadata": {
        "id": "O7Wtv-r_g6Yw"
      },
      "outputs": [],
      "source": []
    }
  ],
  "metadata": {
    "colab": {
      "provenance": []
    },
    "kernelspec": {
      "display_name": "Python 3",
      "language": "python",
      "name": "python3"
    },
    "language_info": {
      "codemirror_mode": {
        "name": "ipython",
        "version": 3
      },
      "file_extension": ".py",
      "mimetype": "text/x-python",
      "name": "python",
      "nbconvert_exporter": "python",
      "pygments_lexer": "ipython3",
      "version": "3.9.6"
    }
  },
  "nbformat": 4,
  "nbformat_minor": 5
}
