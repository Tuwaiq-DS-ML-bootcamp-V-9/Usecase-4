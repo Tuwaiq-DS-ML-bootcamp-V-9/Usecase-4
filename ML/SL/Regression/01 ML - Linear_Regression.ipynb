{
 "cells": [
  {
   "cell_type": "markdown",
   "metadata": {},
   "source": [
    "## Import Libraries"
   ]
  },
  {
   "cell_type": "code",
   "execution_count": 2,
   "metadata": {},
   "outputs": [],
   "source": [
    "# To ignore warnings\n",
    "import warnings\n",
    "warnings.filterwarnings(\"ignore\")\n",
    "import pandas as pd\n",
    "import numpy as np\n",
    "import matplotlib.pyplot as plt\n",
    "import seaborn as sns\n",
    "\n",
    "from sklearn.model_selection import train_test_split\n",
    "from sklearn.metrics import mean_squared_error, r2_score, mean_absolute_error\n",
    "from sklearn.preprocessing import StandardScaler\n",
    "from sklearn.linear_model import LinearRegression, Ridge, Lasso\n",
    "from sklearn.model_selection import GridSearchCV\n",
    "from sklearn import metrics\n",
    "\n",
    "%matplotlib inline"
   ]
  },
  {
   "cell_type": "markdown",
   "metadata": {},
   "source": [
    "## Load the Data"
   ]
  },
  {
   "cell_type": "code",
   "execution_count": 3,
   "metadata": {},
   "outputs": [],
   "source": [
    "df = pd.read_csv('../../../data/data_saudi_used_cars.csv')"
   ]
  },
  {
   "cell_type": "code",
   "execution_count": 4,
   "metadata": {},
   "outputs": [
    {
     "data": {
      "text/plain": [
       "(5624, 11)"
      ]
     },
     "execution_count": 4,
     "metadata": {},
     "output_type": "execute_result"
    }
   ],
   "source": [
    "df.shape"
   ]
  },
  {
   "cell_type": "code",
   "execution_count": 5,
   "metadata": {
    "scrolled": true
   },
   "outputs": [
    {
     "data": {
      "text/html": [
       "<div>\n",
       "<style scoped>\n",
       "    .dataframe tbody tr th:only-of-type {\n",
       "        vertical-align: middle;\n",
       "    }\n",
       "\n",
       "    .dataframe tbody tr th {\n",
       "        vertical-align: top;\n",
       "    }\n",
       "\n",
       "    .dataframe thead th {\n",
       "        text-align: right;\n",
       "    }\n",
       "</style>\n",
       "<table border=\"1\" class=\"dataframe\">\n",
       "  <thead>\n",
       "    <tr style=\"text-align: right;\">\n",
       "      <th></th>\n",
       "      <th>Type</th>\n",
       "      <th>Region</th>\n",
       "      <th>Make</th>\n",
       "      <th>Gear_Type</th>\n",
       "      <th>Origin</th>\n",
       "      <th>Options</th>\n",
       "      <th>Year</th>\n",
       "      <th>Engine_Size</th>\n",
       "      <th>Mileage</th>\n",
       "      <th>Negotiable</th>\n",
       "      <th>Price</th>\n",
       "    </tr>\n",
       "  </thead>\n",
       "  <tbody>\n",
       "    <tr>\n",
       "      <th>0</th>\n",
       "      <td>Corolla</td>\n",
       "      <td>Abha</td>\n",
       "      <td>Toyota</td>\n",
       "      <td>Manual</td>\n",
       "      <td>Saudi</td>\n",
       "      <td>Standard</td>\n",
       "      <td>2013</td>\n",
       "      <td>1.4</td>\n",
       "      <td>421000</td>\n",
       "      <td>True</td>\n",
       "      <td>0</td>\n",
       "    </tr>\n",
       "    <tr>\n",
       "      <th>1</th>\n",
       "      <td>Yukon</td>\n",
       "      <td>Riyadh</td>\n",
       "      <td>GMC</td>\n",
       "      <td>Automatic</td>\n",
       "      <td>Saudi</td>\n",
       "      <td>Full</td>\n",
       "      <td>2014</td>\n",
       "      <td>8.0</td>\n",
       "      <td>80000</td>\n",
       "      <td>False</td>\n",
       "      <td>120000</td>\n",
       "    </tr>\n",
       "  </tbody>\n",
       "</table>\n",
       "</div>"
      ],
      "text/plain": [
       "      Type  Region    Make  Gear_Type Origin   Options  Year  Engine_Size  \\\n",
       "0  Corolla    Abha  Toyota     Manual  Saudi  Standard  2013          1.4   \n",
       "1    Yukon  Riyadh     GMC  Automatic  Saudi      Full  2014          8.0   \n",
       "\n",
       "   Mileage  Negotiable   Price  \n",
       "0   421000        True       0  \n",
       "1    80000       False  120000  "
      ]
     },
     "execution_count": 5,
     "metadata": {},
     "output_type": "execute_result"
    }
   ],
   "source": [
    "df.head(2)"
   ]
  },
  {
   "cell_type": "markdown",
   "metadata": {},
   "source": [
    "## Preprocess the Data"
   ]
  },
  {
   "cell_type": "markdown",
   "metadata": {
    "jp-MarkdownHeadingCollapsed": true
   },
   "source": [
    "#### 1. Simple EDA + Data Quality checking"
   ]
  },
  {
   "cell_type": "code",
   "execution_count": 6,
   "metadata": {},
   "outputs": [
    {
     "data": {
      "text/html": [
       "<div>\n",
       "<style scoped>\n",
       "    .dataframe tbody tr th:only-of-type {\n",
       "        vertical-align: middle;\n",
       "    }\n",
       "\n",
       "    .dataframe tbody tr th {\n",
       "        vertical-align: top;\n",
       "    }\n",
       "\n",
       "    .dataframe thead th {\n",
       "        text-align: right;\n",
       "    }\n",
       "</style>\n",
       "<table border=\"1\" class=\"dataframe\">\n",
       "  <thead>\n",
       "    <tr style=\"text-align: right;\">\n",
       "      <th></th>\n",
       "      <th>Type</th>\n",
       "      <th>Region</th>\n",
       "      <th>Make</th>\n",
       "      <th>Gear_Type</th>\n",
       "      <th>Origin</th>\n",
       "      <th>Options</th>\n",
       "      <th>Year</th>\n",
       "      <th>Engine_Size</th>\n",
       "      <th>Mileage</th>\n",
       "      <th>Negotiable</th>\n",
       "      <th>Price</th>\n",
       "    </tr>\n",
       "  </thead>\n",
       "  <tbody>\n",
       "  </tbody>\n",
       "</table>\n",
       "</div>"
      ],
      "text/plain": [
       "Empty DataFrame\n",
       "Columns: [Type, Region, Make, Gear_Type, Origin, Options, Year, Engine_Size, Mileage, Negotiable, Price]\n",
       "Index: []"
      ]
     },
     "execution_count": 6,
     "metadata": {},
     "output_type": "execute_result"
    }
   ],
   "source": [
    "# uniqeness\n",
    "df.drop_duplicates(inplace=True)\n",
    "df[df.duplicated()]"
   ]
  },
  {
   "cell_type": "code",
   "execution_count": 7,
   "metadata": {},
   "outputs": [
    {
     "data": {
      "text/plain": [
       "Type           0\n",
       "Region         0\n",
       "Make           0\n",
       "Gear_Type      0\n",
       "Origin         0\n",
       "Options        0\n",
       "Year           0\n",
       "Engine_Size    0\n",
       "Mileage        0\n",
       "Negotiable     0\n",
       "Price          0\n",
       "dtype: int64"
      ]
     },
     "execution_count": 7,
     "metadata": {},
     "output_type": "execute_result"
    }
   ],
   "source": [
    "# Completeness\n",
    "df.isnull().sum()"
   ]
  },
  {
   "cell_type": "code",
   "execution_count": 8,
   "metadata": {},
   "outputs": [
    {
     "data": {
      "text/plain": [
       "Type            object\n",
       "Region          object\n",
       "Make            object\n",
       "Gear_Type       object\n",
       "Origin          object\n",
       "Options         object\n",
       "Year             int64\n",
       "Engine_Size    float64\n",
       "Mileage          int64\n",
       "Negotiable        bool\n",
       "Price            int64\n",
       "dtype: object"
      ]
     },
     "execution_count": 8,
     "metadata": {},
     "output_type": "execute_result"
    }
   ],
   "source": [
    "# Accurecy types\n",
    "df.dtypes"
   ]
  },
  {
   "cell_type": "code",
   "execution_count": 9,
   "metadata": {},
   "outputs": [],
   "source": [
    "# Accurecy - Outlier\n",
    "\n",
    "# Convert categorical variables using OneHotEncoding\n",
    "categorical_features = ['Type', 'Region', 'Make', 'Gear_Type', 'Origin', 'Options']\n",
    "numeric_features = ['Year', 'Engine_Size', 'Mileage']"
   ]
  },
  {
   "cell_type": "code",
   "execution_count": 10,
   "metadata": {},
   "outputs": [
    {
     "name": "stdout",
     "output_type": "stream",
     "text": [
      "Type\n",
      "Land Cruiser    269\n",
      "Camry           233\n",
      "Hilux           207\n",
      "Accent          174\n",
      "Yukon           162\n",
      "               ... \n",
      "Nativa            1\n",
      "360               1\n",
      "GC7               1\n",
      "CT5               1\n",
      "S8                1\n",
      "Name: count, Length: 347, dtype: int64\n",
      "Region\n",
      "Riyadh            2270\n",
      "Dammam             924\n",
      "Jeddah             732\n",
      "Qassim             225\n",
      "Al-Medina          214\n",
      "Al-Ahsa            166\n",
      "Aseer              163\n",
      "Makkah             153\n",
      "Taef               103\n",
      "Tabouk              97\n",
      "Khobar              76\n",
      "Abha                64\n",
      "Jazan               60\n",
      "Hail                58\n",
      "Jubail              56\n",
      "Najran              42\n",
      "Hafar Al-Batin      39\n",
      "Al-Baha             35\n",
      "Yanbu               27\n",
      "Al-Jouf             27\n",
      "Arar                22\n",
      "Besha               16\n",
      "Qurayyat            13\n",
      "Al-Namas            12\n",
      "Wadi Dawasir        12\n",
      "Sakaka              10\n",
      "Sabya                4\n",
      "Name: count, dtype: int64\n",
      "Make\n",
      "Toyota          1430\n",
      "Hyundai          668\n",
      "Ford             530\n",
      "Chevrolet        458\n",
      "Nissan           387\n",
      "GMC              282\n",
      "Kia              250\n",
      "Mercedes         226\n",
      "Lexus            222\n",
      "Mazda            129\n",
      "Honda            115\n",
      "BMW               97\n",
      "Dodge             95\n",
      "Mitsubishi        94\n",
      "Land Rover        79\n",
      "Jeep              56\n",
      "Chrysler          50\n",
      "Audi              38\n",
      "Changan           36\n",
      "Renault           35\n",
      "Cadillac          31\n",
      "Genesis           31\n",
      "Isuzu             25\n",
      "Geely             24\n",
      "Volkswagen        23\n",
      "Porsche           22\n",
      "MG                21\n",
      "Suzuki            16\n",
      "Lincoln           16\n",
      "INFINITI          15\n",
      "HAVAL             14\n",
      "MINI              11\n",
      "Other             10\n",
      "Daihatsu           9\n",
      "Jaguar             9\n",
      "Mercury            9\n",
      "Peugeot            8\n",
      "Fiat               7\n",
      "Hummer             5\n",
      "Bentley            4\n",
      "Great Wall         4\n",
      "FAW                4\n",
      "Rolls-Royce        3\n",
      "Maserati           3\n",
      "GAC                3\n",
      "Foton              2\n",
      "Zhengzhou          2\n",
      "Aston Martin       2\n",
      "Lifan              1\n",
      "Chery              1\n",
      "Classic            1\n",
      "Victory Auto       1\n",
      "Škoda              1\n",
      "BYD                1\n",
      "Iveco              1\n",
      "SsangYong          1\n",
      "Tata               1\n",
      "Ferrari            1\n",
      "Name: count, dtype: int64\n",
      "Gear_Type\n",
      "Automatic    4871\n",
      "Manual        749\n",
      "Name: count, dtype: int64\n",
      "Origin\n",
      "Saudi          4184\n",
      "Gulf Arabic     697\n",
      "Other           678\n",
      "Unknown          61\n",
      "Name: count, dtype: int64\n",
      "Options\n",
      "Full         2232\n",
      "Standard     1819\n",
      "Semi Full    1569\n",
      "Name: count, dtype: int64\n"
     ]
    }
   ],
   "source": [
    "for i in categorical_features:\n",
    "   print (df[i].value_counts())"
   ]
  },
  {
   "cell_type": "code",
   "execution_count": 11,
   "metadata": {},
   "outputs": [
    {
     "data": {
      "image/png": "[encoded data removed]",
      "text/plain": [
       "<Figure size 1500x800 with 1 Axes>"
      ]
     },
     "metadata": {},
     "output_type": "display_data"
    }
   ],
   "source": [
    "plt.figure(figsize=(15,8))\n",
    "# plt.boxplot(df['Price']);\n",
    "# plt.hist(df['Year'], bins=50);\n",
    "plt.hist(df[(df['Year']>=2000)]['Year'], bins=23);"
   ]
  },
  {
   "cell_type": "code",
   "execution_count": 12,
   "metadata": {},
   "outputs": [],
   "source": [
    "df = df[df['Year']>=2005]"
   ]
  },
  {
   "cell_type": "code",
   "execution_count": 13,
   "metadata": {},
   "outputs": [],
   "source": [
    "# Calculate the frequency of each 'Type'\n",
    "type_counts = df['Type'].value_counts()\n",
    "\n",
    "# Filter 'Type' values that appear 10 or more times\n",
    "df = df[df['Type'].isin(type_counts[type_counts >= 3].index)]"
   ]
  },
  {
   "cell_type": "code",
   "execution_count": 14,
   "metadata": {},
   "outputs": [
    {
     "data": {
      "text/plain": [
       "(5092, 11)"
      ]
     },
     "execution_count": 14,
     "metadata": {},
     "output_type": "execute_result"
    }
   ],
   "source": [
    "df.shape"
   ]
  },
  {
   "cell_type": "code",
   "execution_count": 15,
   "metadata": {},
   "outputs": [],
   "source": [
    "# Calculate the frequency of each 'Make'\n",
    "make_counts = df['Make'].value_counts()\n",
    "\n",
    "# Filter 'Type' values that appear 10 or more times\n",
    "df = df[df['Make'].isin(make_counts[make_counts >=3].index)]"
   ]
  },
  {
   "cell_type": "code",
   "execution_count": 16,
   "metadata": {},
   "outputs": [
    {
     "data": {
      "text/plain": [
       "(5092, 11)"
      ]
     },
     "execution_count": 16,
     "metadata": {},
     "output_type": "execute_result"
    }
   ],
   "source": [
    "df.shape"
   ]
  },
  {
   "cell_type": "code",
   "execution_count": 17,
   "metadata": {},
   "outputs": [
    {
     "data": {
      "image/png": "[encoded data removed]",
      "text/plain": [
       "<Figure size 1500x800 with 1 Axes>"
      ]
     },
     "metadata": {},
     "output_type": "display_data"
    }
   ],
   "source": [
    "plt.figure(figsize=(15,8))\n",
    "# plt.boxplot(df['Price']);\n",
    "# plt.hist(df['Price'], bins=100);\n",
    "plt.hist(df[(df['Price']<=250000) & (df['Price']>5000)]['Price'], bins=100);\n",
    "#plt.hist(df[(df['Price']<=400000) & (df['Price']>=5000)]['Price'], bins=100);"
   ]
  },
  {
   "cell_type": "code",
   "execution_count": 18,
   "metadata": {},
   "outputs": [],
   "source": [
    "df = df[(df['Price']<=250000) & (df['Price']>=5000)]"
   ]
  },
  {
   "cell_type": "code",
   "execution_count": 19,
   "metadata": {},
   "outputs": [
    {
     "data": {
      "text/plain": [
       "(3335, 11)"
      ]
     },
     "execution_count": 19,
     "metadata": {},
     "output_type": "execute_result"
    }
   ],
   "source": [
    "df.shape"
   ]
  },
  {
   "cell_type": "code",
   "execution_count": 20,
   "metadata": {},
   "outputs": [
    {
     "data": {
      "text/html": [
       "<div>\n",
       "<style scoped>\n",
       "    .dataframe tbody tr th:only-of-type {\n",
       "        vertical-align: middle;\n",
       "    }\n",
       "\n",
       "    .dataframe tbody tr th {\n",
       "        vertical-align: top;\n",
       "    }\n",
       "\n",
       "    .dataframe thead th {\n",
       "        text-align: right;\n",
       "    }\n",
       "</style>\n",
       "<table border=\"1\" class=\"dataframe\">\n",
       "  <thead>\n",
       "    <tr style=\"text-align: right;\">\n",
       "      <th></th>\n",
       "      <th>Type</th>\n",
       "      <th>Region</th>\n",
       "      <th>Make</th>\n",
       "      <th>Gear_Type</th>\n",
       "      <th>Origin</th>\n",
       "      <th>Options</th>\n",
       "      <th>Year</th>\n",
       "      <th>Engine_Size</th>\n",
       "      <th>Mileage</th>\n",
       "      <th>Negotiable</th>\n",
       "      <th>Price</th>\n",
       "    </tr>\n",
       "  </thead>\n",
       "  <tbody>\n",
       "    <tr>\n",
       "      <th>7</th>\n",
       "      <td>Sonata</td>\n",
       "      <td>Riyadh</td>\n",
       "      <td>Hyundai</td>\n",
       "      <td>Automatic</td>\n",
       "      <td>Saudi</td>\n",
       "      <td>Full</td>\n",
       "      <td>2016</td>\n",
       "      <td>2.4</td>\n",
       "      <td>155</td>\n",
       "      <td>False</td>\n",
       "      <td>48000</td>\n",
       "    </tr>\n",
       "    <tr>\n",
       "      <th>10</th>\n",
       "      <td>C300</td>\n",
       "      <td>Makkah</td>\n",
       "      <td>Chrysler</td>\n",
       "      <td>Automatic</td>\n",
       "      <td>Saudi</td>\n",
       "      <td>Full</td>\n",
       "      <td>2013</td>\n",
       "      <td>5.7</td>\n",
       "      <td>200</td>\n",
       "      <td>False</td>\n",
       "      <td>55000</td>\n",
       "    </tr>\n",
       "    <tr>\n",
       "      <th>20</th>\n",
       "      <td>Sunny</td>\n",
       "      <td>Riyadh</td>\n",
       "      <td>Nissan</td>\n",
       "      <td>Manual</td>\n",
       "      <td>Saudi</td>\n",
       "      <td>Standard</td>\n",
       "      <td>2011</td>\n",
       "      <td>1.4</td>\n",
       "      <td>290</td>\n",
       "      <td>False</td>\n",
       "      <td>7000</td>\n",
       "    </tr>\n",
       "    <tr>\n",
       "      <th>26</th>\n",
       "      <td>Spark</td>\n",
       "      <td>Dammam</td>\n",
       "      <td>Chevrolet</td>\n",
       "      <td>Automatic</td>\n",
       "      <td>Saudi</td>\n",
       "      <td>Semi Full</td>\n",
       "      <td>2017</td>\n",
       "      <td>1.4</td>\n",
       "      <td>108</td>\n",
       "      <td>False</td>\n",
       "      <td>20000</td>\n",
       "    </tr>\n",
       "    <tr>\n",
       "      <th>31</th>\n",
       "      <td>Corolla</td>\n",
       "      <td>Jazan</td>\n",
       "      <td>Toyota</td>\n",
       "      <td>Automatic</td>\n",
       "      <td>Saudi</td>\n",
       "      <td>Semi Full</td>\n",
       "      <td>2013</td>\n",
       "      <td>1.6</td>\n",
       "      <td>296</td>\n",
       "      <td>False</td>\n",
       "      <td>30000</td>\n",
       "    </tr>\n",
       "    <tr>\n",
       "      <th>...</th>\n",
       "      <td>...</td>\n",
       "      <td>...</td>\n",
       "      <td>...</td>\n",
       "      <td>...</td>\n",
       "      <td>...</td>\n",
       "      <td>...</td>\n",
       "      <td>...</td>\n",
       "      <td>...</td>\n",
       "      <td>...</td>\n",
       "      <td>...</td>\n",
       "      <td>...</td>\n",
       "    </tr>\n",
       "    <tr>\n",
       "      <th>5575</th>\n",
       "      <td>Tahoe</td>\n",
       "      <td>Jeddah</td>\n",
       "      <td>Chevrolet</td>\n",
       "      <td>Automatic</td>\n",
       "      <td>Saudi</td>\n",
       "      <td>Full</td>\n",
       "      <td>2013</td>\n",
       "      <td>5.3</td>\n",
       "      <td>206</td>\n",
       "      <td>False</td>\n",
       "      <td>77000</td>\n",
       "    </tr>\n",
       "    <tr>\n",
       "      <th>5589</th>\n",
       "      <td>Land Cruiser</td>\n",
       "      <td>Tabouk</td>\n",
       "      <td>Toyota</td>\n",
       "      <td>Automatic</td>\n",
       "      <td>Gulf Arabic</td>\n",
       "      <td>Full</td>\n",
       "      <td>2013</td>\n",
       "      <td>4.6</td>\n",
       "      <td>186</td>\n",
       "      <td>False</td>\n",
       "      <td>138000</td>\n",
       "    </tr>\n",
       "    <tr>\n",
       "      <th>5606</th>\n",
       "      <td>Land Cruiser</td>\n",
       "      <td>Al-Baha</td>\n",
       "      <td>Toyota</td>\n",
       "      <td>Automatic</td>\n",
       "      <td>Gulf Arabic</td>\n",
       "      <td>Full</td>\n",
       "      <td>2006</td>\n",
       "      <td>4.6</td>\n",
       "      <td>285</td>\n",
       "      <td>False</td>\n",
       "      <td>65000</td>\n",
       "    </tr>\n",
       "    <tr>\n",
       "      <th>5607</th>\n",
       "      <td>C300</td>\n",
       "      <td>Riyadh</td>\n",
       "      <td>Chrysler</td>\n",
       "      <td>Automatic</td>\n",
       "      <td>Saudi</td>\n",
       "      <td>Full</td>\n",
       "      <td>2013</td>\n",
       "      <td>5.7</td>\n",
       "      <td>210</td>\n",
       "      <td>False</td>\n",
       "      <td>48000</td>\n",
       "    </tr>\n",
       "    <tr>\n",
       "      <th>5612</th>\n",
       "      <td>Azera</td>\n",
       "      <td>Riyadh</td>\n",
       "      <td>Hyundai</td>\n",
       "      <td>Automatic</td>\n",
       "      <td>Other</td>\n",
       "      <td>Semi Full</td>\n",
       "      <td>2011</td>\n",
       "      <td>3.5</td>\n",
       "      <td>447</td>\n",
       "      <td>False</td>\n",
       "      <td>21000</td>\n",
       "    </tr>\n",
       "  </tbody>\n",
       "</table>\n",
       "<p>239 rows × 11 columns</p>\n",
       "</div>"
      ],
      "text/plain": [
       "              Type   Region       Make  Gear_Type       Origin    Options  \\\n",
       "7           Sonata   Riyadh    Hyundai  Automatic        Saudi       Full   \n",
       "10            C300   Makkah   Chrysler  Automatic        Saudi       Full   \n",
       "20           Sunny   Riyadh     Nissan     Manual        Saudi   Standard   \n",
       "26           Spark   Dammam  Chevrolet  Automatic        Saudi  Semi Full   \n",
       "31         Corolla    Jazan     Toyota  Automatic        Saudi  Semi Full   \n",
       "...            ...      ...        ...        ...          ...        ...   \n",
       "5575         Tahoe   Jeddah  Chevrolet  Automatic        Saudi       Full   \n",
       "5589  Land Cruiser   Tabouk     Toyota  Automatic  Gulf Arabic       Full   \n",
       "5606  Land Cruiser  Al-Baha     Toyota  Automatic  Gulf Arabic       Full   \n",
       "5607          C300   Riyadh   Chrysler  Automatic        Saudi       Full   \n",
       "5612         Azera   Riyadh    Hyundai  Automatic        Other  Semi Full   \n",
       "\n",
       "      Year  Engine_Size  Mileage  Negotiable   Price  \n",
       "7     2016          2.4      155       False   48000  \n",
       "10    2013          5.7      200       False   55000  \n",
       "20    2011          1.4      290       False    7000  \n",
       "26    2017          1.4      108       False   20000  \n",
       "31    2013          1.6      296       False   30000  \n",
       "...    ...          ...      ...         ...     ...  \n",
       "5575  2013          5.3      206       False   77000  \n",
       "5589  2013          4.6      186       False  138000  \n",
       "5606  2006          4.6      285       False   65000  \n",
       "5607  2013          5.7      210       False   48000  \n",
       "5612  2011          3.5      447       False   21000  \n",
       "\n",
       "[239 rows x 11 columns]"
      ]
     },
     "execution_count": 20,
     "metadata": {},
     "output_type": "execute_result"
    }
   ],
   "source": [
    "df[df['Mileage']<1000]"
   ]
  },
  {
   "cell_type": "code",
   "execution_count": 21,
   "metadata": {},
   "outputs": [
    {
     "data": {
      "image/png": "[encoded data removed]",
      "text/plain": [
       "<Figure size 1500x800 with 1 Axes>"
      ]
     },
     "metadata": {},
     "output_type": "display_data"
    }
   ],
   "source": [
    "plt.figure(figsize=(15,8))\n",
    "#plt.boxplot(df['Mileage']);\n",
    "plt.hist(df[(df['Mileage']<=450000) & (df['Mileage']>=1000)]['Mileage'], bins=100);\n",
    "# plt.hist(df['Mileage'], bins=100);"
   ]
  },
  {
   "cell_type": "code",
   "execution_count": 22,
   "metadata": {},
   "outputs": [
    {
     "data": {
      "text/plain": [
       "(3051, 11)"
      ]
     },
     "execution_count": 22,
     "metadata": {},
     "output_type": "execute_result"
    }
   ],
   "source": [
    "df = df[(df['Mileage']<=450000) & (df['Mileage']>=1000)]\n",
    "df.shape"
   ]
  },
  {
   "cell_type": "markdown",
   "metadata": {
    "jp-MarkdownHeadingCollapsed": true
   },
   "source": [
    "#### 2. Feature engineering"
   ]
  },
  {
   "cell_type": "markdown",
   "metadata": {},
   "source": [
    "1. Feature scaling\n",
    "2. Aggregation\n",
    "3. One hot coding"
   ]
  },
  {
   "cell_type": "code",
   "execution_count": 23,
   "metadata": {},
   "outputs": [
    {
     "data": {
      "text/html": [
       "<div>\n",
       "<style scoped>\n",
       "    .dataframe tbody tr th:only-of-type {\n",
       "        vertical-align: middle;\n",
       "    }\n",
       "\n",
       "    .dataframe tbody tr th {\n",
       "        vertical-align: top;\n",
       "    }\n",
       "\n",
       "    .dataframe thead th {\n",
       "        text-align: right;\n",
       "    }\n",
       "</style>\n",
       "<table border=\"1\" class=\"dataframe\">\n",
       "  <thead>\n",
       "    <tr style=\"text-align: right;\">\n",
       "      <th></th>\n",
       "      <th>Type</th>\n",
       "      <th>Region</th>\n",
       "      <th>Make</th>\n",
       "      <th>Gear_Type</th>\n",
       "      <th>Origin</th>\n",
       "      <th>Options</th>\n",
       "      <th>Year</th>\n",
       "      <th>Engine_Size</th>\n",
       "      <th>Mileage</th>\n",
       "      <th>Negotiable</th>\n",
       "      <th>Price</th>\n",
       "    </tr>\n",
       "  </thead>\n",
       "  <tbody>\n",
       "    <tr>\n",
       "      <th>1</th>\n",
       "      <td>Yukon</td>\n",
       "      <td>Riyadh</td>\n",
       "      <td>GMC</td>\n",
       "      <td>Automatic</td>\n",
       "      <td>Saudi</td>\n",
       "      <td>Full</td>\n",
       "      <td>2014</td>\n",
       "      <td>8.0</td>\n",
       "      <td>80000</td>\n",
       "      <td>False</td>\n",
       "      <td>120000</td>\n",
       "    </tr>\n",
       "    <tr>\n",
       "      <th>3</th>\n",
       "      <td>Optima</td>\n",
       "      <td>Hafar Al-Batin</td>\n",
       "      <td>Kia</td>\n",
       "      <td>Automatic</td>\n",
       "      <td>Saudi</td>\n",
       "      <td>Semi Full</td>\n",
       "      <td>2015</td>\n",
       "      <td>2.4</td>\n",
       "      <td>220000</td>\n",
       "      <td>False</td>\n",
       "      <td>42000</td>\n",
       "    </tr>\n",
       "  </tbody>\n",
       "</table>\n",
       "</div>"
      ],
      "text/plain": [
       "     Type          Region Make  Gear_Type Origin    Options  Year  \\\n",
       "1   Yukon          Riyadh  GMC  Automatic  Saudi       Full  2014   \n",
       "3  Optima  Hafar Al-Batin  Kia  Automatic  Saudi  Semi Full  2015   \n",
       "\n",
       "   Engine_Size  Mileage  Negotiable   Price  \n",
       "1          8.0    80000       False  120000  \n",
       "3          2.4   220000       False   42000  "
      ]
     },
     "execution_count": 23,
     "metadata": {},
     "output_type": "execute_result"
    }
   ],
   "source": [
    "df.head(2)"
   ]
  },
  {
   "cell_type": "code",
   "execution_count": 24,
   "metadata": {},
   "outputs": [
    {
     "data": {
      "text/plain": [
       "['Type', 'Region', 'Make', 'Gear_Type', 'Origin', 'Options']"
      ]
     },
     "execution_count": 24,
     "metadata": {},
     "output_type": "execute_result"
    }
   ],
   "source": [
    "categorical_features"
   ]
  },
  {
   "cell_type": "code",
   "execution_count": 25,
   "metadata": {},
   "outputs": [],
   "source": [
    "# one hot coding\n",
    "df = pd.get_dummies(df, columns=categorical_features)"
   ]
  },
  {
   "cell_type": "code",
   "execution_count": 26,
   "metadata": {},
   "outputs": [
    {
     "data": {
      "text/plain": [
       "(3051, 268)"
      ]
     },
     "execution_count": 26,
     "metadata": {},
     "output_type": "execute_result"
    }
   ],
   "source": [
    "df.shape"
   ]
  },
  {
   "cell_type": "code",
   "execution_count": 27,
   "metadata": {},
   "outputs": [
    {
     "data": {
      "text/html": [
       "<div>\n",
       "<style scoped>\n",
       "    .dataframe tbody tr th:only-of-type {\n",
       "        vertical-align: middle;\n",
       "    }\n",
       "\n",
       "    .dataframe tbody tr th {\n",
       "        vertical-align: top;\n",
       "    }\n",
       "\n",
       "    .dataframe thead th {\n",
       "        text-align: right;\n",
       "    }\n",
       "</style>\n",
       "<table border=\"1\" class=\"dataframe\">\n",
       "  <thead>\n",
       "    <tr style=\"text-align: right;\">\n",
       "      <th></th>\n",
       "      <th>Year</th>\n",
       "      <th>Engine_Size</th>\n",
       "      <th>Mileage</th>\n",
       "      <th>Negotiable</th>\n",
       "      <th>Price</th>\n",
       "      <th>Type_3</th>\n",
       "      <th>Type_300</th>\n",
       "      <th>Type_3008</th>\n",
       "      <th>Type_5</th>\n",
       "      <th>Type_500</th>\n",
       "      <th>...</th>\n",
       "      <th>Make_Volkswagen</th>\n",
       "      <th>Gear_Type_Automatic</th>\n",
       "      <th>Gear_Type_Manual</th>\n",
       "      <th>Origin_Gulf Arabic</th>\n",
       "      <th>Origin_Other</th>\n",
       "      <th>Origin_Saudi</th>\n",
       "      <th>Origin_Unknown</th>\n",
       "      <th>Options_Full</th>\n",
       "      <th>Options_Semi Full</th>\n",
       "      <th>Options_Standard</th>\n",
       "    </tr>\n",
       "  </thead>\n",
       "  <tbody>\n",
       "    <tr>\n",
       "      <th>1</th>\n",
       "      <td>2014</td>\n",
       "      <td>8.0</td>\n",
       "      <td>80000</td>\n",
       "      <td>False</td>\n",
       "      <td>120000</td>\n",
       "      <td>False</td>\n",
       "      <td>False</td>\n",
       "      <td>False</td>\n",
       "      <td>False</td>\n",
       "      <td>False</td>\n",
       "      <td>...</td>\n",
       "      <td>False</td>\n",
       "      <td>True</td>\n",
       "      <td>False</td>\n",
       "      <td>False</td>\n",
       "      <td>False</td>\n",
       "      <td>True</td>\n",
       "      <td>False</td>\n",
       "      <td>True</td>\n",
       "      <td>False</td>\n",
       "      <td>False</td>\n",
       "    </tr>\n",
       "    <tr>\n",
       "      <th>3</th>\n",
       "      <td>2015</td>\n",
       "      <td>2.4</td>\n",
       "      <td>220000</td>\n",
       "      <td>False</td>\n",
       "      <td>42000</td>\n",
       "      <td>False</td>\n",
       "      <td>False</td>\n",
       "      <td>False</td>\n",
       "      <td>False</td>\n",
       "      <td>False</td>\n",
       "      <td>...</td>\n",
       "      <td>False</td>\n",
       "      <td>True</td>\n",
       "      <td>False</td>\n",
       "      <td>False</td>\n",
       "      <td>False</td>\n",
       "      <td>True</td>\n",
       "      <td>False</td>\n",
       "      <td>False</td>\n",
       "      <td>True</td>\n",
       "      <td>False</td>\n",
       "    </tr>\n",
       "  </tbody>\n",
       "</table>\n",
       "<p>2 rows × 268 columns</p>\n",
       "</div>"
      ],
      "text/plain": [
       "   Year  Engine_Size  Mileage  Negotiable   Price  Type_3  Type_300  \\\n",
       "1  2014          8.0    80000       False  120000   False     False   \n",
       "3  2015          2.4   220000       False   42000   False     False   \n",
       "\n",
       "   Type_3008  Type_5  Type_500  ...  Make_Volkswagen  Gear_Type_Automatic  \\\n",
       "1      False   False     False  ...            False                 True   \n",
       "3      False   False     False  ...            False                 True   \n",
       "\n",
       "   Gear_Type_Manual  Origin_Gulf Arabic  Origin_Other  Origin_Saudi  \\\n",
       "1             False               False         False          True   \n",
       "3             False               False         False          True   \n",
       "\n",
       "   Origin_Unknown  Options_Full  Options_Semi Full  Options_Standard  \n",
       "1           False          True              False             False  \n",
       "3           False         False               True             False  \n",
       "\n",
       "[2 rows x 268 columns]"
      ]
     },
     "execution_count": 27,
     "metadata": {},
     "output_type": "execute_result"
    }
   ],
   "source": [
    "df.head(2)"
   ]
  },
  {
   "cell_type": "markdown",
   "metadata": {
    "jp-MarkdownHeadingCollapsed": true
   },
   "source": [
    "#### 3. Feature selection"
   ]
  },
  {
   "cell_type": "code",
   "execution_count": 28,
   "metadata": {},
   "outputs": [],
   "source": [
    "# sns.heatmap(df.corr(), annot=True);"
   ]
  },
  {
   "cell_type": "code",
   "execution_count": 29,
   "metadata": {},
   "outputs": [
    {
     "name": "stdout",
     "output_type": "stream",
     "text": [
      "Price                1.000000\n",
      "Engine_Size          0.371715\n",
      "Year                 0.344185\n",
      "Options_Full         0.343589\n",
      "Type_Land Cruiser    0.297895\n",
      "                       ...   \n",
      "Origin_Saudi        -0.224844\n",
      "Make_Hyundai        -0.229730\n",
      "Options_Standard    -0.313551\n",
      "Mileage             -0.347066\n",
      "Negotiable                NaN\n",
      "Name: Price, Length: 268, dtype: float64\n"
     ]
    }
   ],
   "source": [
    "correlation = df.corr()\n",
    "print(correlation['Price'].sort_values(ascending=False))"
   ]
  },
  {
   "cell_type": "code",
   "execution_count": 30,
   "metadata": {},
   "outputs": [
    {
     "data": {
      "text/plain": [
       "Index(['Year', 'Engine_Size', 'Mileage', 'Price', 'Type_Land Cruiser',\n",
       "       'Make_Hyundai', 'Make_Lexus', 'Make_Mercedes', 'Origin_Gulf Arabic',\n",
       "       'Origin_Saudi', 'Options_Full', 'Options_Standard'],\n",
       "      dtype='object')"
      ]
     },
     "execution_count": 30,
     "metadata": {},
     "output_type": "execute_result"
    }
   ],
   "source": [
    "# Set the correlation threshold\n",
    "threshold = 0.2  # You can change this value based on your requirement\n",
    "\n",
    "# Filter the correlations\n",
    "# We use `abs()` for absolute value to consider both strong positive and negative correlations\n",
    "selected_features = correlation[abs(correlation['Price']) > threshold]['Price'].index\n",
    "selected_features"
   ]
  },
  {
   "cell_type": "code",
   "execution_count": 31,
   "metadata": {},
   "outputs": [],
   "source": [
    "selected_features = ['Year', 'Engine_Size', 'Mileage', 'Price', 'Type_Land Cruiser',\n",
    "       'Make_Hyundai', 'Make_Lexus', 'Make_Mercedes', 'Origin_Gulf Arabic',\n",
    "       'Origin_Saudi', 'Options_Full', 'Options_Standard']"
   ]
  },
  {
   "cell_type": "code",
   "execution_count": 32,
   "metadata": {},
   "outputs": [
    {
     "data": {
      "text/html": [
       "<div>\n",
       "<style scoped>\n",
       "    .dataframe tbody tr th:only-of-type {\n",
       "        vertical-align: middle;\n",
       "    }\n",
       "\n",
       "    .dataframe tbody tr th {\n",
       "        vertical-align: top;\n",
       "    }\n",
       "\n",
       "    .dataframe thead th {\n",
       "        text-align: right;\n",
       "    }\n",
       "</style>\n",
       "<table border=\"1\" class=\"dataframe\">\n",
       "  <thead>\n",
       "    <tr style=\"text-align: right;\">\n",
       "      <th></th>\n",
       "      <th>Year</th>\n",
       "      <th>Engine_Size</th>\n",
       "      <th>Mileage</th>\n",
       "      <th>Price</th>\n",
       "      <th>Type_Land Cruiser</th>\n",
       "      <th>Make_Hyundai</th>\n",
       "      <th>Make_Lexus</th>\n",
       "      <th>Make_Mercedes</th>\n",
       "      <th>Origin_Gulf Arabic</th>\n",
       "      <th>Origin_Saudi</th>\n",
       "      <th>Options_Full</th>\n",
       "      <th>Options_Standard</th>\n",
       "    </tr>\n",
       "  </thead>\n",
       "  <tbody>\n",
       "    <tr>\n",
       "      <th>1</th>\n",
       "      <td>2014</td>\n",
       "      <td>8.0</td>\n",
       "      <td>80000</td>\n",
       "      <td>120000</td>\n",
       "      <td>False</td>\n",
       "      <td>False</td>\n",
       "      <td>False</td>\n",
       "      <td>False</td>\n",
       "      <td>False</td>\n",
       "      <td>True</td>\n",
       "      <td>True</td>\n",
       "      <td>False</td>\n",
       "    </tr>\n",
       "    <tr>\n",
       "      <th>3</th>\n",
       "      <td>2015</td>\n",
       "      <td>2.4</td>\n",
       "      <td>220000</td>\n",
       "      <td>42000</td>\n",
       "      <td>False</td>\n",
       "      <td>False</td>\n",
       "      <td>False</td>\n",
       "      <td>False</td>\n",
       "      <td>False</td>\n",
       "      <td>True</td>\n",
       "      <td>False</td>\n",
       "      <td>False</td>\n",
       "    </tr>\n",
       "    <tr>\n",
       "      <th>5</th>\n",
       "      <td>2019</td>\n",
       "      <td>2.0</td>\n",
       "      <td>25000</td>\n",
       "      <td>58000</td>\n",
       "      <td>False</td>\n",
       "      <td>False</td>\n",
       "      <td>False</td>\n",
       "      <td>False</td>\n",
       "      <td>False</td>\n",
       "      <td>True</td>\n",
       "      <td>False</td>\n",
       "      <td>False</td>\n",
       "    </tr>\n",
       "    <tr>\n",
       "      <th>6</th>\n",
       "      <td>2012</td>\n",
       "      <td>4.8</td>\n",
       "      <td>189000</td>\n",
       "      <td>85000</td>\n",
       "      <td>False</td>\n",
       "      <td>False</td>\n",
       "      <td>False</td>\n",
       "      <td>False</td>\n",
       "      <td>False</td>\n",
       "      <td>True</td>\n",
       "      <td>True</td>\n",
       "      <td>False</td>\n",
       "    </tr>\n",
       "    <tr>\n",
       "      <th>8</th>\n",
       "      <td>2016</td>\n",
       "      <td>3.5</td>\n",
       "      <td>110864</td>\n",
       "      <td>81500</td>\n",
       "      <td>False</td>\n",
       "      <td>False</td>\n",
       "      <td>False</td>\n",
       "      <td>False</td>\n",
       "      <td>False</td>\n",
       "      <td>True</td>\n",
       "      <td>False</td>\n",
       "      <td>True</td>\n",
       "    </tr>\n",
       "  </tbody>\n",
       "</table>\n",
       "</div>"
      ],
      "text/plain": [
       "   Year  Engine_Size  Mileage   Price  Type_Land Cruiser  Make_Hyundai  \\\n",
       "1  2014          8.0    80000  120000              False         False   \n",
       "3  2015          2.4   220000   42000              False         False   \n",
       "5  2019          2.0    25000   58000              False         False   \n",
       "6  2012          4.8   189000   85000              False         False   \n",
       "8  2016          3.5   110864   81500              False         False   \n",
       "\n",
       "   Make_Lexus  Make_Mercedes  Origin_Gulf Arabic  Origin_Saudi  Options_Full  \\\n",
       "1       False          False               False          True          True   \n",
       "3       False          False               False          True         False   \n",
       "5       False          False               False          True         False   \n",
       "6       False          False               False          True          True   \n",
       "8       False          False               False          True         False   \n",
       "\n",
       "   Options_Standard  \n",
       "1             False  \n",
       "3             False  \n",
       "5             False  \n",
       "6             False  \n",
       "8              True  "
      ]
     },
     "execution_count": 32,
     "metadata": {},
     "output_type": "execute_result"
    }
   ],
   "source": [
    "df = df[selected_features]\n",
    "df.head()"
   ]
  },
  {
   "cell_type": "code",
   "execution_count": 33,
   "metadata": {},
   "outputs": [
    {
     "data": {
      "text/plain": [
       "(3051, 12)"
      ]
     },
     "execution_count": 33,
     "metadata": {},
     "output_type": "execute_result"
    }
   ],
   "source": [
    "df.shape"
   ]
  },
  {
   "cell_type": "markdown",
   "metadata": {
    "jp-MarkdownHeadingCollapsed": true
   },
   "source": [
    "#### 4. Prepare train and test data"
   ]
  },
  {
   "cell_type": "code",
   "execution_count": 34,
   "metadata": {},
   "outputs": [],
   "source": [
    "# Prepare data\n",
    "X = df.drop(['Price'], axis=1)\n",
    "y = df['Price']\n",
    "\n",
    "# Split data into training and testing sets\n",
    "X_train, X_test, y_train, y_test = train_test_split(X, y,\n",
    "                                                    test_size=0.2,\n",
    "                                                    shuffle=True,\n",
    "                                                    random_state=42)\n",
    "\n",
    "# sacle the data\n",
    "scaler = StandardScaler()\n",
    "scaler.fit(X_train)\n",
    "X_train_scaled = scaler.transform(X_train)\n",
    "X_test_scaled = scaler.transform(X_test)"
   ]
  },
  {
   "cell_type": "code",
   "execution_count": 35,
   "metadata": {},
   "outputs": [
    {
     "data": {
      "text/plain": [
       "(3051, 11)"
      ]
     },
     "execution_count": 35,
     "metadata": {},
     "output_type": "execute_result"
    }
   ],
   "source": [
    "X.shape"
   ]
  },
  {
   "cell_type": "markdown",
   "metadata": {},
   "source": [
    "## How to build from scratch?\n",
    "- **Note:** No need to run this code , just for learning purpose"
   ]
  },
  {
   "cell_type": "code",
   "execution_count": 36,
   "metadata": {},
   "outputs": [],
   "source": [
    "# Initialize parameters\n",
    "learning_rate = 0.01\n",
    "\n",
    "# Number of iterations\n",
    "epochs = 1000\n",
    "\n",
    "#Number of rows , columns\n",
    "n_samples, n_features = X_train_scaled.shape\n",
    "weights = np.zeros(n_features)\n",
    "bias = 0\n",
    "\n",
    "# Training the model\n",
    "for _ in range(epochs):\n",
    "    y_predicted = np.dot(X_train_scaled, weights) + bias\n",
    "    \n",
    "    # Compute gradients for weights and bias\n",
    "    dw = (1 / n_samples) * np.dot(X_train_scaled.T, (y_predicted - y_train))\n",
    "    db = (1 / n_samples) * np.sum(y_predicted - y_train)\n",
    "    \n",
    "    weights -= learning_rate * dw\n",
    "    bias -= learning_rate * db\n",
    "\n",
    "# Predict function\n",
    "def predict(X):\n",
    "    return np.dot(X, weights) + bias\n",
    "\n",
    "# Predicting on test data\n",
    "y_pred = predict(X_test_scaled)\n"
   ]
  },
  {
   "cell_type": "markdown",
   "metadata": {},
   "source": [
    "## Buliding the Model"
   ]
  },
  {
   "cell_type": "code",
   "execution_count": 37,
   "metadata": {},
   "outputs": [],
   "source": [
    "model = LinearRegression()"
   ]
  },
  {
   "cell_type": "code",
   "execution_count": 38,
   "metadata": {},
   "outputs": [],
   "source": [
    "ridge_model = Ridge()  # You can adjust alpha to see different results"
   ]
  },
  {
   "cell_type": "code",
   "execution_count": 39,
   "metadata": {},
   "outputs": [],
   "source": [
    "lasso_model = Lasso()  # You can adjust alpha to see different results"
   ]
  },
  {
   "cell_type": "code",
   "execution_count": 40,
   "metadata": {},
   "outputs": [],
   "source": [
    "param_grid = {\n",
    "    'alpha': [0, 0.003, 0.0002, 0.001, 0.01, 0.5, 1, 5]  # Regularization strength\n",
    "}\n",
    "grid_search_ridge = GridSearchCV(estimator=ridge_model,\n",
    "                           param_grid=param_grid,\n",
    "                           cv=5,\n",
    "                           scoring='neg_mean_squared_error', \n",
    "                           verbose=1)\n",
    "\n",
    "grid_search_lasso = GridSearchCV(estimator=lasso_model,\n",
    "                           param_grid=param_grid,\n",
    "                           cv=5,\n",
    "                           scoring='neg_mean_squared_error', \n",
    "                           verbose=1)"
   ]
  },
  {
   "cell_type": "markdown",
   "metadata": {},
   "source": [
    "## Train the Model"
   ]
  },
  {
   "cell_type": "code",
   "execution_count": 41,
   "metadata": {},
   "outputs": [
    {
     "data": {
      "text/html": [
       "<style>#sk-container-id-1 {color: black;}#sk-container-id-1 pre{padding: 0;}#sk-container-id-1 div.sk-toggleable {background-color: white;}#sk-container-id-1 label.sk-toggleable__label {cursor: pointer;display: block;width: 100%;margin-bottom: 0;padding: 0.3em;box-sizing: border-box;text-align: center;}#sk-container-id-1 label.sk-toggleable__label-arrow:before {content: \"▸\";float: left;margin-right: 0.25em;color: #696969;}#sk-container-id-1 label.sk-toggleable__label-arrow:hover:before {color: black;}#sk-container-id-1 div.sk-estimator:hover label.sk-toggleable__label-arrow:before {color: black;}#sk-container-id-1 div.sk-toggleable__content {max-height: 0;max-width: 0;overflow: hidden;text-align: left;background-color: #f0f8ff;}#sk-container-id-1 div.sk-toggleable__content pre {margin: 0.2em;color: black;border-radius: 0.25em;background-color: #f0f8ff;}#sk-container-id-1 input.sk-toggleable__control:checked~div.sk-toggleable__content {max-height: 200px;max-width: 100%;overflow: auto;}#sk-container-id-1 input.sk-toggleable__control:checked~label.sk-toggleable__label-arrow:before {content: \"▾\";}#sk-container-id-1 div.sk-estimator input.sk-toggleable__control:checked~label.sk-toggleable__label {background-color: #d4ebff;}#sk-container-id-1 div.sk-label input.sk-toggleable__control:checked~label.sk-toggleable__label {background-color: #d4ebff;}#sk-container-id-1 input.sk-hidden--visually {border: 0;clip: rect(1px 1px 1px 1px);clip: rect(1px, 1px, 1px, 1px);height: 1px;margin: -1px;overflow: hidden;padding: 0;position: absolute;width: 1px;}#sk-container-id-1 div.sk-estimator {font-family: monospace;background-color: #f0f8ff;border: 1px dotted black;border-radius: 0.25em;box-sizing: border-box;margin-bottom: 0.5em;}#sk-container-id-1 div.sk-estimator:hover {background-color: #d4ebff;}#sk-container-id-1 div.sk-parallel-item::after {content: \"\";width: 100%;border-bottom: 1px solid gray;flex-grow: 1;}#sk-container-id-1 div.sk-label:hover label.sk-toggleable__label {background-color: #d4ebff;}#sk-container-id-1 div.sk-serial::before {content: \"\";position: absolute;border-left: 1px solid gray;box-sizing: border-box;top: 0;bottom: 0;left: 50%;z-index: 0;}#sk-container-id-1 div.sk-serial {display: flex;flex-direction: column;align-items: center;background-color: white;padding-right: 0.2em;padding-left: 0.2em;position: relative;}#sk-container-id-1 div.sk-item {position: relative;z-index: 1;}#sk-container-id-1 div.sk-parallel {display: flex;align-items: stretch;justify-content: center;background-color: white;position: relative;}#sk-container-id-1 div.sk-item::before, #sk-container-id-1 div.sk-parallel-item::before {content: \"\";position: absolute;border-left: 1px solid gray;box-sizing: border-box;top: 0;bottom: 0;left: 50%;z-index: -1;}#sk-container-id-1 div.sk-parallel-item {display: flex;flex-direction: column;z-index: 1;position: relative;background-color: white;}#sk-container-id-1 div.sk-parallel-item:first-child::after {align-self: flex-end;width: 50%;}#sk-container-id-1 div.sk-parallel-item:last-child::after {align-self: flex-start;width: 50%;}#sk-container-id-1 div.sk-parallel-item:only-child::after {width: 0;}#sk-container-id-1 div.sk-dashed-wrapped {border: 1px dashed gray;margin: 0 0.4em 0.5em 0.4em;box-sizing: border-box;padding-bottom: 0.4em;background-color: white;}#sk-container-id-1 div.sk-label label {font-family: monospace;font-weight: bold;display: inline-block;line-height: 1.2em;}#sk-container-id-1 div.sk-label-container {text-align: center;}#sk-container-id-1 div.sk-container {/* jupyter's `normalize.less` sets `[hidden] { display: none; }` but bootstrap.min.css set `[hidden] { display: none !important; }` so we also need the `!important` here to be able to override the default hidden behavior on the sphinx rendered scikit-learn.org. See: https://github.com/scikit-learn/scikit-learn/issues/21755 */display: inline-block !important;position: relative;}#sk-container-id-1 div.sk-text-repr-fallback {display: none;}</style><div id=\"sk-container-id-1\" class=\"sk-top-container\"><div class=\"sk-text-repr-fallback\"><pre>LinearRegression()</pre><b>In a Jupyter environment, please rerun this cell to show the HTML representation or trust the notebook. <br />On GitHub, the HTML representation is unable to render, please try loading this page with nbviewer.org.</b></div><div class=\"sk-container\" hidden><div class=\"sk-item\"><div class=\"sk-estimator sk-toggleable\"><input class=\"sk-toggleable__control sk-hidden--visually\" id=\"sk-estimator-id-1\" type=\"checkbox\" checked><label for=\"sk-estimator-id-1\" class=\"sk-toggleable__label sk-toggleable__label-arrow\">LinearRegression</label><div class=\"sk-toggleable__content\"><pre>LinearRegression()</pre></div></div></div></div></div>"
      ],
      "text/plain": [
       "LinearRegression()"
      ]
     },
     "execution_count": 41,
     "metadata": {},
     "output_type": "execute_result"
    }
   ],
   "source": [
    "# Fit the model on the training data\n",
    "model.fit(X_train_scaled, y_train)"
   ]
  },
  {
   "cell_type": "code",
   "execution_count": 42,
   "metadata": {},
   "outputs": [
    {
     "name": "stdout",
     "output_type": "stream",
     "text": [
      "Fitting 5 folds for each of 8 candidates, totalling 40 fits\n",
      "Fitting 5 folds for each of 8 candidates, totalling 40 fits\n",
      "Best Parameters for ridge model: {'alpha': 5}\n",
      "Best Parameters for lasso model: {'alpha': 5}\n"
     ]
    }
   ],
   "source": [
    "# Fit GridSearchCV on the training data\n",
    "grid_search_ridge.fit(X_train_scaled, y_train)\n",
    "grid_search_lasso.fit(X_train_scaled, y_train)\n",
    "\n",
    "# Get the best parameters and best model\n",
    "\n",
    "# Ridge\n",
    "best_params_ridge = grid_search_ridge.best_params_\n",
    "best_model_ridge = grid_search_ridge.best_estimator_\n",
    "\n",
    "# Lasso\n",
    "best_params_lasso = grid_search_lasso.best_params_\n",
    "best_model_lasso = grid_search_lasso.best_estimator_\n",
    "\n",
    "print(\"Best Parameters for ridge model:\", best_params_ridge)\n",
    "print(\"Best Parameters for lasso model:\", best_params_lasso)"
   ]
  },
  {
   "cell_type": "markdown",
   "metadata": {},
   "source": [
    "## Test the Model"
   ]
  },
  {
   "cell_type": "code",
   "execution_count": 43,
   "metadata": {},
   "outputs": [],
   "source": [
    "# Predict and evaluate the model\n",
    "\n",
    "y_pred = model.predict(X_test_scaled)                  # Linear regression model\n",
    "y_pred_ridge = best_model_ridge.predict(X_test_scaled) # Ridge model\n",
    "y_pred_lasso = best_model_lasso.predict(X_test_scaled) # Lasso model"
   ]
  },
  {
   "cell_type": "markdown",
   "metadata": {},
   "source": [
    "## Interpretation of the Model"
   ]
  },
  {
   "cell_type": "code",
   "execution_count": 44,
   "metadata": {},
   "outputs": [],
   "source": [
    "coeff_df = pd.DataFrame(model.coef_,X.columns,columns=['Coefficient'])                  # Linear model cofficients\n",
    "coeff_df_ridge = pd.DataFrame(best_model_ridge.coef_,X.columns,columns=['Coefficient']) # Ridge model cofficients\n",
    "coeff_df_lasso = pd.DataFrame(best_model_lasso.coef_,X.columns,columns=['Coefficient']) # Lasso model cofficients\n"
   ]
  },
  {
   "cell_type": "code",
   "execution_count": 45,
   "metadata": {},
   "outputs": [
    {
     "data": {
      "text/html": [
       "<div>\n",
       "<style scoped>\n",
       "    .dataframe tbody tr th:only-of-type {\n",
       "        vertical-align: middle;\n",
       "    }\n",
       "\n",
       "    .dataframe tbody tr th {\n",
       "        vertical-align: top;\n",
       "    }\n",
       "\n",
       "    .dataframe thead th {\n",
       "        text-align: right;\n",
       "    }\n",
       "</style>\n",
       "<table border=\"1\" class=\"dataframe\">\n",
       "  <thead>\n",
       "    <tr style=\"text-align: right;\">\n",
       "      <th></th>\n",
       "      <th>Coefficient</th>\n",
       "    </tr>\n",
       "  </thead>\n",
       "  <tbody>\n",
       "    <tr>\n",
       "      <th>Year</th>\n",
       "      <td>20759.347755</td>\n",
       "    </tr>\n",
       "    <tr>\n",
       "      <th>Engine_Size</th>\n",
       "      <td>19446.634022</td>\n",
       "    </tr>\n",
       "    <tr>\n",
       "      <th>Mileage</th>\n",
       "      <td>-7644.996470</td>\n",
       "    </tr>\n",
       "    <tr>\n",
       "      <th>Type_Land Cruiser</th>\n",
       "      <td>10779.310186</td>\n",
       "    </tr>\n",
       "    <tr>\n",
       "      <th>Make_Hyundai</th>\n",
       "      <td>-4574.722732</td>\n",
       "    </tr>\n",
       "    <tr>\n",
       "      <th>Make_Lexus</th>\n",
       "      <td>8231.454090</td>\n",
       "    </tr>\n",
       "    <tr>\n",
       "      <th>Make_Mercedes</th>\n",
       "      <td>13390.022667</td>\n",
       "    </tr>\n",
       "    <tr>\n",
       "      <th>Origin_Gulf Arabic</th>\n",
       "      <td>1508.928517</td>\n",
       "    </tr>\n",
       "    <tr>\n",
       "      <th>Origin_Saudi</th>\n",
       "      <td>-1787.630654</td>\n",
       "    </tr>\n",
       "    <tr>\n",
       "      <th>Options_Full</th>\n",
       "      <td>6231.710470</td>\n",
       "    </tr>\n",
       "    <tr>\n",
       "      <th>Options_Standard</th>\n",
       "      <td>-4448.803783</td>\n",
       "    </tr>\n",
       "  </tbody>\n",
       "</table>\n",
       "</div>"
      ],
      "text/plain": [
       "                     Coefficient\n",
       "Year                20759.347755\n",
       "Engine_Size         19446.634022\n",
       "Mileage             -7644.996470\n",
       "Type_Land Cruiser   10779.310186\n",
       "Make_Hyundai        -4574.722732\n",
       "Make_Lexus           8231.454090\n",
       "Make_Mercedes       13390.022667\n",
       "Origin_Gulf Arabic   1508.928517\n",
       "Origin_Saudi        -1787.630654\n",
       "Options_Full         6231.710470\n",
       "Options_Standard    -4448.803783"
      ]
     },
     "execution_count": 45,
     "metadata": {},
     "output_type": "execute_result"
    }
   ],
   "source": [
    "coeff_df"
   ]
  },
  {
   "cell_type": "code",
   "execution_count": 46,
   "metadata": {},
   "outputs": [
    {
     "data": {
      "text/html": [
       "<div>\n",
       "<style scoped>\n",
       "    .dataframe tbody tr th:only-of-type {\n",
       "        vertical-align: middle;\n",
       "    }\n",
       "\n",
       "    .dataframe tbody tr th {\n",
       "        vertical-align: top;\n",
       "    }\n",
       "\n",
       "    .dataframe thead th {\n",
       "        text-align: right;\n",
       "    }\n",
       "</style>\n",
       "<table border=\"1\" class=\"dataframe\">\n",
       "  <thead>\n",
       "    <tr style=\"text-align: right;\">\n",
       "      <th></th>\n",
       "      <th>Coefficient</th>\n",
       "    </tr>\n",
       "  </thead>\n",
       "  <tbody>\n",
       "    <tr>\n",
       "      <th>Year</th>\n",
       "      <td>20682.050932</td>\n",
       "    </tr>\n",
       "    <tr>\n",
       "      <th>Engine_Size</th>\n",
       "      <td>19389.435713</td>\n",
       "    </tr>\n",
       "    <tr>\n",
       "      <th>Mileage</th>\n",
       "      <td>-7668.214315</td>\n",
       "    </tr>\n",
       "    <tr>\n",
       "      <th>Type_Land Cruiser</th>\n",
       "      <td>10762.207016</td>\n",
       "    </tr>\n",
       "    <tr>\n",
       "      <th>Make_Hyundai</th>\n",
       "      <td>-4575.157249</td>\n",
       "    </tr>\n",
       "    <tr>\n",
       "      <th>Make_Lexus</th>\n",
       "      <td>8213.324941</td>\n",
       "    </tr>\n",
       "    <tr>\n",
       "      <th>Make_Mercedes</th>\n",
       "      <td>13358.206964</td>\n",
       "    </tr>\n",
       "    <tr>\n",
       "      <th>Origin_Gulf Arabic</th>\n",
       "      <td>1516.099391</td>\n",
       "    </tr>\n",
       "    <tr>\n",
       "      <th>Origin_Saudi</th>\n",
       "      <td>-1787.036757</td>\n",
       "    </tr>\n",
       "    <tr>\n",
       "      <th>Options_Full</th>\n",
       "      <td>6227.315832</td>\n",
       "    </tr>\n",
       "    <tr>\n",
       "      <th>Options_Standard</th>\n",
       "      <td>-4455.883145</td>\n",
       "    </tr>\n",
       "  </tbody>\n",
       "</table>\n",
       "</div>"
      ],
      "text/plain": [
       "                     Coefficient\n",
       "Year                20682.050932\n",
       "Engine_Size         19389.435713\n",
       "Mileage             -7668.214315\n",
       "Type_Land Cruiser   10762.207016\n",
       "Make_Hyundai        -4575.157249\n",
       "Make_Lexus           8213.324941\n",
       "Make_Mercedes       13358.206964\n",
       "Origin_Gulf Arabic   1516.099391\n",
       "Origin_Saudi        -1787.036757\n",
       "Options_Full         6227.315832\n",
       "Options_Standard    -4455.883145"
      ]
     },
     "execution_count": 46,
     "metadata": {},
     "output_type": "execute_result"
    }
   ],
   "source": [
    "coeff_df_ridge"
   ]
  },
  {
   "cell_type": "code",
   "execution_count": 47,
   "metadata": {},
   "outputs": [
    {
     "data": {
      "text/html": [
       "<div>\n",
       "<style scoped>\n",
       "    .dataframe tbody tr th:only-of-type {\n",
       "        vertical-align: middle;\n",
       "    }\n",
       "\n",
       "    .dataframe tbody tr th {\n",
       "        vertical-align: top;\n",
       "    }\n",
       "\n",
       "    .dataframe thead th {\n",
       "        text-align: right;\n",
       "    }\n",
       "</style>\n",
       "<table border=\"1\" class=\"dataframe\">\n",
       "  <thead>\n",
       "    <tr style=\"text-align: right;\">\n",
       "      <th></th>\n",
       "      <th>Coefficient</th>\n",
       "    </tr>\n",
       "  </thead>\n",
       "  <tbody>\n",
       "    <tr>\n",
       "      <th>Year</th>\n",
       "      <td>20752.878053</td>\n",
       "    </tr>\n",
       "    <tr>\n",
       "      <th>Engine_Size</th>\n",
       "      <td>19441.922939</td>\n",
       "    </tr>\n",
       "    <tr>\n",
       "      <th>Mileage</th>\n",
       "      <td>-7643.006557</td>\n",
       "    </tr>\n",
       "    <tr>\n",
       "      <th>Type_Land Cruiser</th>\n",
       "      <td>10774.961504</td>\n",
       "    </tr>\n",
       "    <tr>\n",
       "      <th>Make_Hyundai</th>\n",
       "      <td>-4571.517934</td>\n",
       "    </tr>\n",
       "    <tr>\n",
       "      <th>Make_Lexus</th>\n",
       "      <td>8227.224592</td>\n",
       "    </tr>\n",
       "    <tr>\n",
       "      <th>Make_Mercedes</th>\n",
       "      <td>13385.864757</td>\n",
       "    </tr>\n",
       "    <tr>\n",
       "      <th>Origin_Gulf Arabic</th>\n",
       "      <td>1508.175873</td>\n",
       "    </tr>\n",
       "    <tr>\n",
       "      <th>Origin_Saudi</th>\n",
       "      <td>-1785.902767</td>\n",
       "    </tr>\n",
       "    <tr>\n",
       "      <th>Options_Full</th>\n",
       "      <td>6230.549435</td>\n",
       "    </tr>\n",
       "    <tr>\n",
       "      <th>Options_Standard</th>\n",
       "      <td>-4447.187994</td>\n",
       "    </tr>\n",
       "  </tbody>\n",
       "</table>\n",
       "</div>"
      ],
      "text/plain": [
       "                     Coefficient\n",
       "Year                20752.878053\n",
       "Engine_Size         19441.922939\n",
       "Mileage             -7643.006557\n",
       "Type_Land Cruiser   10774.961504\n",
       "Make_Hyundai        -4571.517934\n",
       "Make_Lexus           8227.224592\n",
       "Make_Mercedes       13385.864757\n",
       "Origin_Gulf Arabic   1508.175873\n",
       "Origin_Saudi        -1785.902767\n",
       "Options_Full         6230.549435\n",
       "Options_Standard    -4447.187994"
      ]
     },
     "execution_count": 47,
     "metadata": {},
     "output_type": "execute_result"
    }
   ],
   "source": [
    "coeff_df_lasso"
   ]
  },
  {
   "cell_type": "code",
   "execution_count": 48,
   "metadata": {},
   "outputs": [
    {
     "name": "stdout",
     "output_type": "stream",
     "text": [
      " Linear regression intercept: 73163.44180327845\n"
     ]
    }
   ],
   "source": [
    "print(f\" Linear regression intercept: {model.intercept_}\") "
   ]
  },
  {
   "cell_type": "code",
   "execution_count": 49,
   "metadata": {},
   "outputs": [
    {
     "name": "stdout",
     "output_type": "stream",
     "text": [
      " Ridge model intercept: 73163.44180327845\n"
     ]
    }
   ],
   "source": [
    "print(f\" Ridge model intercept: {best_model_ridge.intercept_}\") "
   ]
  },
  {
   "cell_type": "code",
   "execution_count": 50,
   "metadata": {},
   "outputs": [
    {
     "name": "stdout",
     "output_type": "stream",
     "text": [
      " Lasso model intercept: 73163.44180327845\n"
     ]
    }
   ],
   "source": [
    "print(f\" Lasso model intercept: {best_model_lasso.intercept_}\") "
   ]
  },
  {
   "cell_type": "markdown",
   "metadata": {},
   "source": [
    "## Evaluating the Model "
   ]
  },
  {
   "cell_type": "markdown",
   "metadata": {},
   "source": [
    "1. Mean Square Error"
   ]
  },
  {
   "cell_type": "code",
   "execution_count": 51,
   "metadata": {},
   "outputs": [],
   "source": [
    "y_base = [y_train.mean()] * len(y_test)"
   ]
  },
  {
   "cell_type": "code",
   "execution_count": 52,
   "metadata": {},
   "outputs": [
    {
     "name": "stdout",
     "output_type": "stream",
     "text": [
      "Mean Squared Error of base model: 2.344983e+09\n"
     ]
    }
   ],
   "source": [
    "# our benchmark model\n",
    "mse_base = mean_squared_error(y_test, y_base )\n",
    "print(f'Mean Squared Error of base model: {mse_base:2e}')"
   ]
  },
  {
   "cell_type": "code",
   "execution_count": 53,
   "metadata": {},
   "outputs": [
    {
     "name": "stdout",
     "output_type": "stream",
     "text": [
      "Mean Squared Error for training: 7.337752e+08\n",
      "Mean Squared Error for testing: 8.513587e+08\n"
     ]
    }
   ],
   "source": [
    "# MSE for Linear model\n",
    "mse_train = mean_squared_error(y_train, model.predict(X_train_scaled))\n",
    "mse_test = mean_squared_error(y_test, y_pred)\n",
    "print(f'Mean Squared Error for training: {mse_train:2e}')\n",
    "print(f'Mean Squared Error for testing: {mse_test:2e}')\n"
   ]
  },
  {
   "cell_type": "code",
   "execution_count": 54,
   "metadata": {},
   "outputs": [
    {
     "name": "stdout",
     "output_type": "stream",
     "text": [
      "Mean Squared Error for training ridge model: 7.337819e+08\n",
      "Mean Squared Error for testing ridge model: 8.515250e+08\n"
     ]
    }
   ],
   "source": [
    "# MSE for Ridge model\n",
    "mse_train_ridge = mean_squared_error(y_train, best_model_ridge.predict(X_train_scaled))\n",
    "mse_test_ridge = mean_squared_error(y_test, y_pred_ridge)\n",
    "print(f'Mean Squared Error for training ridge model: {mse_train_ridge:2e}')\n",
    "print(f'Mean Squared Error for testing ridge model: {mse_test_ridge:2e}')\n"
   ]
  },
  {
   "cell_type": "code",
   "execution_count": 55,
   "metadata": {},
   "outputs": [
    {
     "name": "stdout",
     "output_type": "stream",
     "text": [
      "Mean Squared Error for training lasso model: 7.337753e+08\n",
      "Mean Squared Error for testing lasso model: 8.513460e+08\n"
     ]
    }
   ],
   "source": [
    "# MSE Lasso model\n",
    "mse_train_lasso = mean_squared_error(y_train, best_model_lasso.predict(X_train_scaled))\n",
    "mse_test_lasso = mean_squared_error(y_test, y_pred_lasso)\n",
    "print(f'Mean Squared Error for training lasso model: {mse_train_lasso:2e}')\n",
    "print(f'Mean Squared Error for testing lasso model: {mse_test_lasso:2e}')"
   ]
  },
  {
   "cell_type": "markdown",
   "metadata": {},
   "source": [
    "2. Mean Absolute Error"
   ]
  },
  {
   "cell_type": "code",
   "execution_count": 56,
   "metadata": {},
   "outputs": [
    {
     "name": "stdout",
     "output_type": "stream",
     "text": [
      "Mean Absolute  Error of base model: 3.653555e+04\n"
     ]
    }
   ],
   "source": [
    "# our benchmark model\n",
    "mae_base = mean_absolute_error(y_test, y_base )\n",
    "print(f'Mean Absolute  Error of base model: {mae_base:2e}')"
   ]
  },
  {
   "cell_type": "code",
   "execution_count": 57,
   "metadata": {},
   "outputs": [
    {
     "name": "stdout",
     "output_type": "stream",
     "text": [
      "Mean Absolute Error for training: 1.929059e+04\n",
      "Mean Absolute Error for testing: 2.099707e+04\n"
     ]
    }
   ],
   "source": [
    "# Linear model\n",
    "mae_train = mean_absolute_error(y_train, model.predict(X_train_scaled))\n",
    "mae_test = mean_absolute_error(y_test, y_pred)\n",
    "print(f'Mean Absolute Error for training: {mae_train:2e}')\n",
    "print(f'Mean Absolute Error for testing: {mae_test:2e}')"
   ]
  },
  {
   "cell_type": "code",
   "execution_count": 58,
   "metadata": {},
   "outputs": [
    {
     "name": "stdout",
     "output_type": "stream",
     "text": [
      "Mean Absolute Error for training ridge model: 1.929303e+04\n",
      "Mean Absolute Error for testing ridge model: 2.099676e+04\n"
     ]
    }
   ],
   "source": [
    "# MSE for Ridge model\n",
    "mae_train_ridge = mean_absolute_error(y_train, best_model_ridge.predict(X_train_scaled))\n",
    "mae_test_ridge = mean_absolute_error(y_test, y_pred_ridge)\n",
    "print(f'Mean Absolute Error for training ridge model: {mae_train_ridge:2e}')\n",
    "print(f'Mean Absolute Error for testing ridge model: {mae_test_ridge:2e}')"
   ]
  },
  {
   "cell_type": "code",
   "execution_count": 59,
   "metadata": {},
   "outputs": [
    {
     "name": "stdout",
     "output_type": "stream",
     "text": [
      "Mean Absolute Error for training lasso model: 1.929062e+04\n",
      "Mean Absolute Error for testing lasso model: 2.099590e+04\n"
     ]
    }
   ],
   "source": [
    "# Lasso model\n",
    "mae_train_lasso = mean_absolute_error(y_train, best_model_lasso.predict(X_train_scaled))\n",
    "mae_test_lasso = mean_absolute_error(y_test, y_pred_lasso)\n",
    "print(f'Mean Absolute Error for training lasso model: {mae_train_lasso:2e}')\n",
    "print(f'Mean Absolute Error for testing lasso model: {mae_test_lasso:2e}')"
   ]
  },
  {
   "cell_type": "markdown",
   "metadata": {},
   "source": [
    "3. Root Mean Squared Error"
   ]
  },
  {
   "cell_type": "code",
   "execution_count": 60,
   "metadata": {},
   "outputs": [
    {
     "name": "stdout",
     "output_type": "stream",
     "text": [
      "Root Mean Squared  Error of base model: 4.842502e+04\n"
     ]
    }
   ],
   "source": [
    "# our benchmark model\n",
    "print(f'Root Mean Squared  Error of base model: {np.sqrt(mse_base):2e}')"
   ]
  },
  {
   "cell_type": "code",
   "execution_count": 61,
   "metadata": {},
   "outputs": [
    {
     "name": "stdout",
     "output_type": "stream",
     "text": [
      "Root Mean Squared Error for training: 2.708828e+04\n",
      "Root Mean Squared Error for testing: 2.917805e+04\n"
     ]
    }
   ],
   "source": [
    "# RMSE for Linear model\n",
    "\n",
    "print(f'Root Mean Squared Error for training: {np.sqrt(mse_train):2e}')\n",
    "print(f'Root Mean Squared Error for testing: {np.sqrt(mse_test):2e}')"
   ]
  },
  {
   "cell_type": "code",
   "execution_count": 62,
   "metadata": {},
   "outputs": [
    {
     "name": "stdout",
     "output_type": "stream",
     "text": [
      "Root Mean Squared Error for training ridge model: 2.708841e+04\n",
      "Root Mean Squared Error for testing ridge model: 2.918090e+04\n"
     ]
    }
   ],
   "source": [
    "# RMSE for Ridge model\n",
    "\n",
    "print(f'Root Mean Squared Error for training ridge model: {np.sqrt(mse_train_ridge):2e}')\n",
    "print(f'Root Mean Squared Error for testing ridge model: {np.sqrt(mse_test_ridge):2e}')\n"
   ]
  },
  {
   "cell_type": "code",
   "execution_count": 63,
   "metadata": {},
   "outputs": [
    {
     "name": "stdout",
     "output_type": "stream",
     "text": [
      "Root Mean Squared Error for training lasso model: 2.708829e+04\n",
      "Root Mean Squared Error for testing lasso model: 2.917783e+04\n"
     ]
    }
   ],
   "source": [
    "# RMSE Lasso model\n",
    "\n",
    "print(f'Root Mean Squared Error for training lasso model: {np.sqrt(mse_train_lasso):2e}')\n",
    "print(f'Root Mean Squared Error for testing lasso model: {np.sqrt(mse_test_lasso):2e}')"
   ]
  },
  {
   "cell_type": "markdown",
   "metadata": {},
   "source": [
    "4. R Square"
   ]
  },
  {
   "cell_type": "code",
   "execution_count": 64,
   "metadata": {},
   "outputs": [
    {
     "name": "stdout",
     "output_type": "stream",
     "text": [
      "R Square for training: 0.6714031292457785\n",
      "R Square for testing: 0.6369445589500062\n"
     ]
    }
   ],
   "source": [
    "# Linear model r2 score\n",
    "r2_score_train = r2_score(y_train, model.predict(X_train_scaled))\n",
    "r2_score_test = r2_score(y_test, y_pred)\n",
    "print(f'R Square for training: {r2_score_train}')\n",
    "print(f'R Square for testing: {r2_score_test}')"
   ]
  },
  {
   "cell_type": "code",
   "execution_count": 65,
   "metadata": {},
   "outputs": [
    {
     "name": "stdout",
     "output_type": "stream",
     "text": [
      "R Square for training ridge model: 0.6714001269889636\n",
      "R Square for testing ridge model: 0.6368736502971999\n"
     ]
    }
   ],
   "source": [
    "# Ridge model r2 score\n",
    "r2_score_train_ridge = r2_score(y_train, best_model_ridge.predict(X_train_scaled))\n",
    "r2_score_test_ridge = r2_score(y_test, y_pred_ridge)\n",
    "print(f'R Square for training ridge model: {r2_score_train_ridge}')\n",
    "print(f'R Square for testing ridge model: {r2_score_test_ridge}')"
   ]
  },
  {
   "cell_type": "code",
   "execution_count": 66,
   "metadata": {},
   "outputs": [
    {
     "name": "stdout",
     "output_type": "stream",
     "text": [
      "R Square for training lasso model: 0.671403052385976\n",
      "R Square for testing lasso model: 0.6369500081543891\n"
     ]
    }
   ],
   "source": [
    "# Lasso model r2 score\n",
    "r2_score_train_lasso = r2_score(y_train, best_model_lasso.predict(X_train_scaled))\n",
    "r2_score_test_lasso = r2_score(y_test, y_pred_lasso)\n",
    "print(f'R Square for training lasso model: {r2_score_train_lasso}')\n",
    "print(f'R Square for testing lasso model: {r2_score_test_lasso}')"
   ]
  },
  {
   "cell_type": "markdown",
   "metadata": {},
   "source": [
    "#### Predictions vs. Real Values"
   ]
  },
  {
   "cell_type": "code",
   "execution_count": 67,
   "metadata": {},
   "outputs": [],
   "source": [
    "predictions = model.predict(X_test_scaled)\n",
    "#predictions"
   ]
  },
  {
   "cell_type": "code",
   "execution_count": 68,
   "metadata": {},
   "outputs": [
    {
     "data": {
      "text/plain": [
       "array([ 71543.76261634,  47939.04421318, 122753.84326527, 116516.49115559,\n",
       "        88972.22774722,  61427.13453677,  57965.02676276,  75391.41450819,\n",
       "       110111.05305779,  93412.42395385,  82585.354589  ,  36659.90816165,\n",
       "       124439.64092937,  39280.16381631,  50358.62152237, 114683.61337315,\n",
       "        84782.9224263 ,  58618.09318216, 147151.28099835,   9804.86834902,\n",
       "        48469.573397  , 102292.32007451,  49006.78849853,  30410.75176983,\n",
       "        86688.78483439,  38062.87830728,  62619.89165872,  59703.87534607,\n",
       "        59337.97345132,  93392.64655203,  46007.39264028,  59530.86679386,\n",
       "        70733.93370596, 105857.70157222,  60320.18492201,  13552.51820606,\n",
       "       132390.84991418, 100823.12503458,  -3890.42748896,  58563.06464282,\n",
       "        98117.41221076,  95479.45894275, 126246.01504499,  70710.98489095,\n",
       "       102530.44054747,  90850.42161589,  56562.27893568,  41301.72327253,\n",
       "        70400.24414783,  59973.99055316,  49894.46626273,  69279.81481491,\n",
       "       181350.95548173,  56886.61785363,  37520.34707618, 179295.40627132,\n",
       "        43964.90758924,  94567.8556239 ,  96120.26217297,  49223.88266418,\n",
       "       121048.72000793,  72911.10254361,  50530.85185979,  66457.30462121,\n",
       "       156192.34795988,  47491.95319818,  63761.54488443,  73617.30889803,\n",
       "        12107.09053308,  30969.1781217 ,  69615.61856333,  37826.67190287,\n",
       "        55915.38707502, 132539.08740283,  93279.64011599,  89614.78898041,\n",
       "       105366.6805584 ,  82707.08799829,  77643.52470395,  41808.21922511,\n",
       "        34249.24067805,  38703.75661307,  40099.52352623,  41347.21839357,\n",
       "        47552.32219842,  23787.34101706,  88700.40218438,  59712.86465545,\n",
       "        96867.16895041,  53739.94602048,  66484.46831897, 112221.95695107,\n",
       "        51214.3637815 ,  73689.23612946,  61319.66436274,  61426.07005791,\n",
       "        63297.48579886,  77616.67025409,   7580.79936747,  50460.81022982,\n",
       "       -16038.36436039,  64946.52695735,  67550.17596319,  97192.27364414,\n",
       "       116138.47657781, 102268.414982  , 119032.76872457,  56797.58516689,\n",
       "        50899.20862337, 140105.68633305, 121988.23731618,  39418.13665312,\n",
       "        66876.99238465,  15542.07158843,  71949.29296523,  84753.50290868,\n",
       "        36728.42866117,   6573.94933398, 151914.30604876,  14730.29704652,\n",
       "       124279.1883222 ,  50005.4781175 ,  43349.32782057,  42291.81441877,\n",
       "        58003.92390819,  23985.49586795,  97360.25846935,  81702.09274123,\n",
       "        62520.96239447,  89548.30220224,  40923.30327279,  69238.54578835,\n",
       "        63138.83320211,  31846.26283191,  51286.08006877,  67225.21680652,\n",
       "       134085.04405516, 107608.8971412 , -12215.07459357,  60546.68005638,\n",
       "        41160.98732862,  53318.9604388 ,  28263.39115382,  70118.62935728,\n",
       "       104041.71366579, 168860.18747861,  73392.16930109,  67112.29488439,\n",
       "       -11971.090372  ,  82405.07281687,  70340.65015382, -37275.36788393,\n",
       "        56356.11003279, 133453.5782415 , 155237.12880959,  68262.83487517,\n",
       "        37857.66684917,  92348.27066432,  97834.62597945, 114620.02427301,\n",
       "        84149.8583572 ,   9628.32254143,  23424.46922921,  60176.63627099,\n",
       "        88356.35443383,  79186.36105445, 151879.92625207,  74468.49102145,\n",
       "        79006.49751002,  98853.94449776,  43963.93705961,  76024.2678164 ,\n",
       "       103381.08692511,  53386.30884611,  31444.2496894 , 120613.36099887,\n",
       "        90901.56405665,  79503.58968446,  31135.99502347,  58185.58873937,\n",
       "        95162.04595443,  41855.08377413,  51125.52387227,  13539.37531637,\n",
       "       145299.23495644,  78085.72364199, 109293.56084017, 123699.50318858,\n",
       "       132014.61000311,  74963.73208249,  54728.24019454,  24146.84080543,\n",
       "        77418.51922073,  95418.41797802, 154430.53933918,  62302.26023323,\n",
       "        75614.52699919,  59800.420854  , 135022.9772996 ,  65162.37766429,\n",
       "        40319.65721988, 129166.94820661, 154266.28937942,  55106.9536761 ,\n",
       "        73235.73529326,  29516.62293394,  61901.33448588,  95459.46652028,\n",
       "        82773.12364685,  80861.87376443,  97186.53673316,  95091.54584099,\n",
       "        39289.27518937, 165983.38109747,  95603.48726064,  31002.4474837 ,\n",
       "       150487.91543554,  98274.61963911,  86122.51154604,  84729.21491779,\n",
       "        69843.70901905, 167706.36884868,  72283.87997121, -21848.85133751,\n",
       "        61854.07814371,  80208.75181926, 153108.17109019,  37989.6060234 ,\n",
       "        88987.13185803,  31766.87482835,  49260.40673297,  45023.18107357,\n",
       "        47584.42153335,  32231.73504   , 135556.69727311,  61050.2948675 ,\n",
       "        83050.82803109,  63043.62687008, 105306.24217968,  69556.33728509,\n",
       "        39577.62995605, 110645.36320168,  37710.69059859,    928.29357703,\n",
       "        12404.92616108,  61428.96926509, 109881.91988388,  39926.88806952,\n",
       "        55533.10199884,  62833.70063185,  60719.53663189,  23012.81660836,\n",
       "        33153.6941983 ,  63385.82134563,  29662.33360036,  68586.48073342,\n",
       "        43360.60171652,  43894.99447536,  45179.54678751,  95653.34388968,\n",
       "        55733.10630719,  66700.38712986,  62763.66198918,  82612.48445886,\n",
       "        69742.01777265,  53695.86013008,  63953.5924307 , 160583.55150962,\n",
       "        84086.3782646 , 122513.48925307,  19519.78438734,  60129.56449373,\n",
       "        61048.79216442,  62424.14797581,  40300.85038719,  73445.090906  ,\n",
       "       115277.80018294, 131569.96519962, 154824.555067  ,  36825.7212148 ,\n",
       "        12183.967619  ,  84211.06253268,  57638.52381167,  98117.7147429 ,\n",
       "        69690.81151463, 109188.57178968,  54805.55851232,  77029.64747327,\n",
       "        38343.97990327,  73057.94638454, 147658.38799267,  74693.13530417,\n",
       "       106339.99925952,  66879.27561189,  85801.4674761 ,  59655.717592  ,\n",
       "       139359.62967008,  57173.18282393,  38618.51734312,  85669.00950942,\n",
       "        25917.25059955, 116234.22342226, 184945.61870796,  47041.59675754,\n",
       "        97513.11552688,  48498.84476761,  71087.3854173 ,  88885.9136886 ,\n",
       "        45858.81321256,  51777.59504995, 145790.53289169,  91049.76760587,\n",
       "        82580.23970589,  99621.30487748,  74181.94455843,  65128.2791061 ,\n",
       "        64580.34094861,  84511.74154108,  28007.25661058,  79572.09080221,\n",
       "        60446.3733946 , 126785.88896202,  97335.31065865,  36984.21383971,\n",
       "        91430.71491771,  94881.68871077,  51374.81262604,  64059.9479757 ,\n",
       "        52855.2889913 ,  45222.54735931,  94017.54309816,  56338.12918142,\n",
       "        93825.11532884,   8004.07159438,  78401.78424486, 104729.80114855,\n",
       "       139772.89734837,  63186.53097129,  49228.79564353,  84292.81320688,\n",
       "        51604.05477976,  99132.14400988,  88388.89853302,  51463.93205108,\n",
       "        72788.85031977,  37478.73805373,  63115.58943084,  52725.96383096,\n",
       "       144125.66301642,  83553.39833215,  56467.60095999,  10041.05907897,\n",
       "        60382.98565852,  90181.27065749, -35656.29782264,  58058.47719263,\n",
       "       143170.63813653,  50493.65875378,  36414.25919403,  35660.75885201,\n",
       "        79840.52355621,  42896.55925424,  92978.71951549,  95587.29883954,\n",
       "        71073.71095811,  38069.37001171, 101122.05313309,  53428.60493195,\n",
       "       186910.81044895, 147348.96162511,  40996.48031089, 127727.15930005,\n",
       "        83904.20938958,  42026.4023565 , 146656.86597628,  39924.75973534,\n",
       "        71833.44164735,  42482.36187526,  72236.01963602,  95709.21432304,\n",
       "        71102.27828832,  91620.95244762,  59962.81382863, 110411.74861516,\n",
       "       194058.91850092,  73229.70042251, 141386.18845883, 140321.82364827,\n",
       "        99424.17606486, 104368.52075728,  54236.64658482, 159395.7777079 ,\n",
       "        41744.66346428, 106385.0531325 ,  97465.36073576,  64476.92530423,\n",
       "        75917.52787159,  45490.5127849 ,  95907.33401919,  23324.21717129,\n",
       "       147934.28433054, 103032.87615454,  73140.14351654,  92334.62024989,\n",
       "        99220.73805017,  88497.11823307,  84379.2835744 ,  62708.35654397,\n",
       "        84080.88048312,  68368.67310706,  62002.15018955,  79066.90206085,\n",
       "       100914.8830832 ,  36670.77663565,  42920.59284728,  24313.83306262,\n",
       "        88671.22714625,  77220.26790156, 157253.43933048,  44910.2179972 ,\n",
       "        81329.2110814 ,  52766.82344257,  69117.63059018,  36109.65794305,\n",
       "       126106.20430926,  43887.20274191,  61163.14014751,   6636.09025069,\n",
       "        84955.12181292,  74944.99523725,  36296.90517307, 163643.96265877,\n",
       "        70927.27863414,  61456.48353476,  98664.2828096 ,  92764.85531593,\n",
       "        38881.61734427,  59814.75308711, 149288.25765635,  25005.94466426,\n",
       "        67926.90592967,  60452.0055769 ,  68022.7940804 ,  65441.23573628,\n",
       "       134641.19067237,  50254.18542229,  62739.09709242,  54867.69942903,\n",
       "        51686.63814719,  60010.10399869, 209851.38859369,  70391.79259458,\n",
       "        95899.89577064,  72520.75031398,  55552.16144524,  65028.92158306,\n",
       "        14744.24638126,  83000.27022951,  65784.75406667,  83323.37965092,\n",
       "        92557.24383904,  61588.33183181,  45987.93640923, 127579.25617258,\n",
       "        50173.62109474, 164713.39516709,  68972.92732818,  13124.89864026,\n",
       "        52029.8765397 ,  45123.23931348,  58298.48296073, 168969.59746096,\n",
       "        72508.97156798,  50854.62621856,  49684.63619857, 192424.15224734,\n",
       "       113831.67187381, 113428.84115677, 168421.76518444,  58853.8885498 ,\n",
       "        72604.35537746, 135842.81245747, 102593.04773165,  53971.5778196 ,\n",
       "        81298.05853266,  13399.85818198, 142068.76664217,  80310.11208127,\n",
       "         2730.78159407, 136180.95005176,  43343.8271261 ,  89976.61483607,\n",
       "        57951.43063382,  32739.44129058,  85932.49391037,  85428.96871465,\n",
       "        56412.8606464 , 174984.44175259,  92340.57169994,  79812.80654029,\n",
       "        46084.79402865,    465.32549166,  47247.06793247, 110849.72203493,\n",
       "        65965.60028727, 109386.11105856,  76220.09398288,  43398.47126563,\n",
       "        30028.85109347,  45895.23490863,  71299.34243324,  58326.63602807,\n",
       "        51521.67377406,  75591.31555437,  37842.23583349,  95132.9989721 ,\n",
       "        30516.26293013, 111095.61259465,  86199.88244475,  40258.27229704,\n",
       "        53532.60425473,  69431.98051046,  82423.56968297,  76810.74547713,\n",
       "        71656.68341377,  29275.11297688,  45196.21076453, 102693.66786711,\n",
       "        13559.35516343,  52370.85360477, 106950.3206935 ,  12294.63329082,\n",
       "        92088.28946357, 195545.76907339,  53601.60166509, 106311.75057467,\n",
       "        63816.29650234,  68739.33909097, 151961.80924128, -33636.50008467,\n",
       "        69081.66476725,  56191.81423653,  47622.74694881, 109212.30384287,\n",
       "        73284.33327392,  87579.51331094,  68791.32591643,  66762.77043327,\n",
       "       142648.27258123,  93412.42395385, 161910.12764844, 131074.00926703,\n",
       "        70874.91845387,  40835.94061126,  49489.74677332,  59619.02767164,\n",
       "        93936.34954044, 110047.68335656, 126914.58965187,  64911.2404905 ,\n",
       "        76142.50102835,  90228.94163108,  95186.38559693,  53239.45005033,\n",
       "         6726.53377297, 109186.63339714,  46834.45198551, 145813.34678258,\n",
       "        99387.55042213, 118347.53137933,  75284.42170635,  55190.24770348,\n",
       "        66396.70025104, 109888.42946864, 108911.6601638 ,  32751.63322173,\n",
       "        85657.16664875,  36349.82723834,  74860.27036907,  82210.30231747,\n",
       "        41000.23640752, 102024.0518261 , 135183.58448145,  38104.2279927 ,\n",
       "       130108.08197413,  58422.31412556,  86280.38343008, 110924.10824696,\n",
       "        61120.99631729,  99652.04542594,  68558.01460065,  36881.23149296,\n",
       "       116693.87939715,  80001.99999708,  72217.50634804,  57960.34909342,\n",
       "       156527.15366493,  88843.38337211,  13013.13616723,  84672.50462784,\n",
       "        26933.28347943,  62638.60846035,  86445.7207893 ,  90448.04860692,\n",
       "       152729.43058228,  50704.57209455,  56784.31518823,  97874.90765425,\n",
       "        60008.59979418,  97015.89996948,  65328.61219862])"
      ]
     },
     "execution_count": 68,
     "metadata": {},
     "output_type": "execute_result"
    }
   ],
   "source": [
    "predictions"
   ]
  },
  {
   "cell_type": "code",
   "execution_count": 69,
   "metadata": {},
   "outputs": [],
   "source": [
    "Real_Values = np.array(y_test)\n",
    "# Real_Values"
   ]
  },
  {
   "cell_type": "code",
   "execution_count": 70,
   "metadata": {},
   "outputs": [
    {
     "data": {
      "image/png": "[encoded data removed]",
      "text/plain": [
       "<Figure size 1500x500 with 3 Axes>"
      ]
     },
     "metadata": {},
     "output_type": "display_data"
    }
   ],
   "source": [
    "# Linear Model\n",
    "plt.figure(figsize=(15, 5))\n",
    "\n",
    "plt.subplot(1, 3, 1)\n",
    "plt.scatter(y_test, y_pred)\n",
    "plt.plot([y_test.min(), y_test.max()], [y_test.min(), y_test.max()], color='red', lw=1)\n",
    "plt.xlabel('Real Values')\n",
    "plt.ylabel('Predictions')\n",
    "plt.title('Linear Model: Real Values vs Predictions')\n",
    "\n",
    "# Ridge Model\n",
    "plt.subplot(1, 3, 2)\n",
    "plt.scatter(y_test, y_pred_ridge)\n",
    "plt.plot([y_test.min(), y_test.max()], [y_test.min(), y_test.max()], color='red', lw=1)\n",
    "plt.xlabel('Real Values')\n",
    "plt.ylabel('Predictions')\n",
    "plt.title('Ridge Model: Real Values vs Predictions')\n",
    "\n",
    "# Lasso Model\n",
    "plt.subplot(1, 3, 3)\n",
    "plt.scatter(y_test, y_pred_lasso)\n",
    "plt.plot([y_test.min(), y_test.max()], [y_test.min(), y_test.max()], color='red', lw=1)\n",
    "plt.xlabel('Real Values')\n",
    "plt.ylabel('Predictions')\n",
    "plt.title('Lasso Model: Real Values vs Predictions')\n",
    "\n",
    "plt.tight_layout()\n",
    "plt.show()"
   ]
  },
  {
   "cell_type": "markdown",
   "metadata": {},
   "source": [
    "#### Residual Histogram"
   ]
  },
  {
   "cell_type": "code",
   "execution_count": 72,
   "metadata": {},
   "outputs": [
    {
     "data": {
      "image/png": "[encoded data removed]",
      "text/plain": [
       "<Figure size 1500x500 with 3 Axes>"
      ]
     },
     "metadata": {},
     "output_type": "display_data"
    }
   ],
   "source": [
    "plt.figure(figsize=(15, 5))\n",
    "\n",
    "plt.subplot(1, 3, 1)\n",
    "sns.distplot((y_test - y_pred), bins=50)\n",
    "plt.title('Linear Model Residuals')\n",
    "\n",
    "plt.subplot(1, 3, 2)\n",
    "sns.distplot((y_test - y_pred_ridge), bins=50)\n",
    "plt.title('Ridge Model Residuals')\n",
    "\n",
    "plt.subplot(1, 3, 3)\n",
    "sns.distplot((y_test - y_pred_lasso), bins=50)\n",
    "plt.title('Lasso Model Residuals')\n",
    "\n",
    "plt.tight_layout()\n",
    "plt.show()"
   ]
  },
  {
   "cell_type": "code",
   "execution_count": null,
   "metadata": {},
   "outputs": [],
   "source": []
  }
 ],
 "metadata": {
  "kernelspec": {
   "display_name": "Python 3",
   "language": "python",
   "name": "python3"
  },
  "language_info": {
   "codemirror_mode": {
    "name": "ipython",
    "version": 3
   },
   "file_extension": ".py",
   "mimetype": "text/x-python",
   "name": "python",
   "nbconvert_exporter": "python",
   "pygments_lexer": "ipython3",
   "version": "3.9.12"
  }
 },
 "nbformat": 4,
 "nbformat_minor": 4
}
